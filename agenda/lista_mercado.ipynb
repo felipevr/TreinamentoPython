{
 "cells": [
  {
   "cell_type": "markdown",
   "metadata": {},
   "source": [
    "# Ordenando listas no Python\n"
   ]
  },
  {
   "cell_type": "code",
   "execution_count": 1,
   "metadata": {},
   "outputs": [],
   "source": [
    "class Produto(object): \n",
    "  def __init__(self, nome, valor): \n",
    "    self.__nome = nome \n",
    "    self.__valor = valor \n",
    "\n",
    "  def __repr__(self): \n",
    "    return \"nome:%s valor:%s\" % (self.__nome, self.__valor)\n",
    "\n",
    "  def get_nome(self): \n",
    "    return self.__nome\n",
    "\n",
    "  def get_valor(self): \n",
    "    return self.__valor"
   ]
  },
  {
   "cell_type": "code",
   "execution_count": 7,
   "metadata": {},
   "outputs": [
    {
     "data": {
      "text/plain": [
       "[nome:chocolate valor:3.45,\n",
       " nome:biscoito valor:2.49,\n",
       " nome:cafe valor:3.45,\n",
       " nome:suco valor:4.3,\n",
       " nome:feijao valor:10.0,\n",
       " nome:arroz valor:8.5]"
      ]
     },
     "execution_count": 7,
     "metadata": {},
     "output_type": "execute_result"
    }
   ],
   "source": [
    "def lista_produtos():\n",
    "    return [Produto('chocolate', 3.45), Produto('biscoito', 2.49), Produto('cafe', 3.45), Produto('suco', 4.3), Produto('feijao', 10.0), Produto('arroz', 8.5)]\n",
    "\n",
    "lista_produtos()"
   ]
  },
  {
   "cell_type": "code",
   "execution_count": 5,
   "metadata": {},
   "outputs": [
    {
     "name": "stdout",
     "output_type": "stream",
     "text": [
      "[4, 2, 6, 1, 3]\n",
      "[1, 2, 3, 4, 6]\n"
     ]
    }
   ],
   "source": [
    "numeros = [4,2,6,1,3] \n",
    "numeros_ordenados = sorted(numeros)\n",
    "\n",
    "print (numeros)\n",
    "print (numeros_ordenados)"
   ]
  },
  {
   "cell_type": "code",
   "execution_count": 6,
   "metadata": {},
   "outputs": [
    {
     "name": "stdout",
     "output_type": "stream",
     "text": [
      "['chocolate', 'biscoito', 'cafe', 'suco', 'feijao', 'arroz']\n",
      "['arroz', 'biscoito', 'cafe', 'chocolate', 'feijao', 'suco']\n"
     ]
    }
   ],
   "source": [
    "palavras = [\"chocolate\",\"biscoito\", \"cafe\", \"suco\", \"feijao\", \"arroz\"] \n",
    "palavras_ordenadas = sorted(palavras)\n",
    "\n",
    "print (palavras )\n",
    "print (palavras_ordenadas)"
   ]
  },
  {
   "cell_type": "code",
   "execution_count": 13,
   "metadata": {},
   "outputs": [
    {
     "name": "stdout",
     "output_type": "stream",
     "text": [
      "[nome:chocolate valor:3.45, nome:biscoito valor:2.49, nome:cafe valor:3.45, nome:suco valor:4.3, nome:feijao valor:10.0, nome:arroz valor:8.5]\n"
     ]
    },
    {
     "data": {
      "text/plain": [
       "[nome:biscoito valor:2.49,\n",
       " nome:chocolate valor:3.45,\n",
       " nome:cafe valor:3.45,\n",
       " nome:suco valor:4.3,\n",
       " nome:arroz valor:8.5,\n",
       " nome:feijao valor:10.0]"
      ]
     },
     "execution_count": 13,
     "metadata": {},
     "output_type": "execute_result"
    }
   ],
   "source": [
    "produtos = lista_produtos() \n",
    "produtos_ordenados = sorted(produtos, key = Produto.get_valor)\n",
    "\n",
    "print(produtos)\n",
    "produtos_ordenados"
   ]
  },
  {
   "cell_type": "code",
   "execution_count": 11,
   "metadata": {},
   "outputs": [
    {
     "data": {
      "text/plain": [
       "[nome:arroz valor:8.5,\n",
       " nome:biscoito valor:2.49,\n",
       " nome:cafe valor:3.45,\n",
       " nome:chocolate valor:3.45,\n",
       " nome:feijao valor:10.0,\n",
       " nome:suco valor:4.3]"
      ]
     },
     "execution_count": 11,
     "metadata": {},
     "output_type": "execute_result"
    }
   ],
   "source": [
    "produtos_ordenados = sorted(produtos, key = Produto.get_nome)\n",
    "produtos_ordenados"
   ]
  },
  {
   "cell_type": "code",
   "execution_count": 14,
   "metadata": {},
   "outputs": [
    {
     "data": {
      "text/plain": [
       "[nome:feijao valor:10.0,\n",
       " nome:arroz valor:8.5,\n",
       " nome:suco valor:4.3,\n",
       " nome:chocolate valor:3.45,\n",
       " nome:cafe valor:3.45,\n",
       " nome:biscoito valor:2.49]"
      ]
     },
     "execution_count": 14,
     "metadata": {},
     "output_type": "execute_result"
    }
   ],
   "source": [
    "produtos_ordenados = sorted(produtos, key = Produto.get_valor, reverse=True)\n",
    "produtos_ordenados"
   ]
  }
 ],
 "metadata": {
  "kernelspec": {
   "display_name": "Python 3.11.0 64-bit",
   "language": "python",
   "name": "python3"
  },
  "language_info": {
   "codemirror_mode": {
    "name": "ipython",
    "version": 3
   },
   "file_extension": ".py",
   "mimetype": "text/x-python",
   "name": "python",
   "nbconvert_exporter": "python",
   "pygments_lexer": "ipython3",
   "version": "3.11.0"
  },
  "orig_nbformat": 4,
  "vscode": {
   "interpreter": {
    "hash": "5238573367df39f7286bb46f9ff5f08f63a01a80960060ce41e3c79b190280fa"
   }
  }
 },
 "nbformat": 4,
 "nbformat_minor": 2
}
