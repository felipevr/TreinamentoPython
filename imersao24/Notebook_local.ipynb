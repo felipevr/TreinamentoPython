{
  "cells": [
    {
      "cell_type": "markdown",
      "metadata": {},
      "source": [
        "# Aula 2,3 - Importação\n",
        "\n",
        "* Obs: aula 1 foi no google spreadsheets: https://docs.google.com/spreadsheets/d/1tQ6-qmDD8A72-RcAYDQuNcH_aCAfjyL6zD9_muXhuVg/edit#gid=0\n"
      ]
    },
    {
      "cell_type": "code",
      "execution_count": 5,
      "metadata": {
        "id": "GGFyWhtbpx7d"
      },
      "outputs": [],
      "source": [
        "import pandas as pd\n",
        "import plotly.express as px"
      ]
    },
    {
      "cell_type": "code",
      "execution_count": 6,
      "metadata": {
        "colab": {
          "base_uri": "https://localhost:8080/",
          "height": 363
        },
        "id": "OUdk9XUuHNSN",
        "outputId": "4cd497b8-53d0-47d2-acce-d9ac0bc601cd"
      },
      "outputs": [
        {
          "data": {
            "text/html": [
              "<div>\n",
              "<style scoped>\n",
              "    .dataframe tbody tr th:only-of-type {\n",
              "        vertical-align: middle;\n",
              "    }\n",
              "\n",
              "    .dataframe tbody tr th {\n",
              "        vertical-align: top;\n",
              "    }\n",
              "\n",
              "    .dataframe thead th {\n",
              "        text-align: right;\n",
              "    }\n",
              "</style>\n",
              "<table border=\"1\" class=\"dataframe\">\n",
              "  <thead>\n",
              "    <tr style=\"text-align: right;\">\n",
              "      <th></th>\n",
              "      <th>Ativo</th>\n",
              "      <th>Data</th>\n",
              "      <th>Último (R$)</th>\n",
              "      <th>Var. Dia (%)</th>\n",
              "      <th>Var. Sem. (%)</th>\n",
              "      <th>Var. Mês (%)</th>\n",
              "      <th>Var. Ano (%)</th>\n",
              "      <th>Var. 12M (%)</th>\n",
              "      <th>Val. Mín</th>\n",
              "      <th>Val. Máx</th>\n",
              "      <th>Volume</th>\n",
              "    </tr>\n",
              "  </thead>\n",
              "  <tbody>\n",
              "    <tr>\n",
              "      <th>0</th>\n",
              "      <td>USIM5</td>\n",
              "      <td>2024-01-26</td>\n",
              "      <td>9.50</td>\n",
              "      <td>5.20</td>\n",
              "      <td>11.76</td>\n",
              "      <td>2.26</td>\n",
              "      <td>2.26</td>\n",
              "      <td>15.97</td>\n",
              "      <td>9.18</td>\n",
              "      <td>9.56</td>\n",
              "      <td>319,16 M</td>\n",
              "    </tr>\n",
              "    <tr>\n",
              "      <th>1</th>\n",
              "      <td>CMIN3</td>\n",
              "      <td>2024-01-26</td>\n",
              "      <td>6.82</td>\n",
              "      <td>2.40</td>\n",
              "      <td>2.40</td>\n",
              "      <td>-12.11</td>\n",
              "      <td>-12.11</td>\n",
              "      <td>50.56</td>\n",
              "      <td>6.66</td>\n",
              "      <td>6.86</td>\n",
              "      <td>32,65 M</td>\n",
              "    </tr>\n",
              "    <tr>\n",
              "      <th>2</th>\n",
              "      <td>PETR3</td>\n",
              "      <td>2024-01-26</td>\n",
              "      <td>41.96</td>\n",
              "      <td>2.19</td>\n",
              "      <td>7.73</td>\n",
              "      <td>7.64</td>\n",
              "      <td>7.64</td>\n",
              "      <td>77.55</td>\n",
              "      <td>40.81</td>\n",
              "      <td>42.34</td>\n",
              "      <td>436,69 M</td>\n",
              "    </tr>\n",
              "    <tr>\n",
              "      <th>3</th>\n",
              "      <td>SUZB3</td>\n",
              "      <td>2024-01-26</td>\n",
              "      <td>52.91</td>\n",
              "      <td>2.04</td>\n",
              "      <td>2.14</td>\n",
              "      <td>-4.89</td>\n",
              "      <td>-4.89</td>\n",
              "      <td>18.85</td>\n",
              "      <td>51.89</td>\n",
              "      <td>53.17</td>\n",
              "      <td>162,55 M</td>\n",
              "    </tr>\n",
              "    <tr>\n",
              "      <th>4</th>\n",
              "      <td>CPFE3</td>\n",
              "      <td>2024-01-26</td>\n",
              "      <td>37.10</td>\n",
              "      <td>2.03</td>\n",
              "      <td>2.49</td>\n",
              "      <td>-3.66</td>\n",
              "      <td>-3.66</td>\n",
              "      <td>20.70</td>\n",
              "      <td>36.37</td>\n",
              "      <td>37.32</td>\n",
              "      <td>73,42 M</td>\n",
              "    </tr>\n",
              "    <tr>\n",
              "      <th>5</th>\n",
              "      <td>PRIO3</td>\n",
              "      <td>2024-01-26</td>\n",
              "      <td>45.69</td>\n",
              "      <td>1.98</td>\n",
              "      <td>2.42</td>\n",
              "      <td>-0.78</td>\n",
              "      <td>-0.78</td>\n",
              "      <td>8.08</td>\n",
              "      <td>44.25</td>\n",
              "      <td>45.69</td>\n",
              "      <td>319,92 M</td>\n",
              "    </tr>\n",
              "    <tr>\n",
              "      <th>6</th>\n",
              "      <td>PETR4</td>\n",
              "      <td>2024-01-26</td>\n",
              "      <td>39.96</td>\n",
              "      <td>1.73</td>\n",
              "      <td>6.47</td>\n",
              "      <td>7.30</td>\n",
              "      <td>7.30</td>\n",
              "      <td>95.01</td>\n",
              "      <td>38.91</td>\n",
              "      <td>40.09</td>\n",
              "      <td>1,64 B</td>\n",
              "    </tr>\n",
              "    <tr>\n",
              "      <th>7</th>\n",
              "      <td>VALE3</td>\n",
              "      <td>2024-01-26</td>\n",
              "      <td>69.50</td>\n",
              "      <td>1.66</td>\n",
              "      <td>2.06</td>\n",
              "      <td>-9.97</td>\n",
              "      <td>-9.97</td>\n",
              "      <td>-23.49</td>\n",
              "      <td>67.50</td>\n",
              "      <td>69.81</td>\n",
              "      <td>1,89 B</td>\n",
              "    </tr>\n",
              "    <tr>\n",
              "      <th>8</th>\n",
              "      <td>MULT3</td>\n",
              "      <td>2024-01-26</td>\n",
              "      <td>28.19</td>\n",
              "      <td>1.58</td>\n",
              "      <td>2.03</td>\n",
              "      <td>-0.81</td>\n",
              "      <td>-0.81</td>\n",
              "      <td>24.02</td>\n",
              "      <td>27.71</td>\n",
              "      <td>28.36</td>\n",
              "      <td>104,16 M</td>\n",
              "    </tr>\n",
              "    <tr>\n",
              "      <th>9</th>\n",
              "      <td>ITUB4</td>\n",
              "      <td>2024-01-26</td>\n",
              "      <td>32.81</td>\n",
              "      <td>1.48</td>\n",
              "      <td>-0.39</td>\n",
              "      <td>-3.36</td>\n",
              "      <td>-3.36</td>\n",
              "      <td>34.25</td>\n",
              "      <td>32.35</td>\n",
              "      <td>32.91</td>\n",
              "      <td>473,2 M</td>\n",
              "    </tr>\n",
              "  </tbody>\n",
              "</table>\n",
              "</div>"
            ],
            "text/plain": [
              "   Ativo       Data  Último (R$)  Var. Dia (%)  Var. Sem. (%)  Var. Mês (%)  \\\n",
              "0  USIM5 2024-01-26         9.50          5.20          11.76          2.26   \n",
              "1  CMIN3 2024-01-26         6.82          2.40           2.40        -12.11   \n",
              "2  PETR3 2024-01-26        41.96          2.19           7.73          7.64   \n",
              "3  SUZB3 2024-01-26        52.91          2.04           2.14         -4.89   \n",
              "4  CPFE3 2024-01-26        37.10          2.03           2.49         -3.66   \n",
              "5  PRIO3 2024-01-26        45.69          1.98           2.42         -0.78   \n",
              "6  PETR4 2024-01-26        39.96          1.73           6.47          7.30   \n",
              "7  VALE3 2024-01-26        69.50          1.66           2.06         -9.97   \n",
              "8  MULT3 2024-01-26        28.19          1.58           2.03         -0.81   \n",
              "9  ITUB4 2024-01-26        32.81          1.48          -0.39         -3.36   \n",
              "\n",
              "   Var. Ano (%)  Var. 12M (%)  Val. Mín  Val. Máx    Volume  \n",
              "0          2.26         15.97      9.18      9.56  319,16 M  \n",
              "1        -12.11         50.56      6.66      6.86   32,65 M  \n",
              "2          7.64         77.55     40.81     42.34  436,69 M  \n",
              "3         -4.89         18.85     51.89     53.17  162,55 M  \n",
              "4         -3.66         20.70     36.37     37.32   73,42 M  \n",
              "5         -0.78          8.08     44.25     45.69  319,92 M  \n",
              "6          7.30         95.01     38.91     40.09    1,64 B  \n",
              "7         -9.97        -23.49     67.50     69.81    1,89 B  \n",
              "8         -0.81         24.02     27.71     28.36  104,16 M  \n",
              "9         -3.36         34.25     32.35     32.91   473,2 M  "
            ]
          },
          "execution_count": 6,
          "metadata": {},
          "output_type": "execute_result"
        }
      ],
      "source": [
        "# importa os dados da planilha disponível no google drive\n",
        "\n",
        "# Get the path to the spreadsheet\n",
        "spreadsheet_path = 'imersao24/Cópia de Imersão Python - Tabela de ações Original.xlsx'\n",
        "\n",
        "# Read the spreadsheet into a Pandas DataFrame\n",
        "df_principal = pd.read_excel(spreadsheet_path, sheet_name=\"Principal\")\n",
        "\n",
        "df_principal.head(10)"
      ]
    },
    {
      "cell_type": "code",
      "execution_count": 7,
      "metadata": {
        "colab": {
          "base_uri": "https://localhost:8080/",
          "height": 363
        },
        "id": "fNGFXUKxNaLe",
        "outputId": "6f77f0f3-d41c-46a3-b9da-4502f766c8f1"
      },
      "outputs": [
        {
          "data": {
            "text/html": [
              "<div>\n",
              "<style scoped>\n",
              "    .dataframe tbody tr th:only-of-type {\n",
              "        vertical-align: middle;\n",
              "    }\n",
              "\n",
              "    .dataframe tbody tr th {\n",
              "        vertical-align: top;\n",
              "    }\n",
              "\n",
              "    .dataframe thead th {\n",
              "        text-align: right;\n",
              "    }\n",
              "</style>\n",
              "<table border=\"1\" class=\"dataframe\">\n",
              "  <thead>\n",
              "    <tr style=\"text-align: right;\">\n",
              "      <th></th>\n",
              "      <th>Código</th>\n",
              "      <th>Qtde. Teórica</th>\n",
              "    </tr>\n",
              "  </thead>\n",
              "  <tbody>\n",
              "    <tr>\n",
              "      <th>0</th>\n",
              "      <td>RRRP3</td>\n",
              "      <td>2.356656e+08</td>\n",
              "    </tr>\n",
              "    <tr>\n",
              "      <th>1</th>\n",
              "      <td>ALOS3</td>\n",
              "      <td>5.326166e+08</td>\n",
              "    </tr>\n",
              "    <tr>\n",
              "      <th>2</th>\n",
              "      <td>ALPA4</td>\n",
              "      <td>1.767340e+08</td>\n",
              "    </tr>\n",
              "    <tr>\n",
              "      <th>3</th>\n",
              "      <td>ABEV3</td>\n",
              "      <td>4.394246e+09</td>\n",
              "    </tr>\n",
              "    <tr>\n",
              "      <th>4</th>\n",
              "      <td>ARZZ3</td>\n",
              "      <td>6.230589e+07</td>\n",
              "    </tr>\n",
              "    <tr>\n",
              "      <th>5</th>\n",
              "      <td>ASAI3</td>\n",
              "      <td>1.349218e+09</td>\n",
              "    </tr>\n",
              "    <tr>\n",
              "      <th>6</th>\n",
              "      <td>AZUL4</td>\n",
              "      <td>3.275937e+08</td>\n",
              "    </tr>\n",
              "    <tr>\n",
              "      <th>7</th>\n",
              "      <td>B3SA3</td>\n",
              "      <td>5.602790e+09</td>\n",
              "    </tr>\n",
              "    <tr>\n",
              "      <th>8</th>\n",
              "      <td>BBSE3</td>\n",
              "      <td>6.717508e+08</td>\n",
              "    </tr>\n",
              "    <tr>\n",
              "      <th>9</th>\n",
              "      <td>BBDC3</td>\n",
              "      <td>1.500729e+09</td>\n",
              "    </tr>\n",
              "  </tbody>\n",
              "</table>\n",
              "</div>"
            ],
            "text/plain": [
              "  Código  Qtde. Teórica\n",
              "0  RRRP3   2.356656e+08\n",
              "1  ALOS3   5.326166e+08\n",
              "2  ALPA4   1.767340e+08\n",
              "3  ABEV3   4.394246e+09\n",
              "4  ARZZ3   6.230589e+07\n",
              "5  ASAI3   1.349218e+09\n",
              "6  AZUL4   3.275937e+08\n",
              "7  B3SA3   5.602790e+09\n",
              "8  BBSE3   6.717508e+08\n",
              "9  BBDC3   1.500729e+09"
            ]
          },
          "execution_count": 7,
          "metadata": {},
          "output_type": "execute_result"
        }
      ],
      "source": [
        "df_total_acoes = pd.read_excel(spreadsheet_path, sheet_name=\"Total_de_acoes\")\n",
        "\n",
        "df_total_acoes.head(10)"
      ]
    },
    {
      "cell_type": "code",
      "execution_count": 8,
      "metadata": {
        "colab": {
          "base_uri": "https://localhost:8080/",
          "height": 363
        },
        "id": "I10fA2GVZbE8",
        "outputId": "cefad881-fbc7-424b-aa67-0c91149eb4b0"
      },
      "outputs": [
        {
          "data": {
            "text/html": [
              "<div>\n",
              "<style scoped>\n",
              "    .dataframe tbody tr th:only-of-type {\n",
              "        vertical-align: middle;\n",
              "    }\n",
              "\n",
              "    .dataframe tbody tr th {\n",
              "        vertical-align: top;\n",
              "    }\n",
              "\n",
              "    .dataframe thead th {\n",
              "        text-align: right;\n",
              "    }\n",
              "</style>\n",
              "<table border=\"1\" class=\"dataframe\">\n",
              "  <thead>\n",
              "    <tr style=\"text-align: right;\">\n",
              "      <th></th>\n",
              "      <th>Ticker</th>\n",
              "      <th>Nome</th>\n",
              "    </tr>\n",
              "  </thead>\n",
              "  <tbody>\n",
              "    <tr>\n",
              "      <th>0</th>\n",
              "      <td>MGLU3</td>\n",
              "      <td>Magazine Luiza</td>\n",
              "    </tr>\n",
              "    <tr>\n",
              "      <th>1</th>\n",
              "      <td>HAPV3</td>\n",
              "      <td>Hapvida</td>\n",
              "    </tr>\n",
              "    <tr>\n",
              "      <th>2</th>\n",
              "      <td>PETR4</td>\n",
              "      <td>Petrobras</td>\n",
              "    </tr>\n",
              "    <tr>\n",
              "      <th>3</th>\n",
              "      <td>B3SA3</td>\n",
              "      <td>B3</td>\n",
              "    </tr>\n",
              "    <tr>\n",
              "      <th>4</th>\n",
              "      <td>USIM5</td>\n",
              "      <td>Usiminas</td>\n",
              "    </tr>\n",
              "    <tr>\n",
              "      <th>5</th>\n",
              "      <td>CVCB3</td>\n",
              "      <td>CVC</td>\n",
              "    </tr>\n",
              "    <tr>\n",
              "      <th>6</th>\n",
              "      <td>CIEL3</td>\n",
              "      <td>Cielo</td>\n",
              "    </tr>\n",
              "    <tr>\n",
              "      <th>7</th>\n",
              "      <td>VALE3</td>\n",
              "      <td>Vale</td>\n",
              "    </tr>\n",
              "    <tr>\n",
              "      <th>8</th>\n",
              "      <td>GOLL4</td>\n",
              "      <td>GOL</td>\n",
              "    </tr>\n",
              "    <tr>\n",
              "      <th>9</th>\n",
              "      <td>BBDC4</td>\n",
              "      <td>Banco Bradesco</td>\n",
              "    </tr>\n",
              "  </tbody>\n",
              "</table>\n",
              "</div>"
            ],
            "text/plain": [
              "  Ticker            Nome\n",
              "0  MGLU3  Magazine Luiza\n",
              "1  HAPV3         Hapvida\n",
              "2  PETR4       Petrobras\n",
              "3  B3SA3              B3\n",
              "4  USIM5        Usiminas\n",
              "5  CVCB3             CVC\n",
              "6  CIEL3           Cielo\n",
              "7  VALE3            Vale\n",
              "8  GOLL4             GOL\n",
              "9  BBDC4  Banco Bradesco"
            ]
          },
          "execution_count": 8,
          "metadata": {},
          "output_type": "execute_result"
        }
      ],
      "source": [
        "df_ticker = pd.read_excel(spreadsheet_path, sheet_name=\"Ticker\")\n",
        "\n",
        "df_ticker.head(10)"
      ]
    },
    {
      "cell_type": "code",
      "execution_count": 9,
      "metadata": {
        "colab": {
          "base_uri": "https://localhost:8080/",
          "height": 363
        },
        "id": "xXL9WRh4bX18",
        "outputId": "dbc0c971-d567-4a93-dcb6-d35e943038d3"
      },
      "outputs": [
        {
          "data": {
            "text/html": [
              "<div>\n",
              "<style scoped>\n",
              "    .dataframe tbody tr th:only-of-type {\n",
              "        vertical-align: middle;\n",
              "    }\n",
              "\n",
              "    .dataframe tbody tr th {\n",
              "        vertical-align: top;\n",
              "    }\n",
              "\n",
              "    .dataframe thead th {\n",
              "        text-align: right;\n",
              "    }\n",
              "</style>\n",
              "<table border=\"1\" class=\"dataframe\">\n",
              "  <thead>\n",
              "    <tr style=\"text-align: right;\">\n",
              "      <th></th>\n",
              "      <th>Empresa</th>\n",
              "      <th>Segmento</th>\n",
              "      <th>Idade (anos)</th>\n",
              "    </tr>\n",
              "  </thead>\n",
              "  <tbody>\n",
              "    <tr>\n",
              "      <th>0</th>\n",
              "      <td>Usiminas</td>\n",
              "      <td>Siderurgia</td>\n",
              "      <td>59</td>\n",
              "    </tr>\n",
              "    <tr>\n",
              "      <th>1</th>\n",
              "      <td>CSN Mineração</td>\n",
              "      <td>Mineração</td>\n",
              "      <td>79</td>\n",
              "    </tr>\n",
              "    <tr>\n",
              "      <th>2</th>\n",
              "      <td>Petrobras</td>\n",
              "      <td>Petróleo</td>\n",
              "      <td>69</td>\n",
              "    </tr>\n",
              "    <tr>\n",
              "      <th>3</th>\n",
              "      <td>Suzano</td>\n",
              "      <td>Papel e Celulose</td>\n",
              "      <td>98</td>\n",
              "    </tr>\n",
              "    <tr>\n",
              "      <th>4</th>\n",
              "      <td>CPFL Energia</td>\n",
              "      <td>Energia</td>\n",
              "      <td>109</td>\n",
              "    </tr>\n",
              "    <tr>\n",
              "      <th>5</th>\n",
              "      <td>PetroRio</td>\n",
              "      <td>Petróleo</td>\n",
              "      <td>22</td>\n",
              "    </tr>\n",
              "    <tr>\n",
              "      <th>6</th>\n",
              "      <td>Vale</td>\n",
              "      <td>Mineração</td>\n",
              "      <td>79</td>\n",
              "    </tr>\n",
              "    <tr>\n",
              "      <th>7</th>\n",
              "      <td>Multiplan</td>\n",
              "      <td>Shopping Centers</td>\n",
              "      <td>51</td>\n",
              "    </tr>\n",
              "    <tr>\n",
              "      <th>8</th>\n",
              "      <td>Itaú Unibanco</td>\n",
              "      <td>Serviços Financeiros</td>\n",
              "      <td>13</td>\n",
              "    </tr>\n",
              "    <tr>\n",
              "      <th>9</th>\n",
              "      <td>Rede D'Or</td>\n",
              "      <td>Saúde</td>\n",
              "      <td>45</td>\n",
              "    </tr>\n",
              "  </tbody>\n",
              "</table>\n",
              "</div>"
            ],
            "text/plain": [
              "         Empresa              Segmento  Idade (anos)\n",
              "0       Usiminas            Siderurgia            59\n",
              "1  CSN Mineração             Mineração            79\n",
              "2      Petrobras              Petróleo            69\n",
              "3         Suzano      Papel e Celulose            98\n",
              "4   CPFL Energia               Energia           109\n",
              "5       PetroRio              Petróleo            22\n",
              "6           Vale             Mineração            79\n",
              "7      Multiplan      Shopping Centers            51\n",
              "8  Itaú Unibanco  Serviços Financeiros            13\n",
              "9      Rede D'Or                 Saúde            45"
            ]
          },
          "execution_count": 9,
          "metadata": {},
          "output_type": "execute_result"
        }
      ],
      "source": [
        "df_mais = pd.read_excel(spreadsheet_path, sheet_name=\"ChatGPT\")\n",
        "\n",
        "df_mais.head(10)"
      ]
    },
    {
      "cell_type": "code",
      "execution_count": 10,
      "metadata": {
        "colab": {
          "base_uri": "https://localhost:8080/",
          "height": 424
        },
        "id": "Ig6vsJ6bOkFU",
        "outputId": "6f56d4f0-f813-4255-e4f4-c81994d32f12"
      },
      "outputs": [
        {
          "data": {
            "text/html": [
              "<div>\n",
              "<style scoped>\n",
              "    .dataframe tbody tr th:only-of-type {\n",
              "        vertical-align: middle;\n",
              "    }\n",
              "\n",
              "    .dataframe tbody tr th {\n",
              "        vertical-align: top;\n",
              "    }\n",
              "\n",
              "    .dataframe thead th {\n",
              "        text-align: right;\n",
              "    }\n",
              "</style>\n",
              "<table border=\"1\" class=\"dataframe\">\n",
              "  <thead>\n",
              "    <tr style=\"text-align: right;\">\n",
              "      <th></th>\n",
              "      <th>Ativo</th>\n",
              "      <th>Data</th>\n",
              "      <th>Último (R$)</th>\n",
              "      <th>Var. Dia (%)</th>\n",
              "    </tr>\n",
              "  </thead>\n",
              "  <tbody>\n",
              "    <tr>\n",
              "      <th>0</th>\n",
              "      <td>USIM5</td>\n",
              "      <td>2024-01-26</td>\n",
              "      <td>9.50</td>\n",
              "      <td>5.20</td>\n",
              "    </tr>\n",
              "    <tr>\n",
              "      <th>1</th>\n",
              "      <td>CMIN3</td>\n",
              "      <td>2024-01-26</td>\n",
              "      <td>6.82</td>\n",
              "      <td>2.40</td>\n",
              "    </tr>\n",
              "    <tr>\n",
              "      <th>2</th>\n",
              "      <td>PETR3</td>\n",
              "      <td>2024-01-26</td>\n",
              "      <td>41.96</td>\n",
              "      <td>2.19</td>\n",
              "    </tr>\n",
              "    <tr>\n",
              "      <th>3</th>\n",
              "      <td>SUZB3</td>\n",
              "      <td>2024-01-26</td>\n",
              "      <td>52.91</td>\n",
              "      <td>2.04</td>\n",
              "    </tr>\n",
              "    <tr>\n",
              "      <th>4</th>\n",
              "      <td>CPFE3</td>\n",
              "      <td>2024-01-26</td>\n",
              "      <td>37.10</td>\n",
              "      <td>2.03</td>\n",
              "    </tr>\n",
              "    <tr>\n",
              "      <th>...</th>\n",
              "      <td>...</td>\n",
              "      <td>...</td>\n",
              "      <td>...</td>\n",
              "      <td>...</td>\n",
              "    </tr>\n",
              "    <tr>\n",
              "      <th>76</th>\n",
              "      <td>CRFB3</td>\n",
              "      <td>2024-01-26</td>\n",
              "      <td>10.71</td>\n",
              "      <td>-2.45</td>\n",
              "    </tr>\n",
              "    <tr>\n",
              "      <th>77</th>\n",
              "      <td>BHIA3</td>\n",
              "      <td>2024-01-26</td>\n",
              "      <td>8.70</td>\n",
              "      <td>-2.46</td>\n",
              "    </tr>\n",
              "    <tr>\n",
              "      <th>78</th>\n",
              "      <td>RENT3</td>\n",
              "      <td>2024-01-26</td>\n",
              "      <td>56.24</td>\n",
              "      <td>-3.63</td>\n",
              "    </tr>\n",
              "    <tr>\n",
              "      <th>79</th>\n",
              "      <td>CVCB3</td>\n",
              "      <td>2024-01-26</td>\n",
              "      <td>3.07</td>\n",
              "      <td>-4.36</td>\n",
              "    </tr>\n",
              "    <tr>\n",
              "      <th>80</th>\n",
              "      <td>GOLL4</td>\n",
              "      <td>2024-01-26</td>\n",
              "      <td>5.92</td>\n",
              "      <td>-8.07</td>\n",
              "    </tr>\n",
              "  </tbody>\n",
              "</table>\n",
              "<p>81 rows × 4 columns</p>\n",
              "</div>"
            ],
            "text/plain": [
              "    Ativo       Data  Último (R$)  Var. Dia (%)\n",
              "0   USIM5 2024-01-26         9.50          5.20\n",
              "1   CMIN3 2024-01-26         6.82          2.40\n",
              "2   PETR3 2024-01-26        41.96          2.19\n",
              "3   SUZB3 2024-01-26        52.91          2.04\n",
              "4   CPFE3 2024-01-26        37.10          2.03\n",
              "..    ...        ...          ...           ...\n",
              "76  CRFB3 2024-01-26        10.71         -2.45\n",
              "77  BHIA3 2024-01-26         8.70         -2.46\n",
              "78  RENT3 2024-01-26        56.24         -3.63\n",
              "79  CVCB3 2024-01-26         3.07         -4.36\n",
              "80  GOLL4 2024-01-26         5.92         -8.07\n",
              "\n",
              "[81 rows x 4 columns]"
            ]
          },
          "execution_count": 10,
          "metadata": {},
          "output_type": "execute_result"
        }
      ],
      "source": [
        "df_principal = df_principal[['Ativo', 'Data', 'Último (R$)', 'Var. Dia (%)']].copy()\n",
        "\n",
        "df_principal"
      ]
    },
    {
      "cell_type": "code",
      "execution_count": 11,
      "metadata": {
        "colab": {
          "base_uri": "https://localhost:8080/",
          "height": 424
        },
        "id": "qL7jWP5PrHWT",
        "outputId": "00db454e-3e96-488e-d675-0a76f8d95671"
      },
      "outputs": [
        {
          "data": {
            "text/html": [
              "<div>\n",
              "<style scoped>\n",
              "    .dataframe tbody tr th:only-of-type {\n",
              "        vertical-align: middle;\n",
              "    }\n",
              "\n",
              "    .dataframe tbody tr th {\n",
              "        vertical-align: top;\n",
              "    }\n",
              "\n",
              "    .dataframe thead th {\n",
              "        text-align: right;\n",
              "    }\n",
              "</style>\n",
              "<table border=\"1\" class=\"dataframe\">\n",
              "  <thead>\n",
              "    <tr style=\"text-align: right;\">\n",
              "      <th></th>\n",
              "      <th>Ativo</th>\n",
              "      <th>Data</th>\n",
              "      <th>valor_final</th>\n",
              "      <th>var_dia_pct</th>\n",
              "    </tr>\n",
              "  </thead>\n",
              "  <tbody>\n",
              "    <tr>\n",
              "      <th>0</th>\n",
              "      <td>USIM5</td>\n",
              "      <td>2024-01-26</td>\n",
              "      <td>9.50</td>\n",
              "      <td>5.20</td>\n",
              "    </tr>\n",
              "    <tr>\n",
              "      <th>1</th>\n",
              "      <td>CMIN3</td>\n",
              "      <td>2024-01-26</td>\n",
              "      <td>6.82</td>\n",
              "      <td>2.40</td>\n",
              "    </tr>\n",
              "    <tr>\n",
              "      <th>2</th>\n",
              "      <td>PETR3</td>\n",
              "      <td>2024-01-26</td>\n",
              "      <td>41.96</td>\n",
              "      <td>2.19</td>\n",
              "    </tr>\n",
              "    <tr>\n",
              "      <th>3</th>\n",
              "      <td>SUZB3</td>\n",
              "      <td>2024-01-26</td>\n",
              "      <td>52.91</td>\n",
              "      <td>2.04</td>\n",
              "    </tr>\n",
              "    <tr>\n",
              "      <th>4</th>\n",
              "      <td>CPFE3</td>\n",
              "      <td>2024-01-26</td>\n",
              "      <td>37.10</td>\n",
              "      <td>2.03</td>\n",
              "    </tr>\n",
              "    <tr>\n",
              "      <th>...</th>\n",
              "      <td>...</td>\n",
              "      <td>...</td>\n",
              "      <td>...</td>\n",
              "      <td>...</td>\n",
              "    </tr>\n",
              "    <tr>\n",
              "      <th>76</th>\n",
              "      <td>CRFB3</td>\n",
              "      <td>2024-01-26</td>\n",
              "      <td>10.71</td>\n",
              "      <td>-2.45</td>\n",
              "    </tr>\n",
              "    <tr>\n",
              "      <th>77</th>\n",
              "      <td>BHIA3</td>\n",
              "      <td>2024-01-26</td>\n",
              "      <td>8.70</td>\n",
              "      <td>-2.46</td>\n",
              "    </tr>\n",
              "    <tr>\n",
              "      <th>78</th>\n",
              "      <td>RENT3</td>\n",
              "      <td>2024-01-26</td>\n",
              "      <td>56.24</td>\n",
              "      <td>-3.63</td>\n",
              "    </tr>\n",
              "    <tr>\n",
              "      <th>79</th>\n",
              "      <td>CVCB3</td>\n",
              "      <td>2024-01-26</td>\n",
              "      <td>3.07</td>\n",
              "      <td>-4.36</td>\n",
              "    </tr>\n",
              "    <tr>\n",
              "      <th>80</th>\n",
              "      <td>GOLL4</td>\n",
              "      <td>2024-01-26</td>\n",
              "      <td>5.92</td>\n",
              "      <td>-8.07</td>\n",
              "    </tr>\n",
              "  </tbody>\n",
              "</table>\n",
              "<p>81 rows × 4 columns</p>\n",
              "</div>"
            ],
            "text/plain": [
              "    Ativo       Data  valor_final  var_dia_pct\n",
              "0   USIM5 2024-01-26         9.50         5.20\n",
              "1   CMIN3 2024-01-26         6.82         2.40\n",
              "2   PETR3 2024-01-26        41.96         2.19\n",
              "3   SUZB3 2024-01-26        52.91         2.04\n",
              "4   CPFE3 2024-01-26        37.10         2.03\n",
              "..    ...        ...          ...          ...\n",
              "76  CRFB3 2024-01-26        10.71        -2.45\n",
              "77  BHIA3 2024-01-26         8.70        -2.46\n",
              "78  RENT3 2024-01-26        56.24        -3.63\n",
              "79  CVCB3 2024-01-26         3.07        -4.36\n",
              "80  GOLL4 2024-01-26         5.92        -8.07\n",
              "\n",
              "[81 rows x 4 columns]"
            ]
          },
          "execution_count": 11,
          "metadata": {},
          "output_type": "execute_result"
        }
      ],
      "source": [
        "df_principal = df_principal.rename(columns={'Último (R$)':'valor_final', 'Var. Dia (%)':'var_dia_pct'}).copy()\n",
        "\n",
        "df_principal"
      ]
    },
    {
      "cell_type": "code",
      "execution_count": 12,
      "metadata": {
        "colab": {
          "base_uri": "https://localhost:8080/",
          "height": 424
        },
        "id": "H_6W7RHLsgg9",
        "outputId": "d6a01891-e484-45e5-d0de-b397cbf3997f"
      },
      "outputs": [
        {
          "data": {
            "text/html": [
              "<div>\n",
              "<style scoped>\n",
              "    .dataframe tbody tr th:only-of-type {\n",
              "        vertical-align: middle;\n",
              "    }\n",
              "\n",
              "    .dataframe tbody tr th {\n",
              "        vertical-align: top;\n",
              "    }\n",
              "\n",
              "    .dataframe thead th {\n",
              "        text-align: right;\n",
              "    }\n",
              "</style>\n",
              "<table border=\"1\" class=\"dataframe\">\n",
              "  <thead>\n",
              "    <tr style=\"text-align: right;\">\n",
              "      <th></th>\n",
              "      <th>Ativo</th>\n",
              "      <th>Data</th>\n",
              "      <th>valor_final</th>\n",
              "      <th>var_dia_pct</th>\n",
              "      <th>var_pct</th>\n",
              "      <th>valor_inicial</th>\n",
              "    </tr>\n",
              "  </thead>\n",
              "  <tbody>\n",
              "    <tr>\n",
              "      <th>0</th>\n",
              "      <td>USIM5</td>\n",
              "      <td>2024-01-26</td>\n",
              "      <td>9.50</td>\n",
              "      <td>5.20</td>\n",
              "      <td>0.0520</td>\n",
              "      <td>9.030418</td>\n",
              "    </tr>\n",
              "    <tr>\n",
              "      <th>1</th>\n",
              "      <td>CMIN3</td>\n",
              "      <td>2024-01-26</td>\n",
              "      <td>6.82</td>\n",
              "      <td>2.40</td>\n",
              "      <td>0.0240</td>\n",
              "      <td>6.660156</td>\n",
              "    </tr>\n",
              "    <tr>\n",
              "      <th>2</th>\n",
              "      <td>PETR3</td>\n",
              "      <td>2024-01-26</td>\n",
              "      <td>41.96</td>\n",
              "      <td>2.19</td>\n",
              "      <td>0.0219</td>\n",
              "      <td>41.060769</td>\n",
              "    </tr>\n",
              "    <tr>\n",
              "      <th>3</th>\n",
              "      <td>SUZB3</td>\n",
              "      <td>2024-01-26</td>\n",
              "      <td>52.91</td>\n",
              "      <td>2.04</td>\n",
              "      <td>0.0204</td>\n",
              "      <td>51.852215</td>\n",
              "    </tr>\n",
              "    <tr>\n",
              "      <th>4</th>\n",
              "      <td>CPFE3</td>\n",
              "      <td>2024-01-26</td>\n",
              "      <td>37.10</td>\n",
              "      <td>2.03</td>\n",
              "      <td>0.0203</td>\n",
              "      <td>36.361854</td>\n",
              "    </tr>\n",
              "    <tr>\n",
              "      <th>...</th>\n",
              "      <td>...</td>\n",
              "      <td>...</td>\n",
              "      <td>...</td>\n",
              "      <td>...</td>\n",
              "      <td>...</td>\n",
              "      <td>...</td>\n",
              "    </tr>\n",
              "    <tr>\n",
              "      <th>76</th>\n",
              "      <td>CRFB3</td>\n",
              "      <td>2024-01-26</td>\n",
              "      <td>10.71</td>\n",
              "      <td>-2.45</td>\n",
              "      <td>-0.0245</td>\n",
              "      <td>10.978985</td>\n",
              "    </tr>\n",
              "    <tr>\n",
              "      <th>77</th>\n",
              "      <td>BHIA3</td>\n",
              "      <td>2024-01-26</td>\n",
              "      <td>8.70</td>\n",
              "      <td>-2.46</td>\n",
              "      <td>-0.0246</td>\n",
              "      <td>8.919418</td>\n",
              "    </tr>\n",
              "    <tr>\n",
              "      <th>78</th>\n",
              "      <td>RENT3</td>\n",
              "      <td>2024-01-26</td>\n",
              "      <td>56.24</td>\n",
              "      <td>-3.63</td>\n",
              "      <td>-0.0363</td>\n",
              "      <td>58.358410</td>\n",
              "    </tr>\n",
              "    <tr>\n",
              "      <th>79</th>\n",
              "      <td>CVCB3</td>\n",
              "      <td>2024-01-26</td>\n",
              "      <td>3.07</td>\n",
              "      <td>-4.36</td>\n",
              "      <td>-0.0436</td>\n",
              "      <td>3.209954</td>\n",
              "    </tr>\n",
              "    <tr>\n",
              "      <th>80</th>\n",
              "      <td>GOLL4</td>\n",
              "      <td>2024-01-26</td>\n",
              "      <td>5.92</td>\n",
              "      <td>-8.07</td>\n",
              "      <td>-0.0807</td>\n",
              "      <td>6.439682</td>\n",
              "    </tr>\n",
              "  </tbody>\n",
              "</table>\n",
              "<p>81 rows × 6 columns</p>\n",
              "</div>"
            ],
            "text/plain": [
              "    Ativo       Data  valor_final  var_dia_pct  var_pct  valor_inicial\n",
              "0   USIM5 2024-01-26         9.50         5.20   0.0520       9.030418\n",
              "1   CMIN3 2024-01-26         6.82         2.40   0.0240       6.660156\n",
              "2   PETR3 2024-01-26        41.96         2.19   0.0219      41.060769\n",
              "3   SUZB3 2024-01-26        52.91         2.04   0.0204      51.852215\n",
              "4   CPFE3 2024-01-26        37.10         2.03   0.0203      36.361854\n",
              "..    ...        ...          ...          ...      ...            ...\n",
              "76  CRFB3 2024-01-26        10.71        -2.45  -0.0245      10.978985\n",
              "77  BHIA3 2024-01-26         8.70        -2.46  -0.0246       8.919418\n",
              "78  RENT3 2024-01-26        56.24        -3.63  -0.0363      58.358410\n",
              "79  CVCB3 2024-01-26         3.07        -4.36  -0.0436       3.209954\n",
              "80  GOLL4 2024-01-26         5.92        -8.07  -0.0807       6.439682\n",
              "\n",
              "[81 rows x 6 columns]"
            ]
          },
          "execution_count": 12,
          "metadata": {},
          "output_type": "execute_result"
        }
      ],
      "source": [
        "df_principal['var_pct'] = df_principal['var_dia_pct'] / 100\n",
        "df_principal['valor_inicial'] = df_principal['valor_final'] / (df_principal['var_pct'] + 1)\n",
        "df_principal"
      ]
    },
    {
      "cell_type": "code",
      "execution_count": 13,
      "metadata": {
        "colab": {
          "base_uri": "https://localhost:8080/",
          "height": 424
        },
        "id": "tz8Wi6EHt-wV",
        "outputId": "302873d3-c9a1-4b27-cf3a-8fcfef6afe04"
      },
      "outputs": [
        {
          "data": {
            "text/html": [
              "<div>\n",
              "<style scoped>\n",
              "    .dataframe tbody tr th:only-of-type {\n",
              "        vertical-align: middle;\n",
              "    }\n",
              "\n",
              "    .dataframe tbody tr th {\n",
              "        vertical-align: top;\n",
              "    }\n",
              "\n",
              "    .dataframe thead th {\n",
              "        text-align: right;\n",
              "    }\n",
              "</style>\n",
              "<table border=\"1\" class=\"dataframe\">\n",
              "  <thead>\n",
              "    <tr style=\"text-align: right;\">\n",
              "      <th></th>\n",
              "      <th>Ativo</th>\n",
              "      <th>Data</th>\n",
              "      <th>valor_final</th>\n",
              "      <th>var_dia_pct</th>\n",
              "      <th>var_pct</th>\n",
              "      <th>valor_inicial</th>\n",
              "      <th>Código</th>\n",
              "      <th>Qtde. Teórica</th>\n",
              "    </tr>\n",
              "  </thead>\n",
              "  <tbody>\n",
              "    <tr>\n",
              "      <th>0</th>\n",
              "      <td>USIM5</td>\n",
              "      <td>2024-01-26</td>\n",
              "      <td>9.50</td>\n",
              "      <td>5.20</td>\n",
              "      <td>0.0520</td>\n",
              "      <td>9.030418</td>\n",
              "      <td>USIM5</td>\n",
              "      <td>5.151174e+08</td>\n",
              "    </tr>\n",
              "    <tr>\n",
              "      <th>1</th>\n",
              "      <td>CMIN3</td>\n",
              "      <td>2024-01-26</td>\n",
              "      <td>6.82</td>\n",
              "      <td>2.40</td>\n",
              "      <td>0.0240</td>\n",
              "      <td>6.660156</td>\n",
              "      <td>CMIN3</td>\n",
              "      <td>1.110559e+09</td>\n",
              "    </tr>\n",
              "    <tr>\n",
              "      <th>2</th>\n",
              "      <td>PETR3</td>\n",
              "      <td>2024-01-26</td>\n",
              "      <td>41.96</td>\n",
              "      <td>2.19</td>\n",
              "      <td>0.0219</td>\n",
              "      <td>41.060769</td>\n",
              "      <td>PETR3</td>\n",
              "      <td>2.379878e+09</td>\n",
              "    </tr>\n",
              "    <tr>\n",
              "      <th>3</th>\n",
              "      <td>SUZB3</td>\n",
              "      <td>2024-01-26</td>\n",
              "      <td>52.91</td>\n",
              "      <td>2.04</td>\n",
              "      <td>0.0204</td>\n",
              "      <td>51.852215</td>\n",
              "      <td>SUZB3</td>\n",
              "      <td>6.834528e+08</td>\n",
              "    </tr>\n",
              "    <tr>\n",
              "      <th>4</th>\n",
              "      <td>CPFE3</td>\n",
              "      <td>2024-01-26</td>\n",
              "      <td>37.10</td>\n",
              "      <td>2.03</td>\n",
              "      <td>0.0203</td>\n",
              "      <td>36.361854</td>\n",
              "      <td>CPFE3</td>\n",
              "      <td>1.877325e+08</td>\n",
              "    </tr>\n",
              "    <tr>\n",
              "      <th>...</th>\n",
              "      <td>...</td>\n",
              "      <td>...</td>\n",
              "      <td>...</td>\n",
              "      <td>...</td>\n",
              "      <td>...</td>\n",
              "      <td>...</td>\n",
              "      <td>...</td>\n",
              "      <td>...</td>\n",
              "    </tr>\n",
              "    <tr>\n",
              "      <th>76</th>\n",
              "      <td>CRFB3</td>\n",
              "      <td>2024-01-26</td>\n",
              "      <td>10.71</td>\n",
              "      <td>-2.45</td>\n",
              "      <td>-0.0245</td>\n",
              "      <td>10.978985</td>\n",
              "      <td>CRFB3</td>\n",
              "      <td>5.339906e+08</td>\n",
              "    </tr>\n",
              "    <tr>\n",
              "      <th>77</th>\n",
              "      <td>BHIA3</td>\n",
              "      <td>2024-01-26</td>\n",
              "      <td>8.70</td>\n",
              "      <td>-2.46</td>\n",
              "      <td>-0.0246</td>\n",
              "      <td>8.919418</td>\n",
              "      <td>BHIA3</td>\n",
              "      <td>9.484305e+07</td>\n",
              "    </tr>\n",
              "    <tr>\n",
              "      <th>78</th>\n",
              "      <td>RENT3</td>\n",
              "      <td>2024-01-26</td>\n",
              "      <td>56.24</td>\n",
              "      <td>-3.63</td>\n",
              "      <td>-0.0363</td>\n",
              "      <td>58.358410</td>\n",
              "      <td>RENT3</td>\n",
              "      <td>8.532023e+08</td>\n",
              "    </tr>\n",
              "    <tr>\n",
              "      <th>79</th>\n",
              "      <td>CVCB3</td>\n",
              "      <td>2024-01-26</td>\n",
              "      <td>3.07</td>\n",
              "      <td>-4.36</td>\n",
              "      <td>-0.0436</td>\n",
              "      <td>3.209954</td>\n",
              "      <td>CVCB3</td>\n",
              "      <td>5.255828e+08</td>\n",
              "    </tr>\n",
              "    <tr>\n",
              "      <th>80</th>\n",
              "      <td>GOLL4</td>\n",
              "      <td>2024-01-26</td>\n",
              "      <td>5.92</td>\n",
              "      <td>-8.07</td>\n",
              "      <td>-0.0807</td>\n",
              "      <td>6.439682</td>\n",
              "      <td>GOLL4</td>\n",
              "      <td>1.981849e+08</td>\n",
              "    </tr>\n",
              "  </tbody>\n",
              "</table>\n",
              "<p>81 rows × 8 columns</p>\n",
              "</div>"
            ],
            "text/plain": [
              "    Ativo       Data  valor_final  var_dia_pct  var_pct  valor_inicial Código  \\\n",
              "0   USIM5 2024-01-26         9.50         5.20   0.0520       9.030418  USIM5   \n",
              "1   CMIN3 2024-01-26         6.82         2.40   0.0240       6.660156  CMIN3   \n",
              "2   PETR3 2024-01-26        41.96         2.19   0.0219      41.060769  PETR3   \n",
              "3   SUZB3 2024-01-26        52.91         2.04   0.0204      51.852215  SUZB3   \n",
              "4   CPFE3 2024-01-26        37.10         2.03   0.0203      36.361854  CPFE3   \n",
              "..    ...        ...          ...          ...      ...            ...    ...   \n",
              "76  CRFB3 2024-01-26        10.71        -2.45  -0.0245      10.978985  CRFB3   \n",
              "77  BHIA3 2024-01-26         8.70        -2.46  -0.0246       8.919418  BHIA3   \n",
              "78  RENT3 2024-01-26        56.24        -3.63  -0.0363      58.358410  RENT3   \n",
              "79  CVCB3 2024-01-26         3.07        -4.36  -0.0436       3.209954  CVCB3   \n",
              "80  GOLL4 2024-01-26         5.92        -8.07  -0.0807       6.439682  GOLL4   \n",
              "\n",
              "    Qtde. Teórica  \n",
              "0    5.151174e+08  \n",
              "1    1.110559e+09  \n",
              "2    2.379878e+09  \n",
              "3    6.834528e+08  \n",
              "4    1.877325e+08  \n",
              "..            ...  \n",
              "76   5.339906e+08  \n",
              "77   9.484305e+07  \n",
              "78   8.532023e+08  \n",
              "79   5.255828e+08  \n",
              "80   1.981849e+08  \n",
              "\n",
              "[81 rows x 8 columns]"
            ]
          },
          "execution_count": 13,
          "metadata": {},
          "output_type": "execute_result"
        }
      ],
      "source": [
        "df_principal = df_principal.merge(df_total_acoes, left_on='Ativo', right_on='Código', how='left')\n",
        "df_principal"
      ]
    },
    {
      "cell_type": "code",
      "execution_count": 14,
      "metadata": {
        "colab": {
          "base_uri": "https://localhost:8080/",
          "height": 424
        },
        "id": "HGH1YXuevn19",
        "outputId": "c270312c-09fa-4337-e25a-af3b3d182e65"
      },
      "outputs": [
        {
          "data": {
            "text/html": [
              "<div>\n",
              "<style scoped>\n",
              "    .dataframe tbody tr th:only-of-type {\n",
              "        vertical-align: middle;\n",
              "    }\n",
              "\n",
              "    .dataframe tbody tr th {\n",
              "        vertical-align: top;\n",
              "    }\n",
              "\n",
              "    .dataframe thead th {\n",
              "        text-align: right;\n",
              "    }\n",
              "</style>\n",
              "<table border=\"1\" class=\"dataframe\">\n",
              "  <thead>\n",
              "    <tr style=\"text-align: right;\">\n",
              "      <th></th>\n",
              "      <th>Ativo</th>\n",
              "      <th>Data</th>\n",
              "      <th>valor_final</th>\n",
              "      <th>var_dia_pct</th>\n",
              "      <th>var_pct</th>\n",
              "      <th>valor_inicial</th>\n",
              "      <th>qtd_teorica</th>\n",
              "    </tr>\n",
              "  </thead>\n",
              "  <tbody>\n",
              "    <tr>\n",
              "      <th>0</th>\n",
              "      <td>USIM5</td>\n",
              "      <td>2024-01-26</td>\n",
              "      <td>9.50</td>\n",
              "      <td>5.20</td>\n",
              "      <td>0.0520</td>\n",
              "      <td>9.030418</td>\n",
              "      <td>5.151174e+08</td>\n",
              "    </tr>\n",
              "    <tr>\n",
              "      <th>1</th>\n",
              "      <td>CMIN3</td>\n",
              "      <td>2024-01-26</td>\n",
              "      <td>6.82</td>\n",
              "      <td>2.40</td>\n",
              "      <td>0.0240</td>\n",
              "      <td>6.660156</td>\n",
              "      <td>1.110559e+09</td>\n",
              "    </tr>\n",
              "    <tr>\n",
              "      <th>2</th>\n",
              "      <td>PETR3</td>\n",
              "      <td>2024-01-26</td>\n",
              "      <td>41.96</td>\n",
              "      <td>2.19</td>\n",
              "      <td>0.0219</td>\n",
              "      <td>41.060769</td>\n",
              "      <td>2.379878e+09</td>\n",
              "    </tr>\n",
              "    <tr>\n",
              "      <th>3</th>\n",
              "      <td>SUZB3</td>\n",
              "      <td>2024-01-26</td>\n",
              "      <td>52.91</td>\n",
              "      <td>2.04</td>\n",
              "      <td>0.0204</td>\n",
              "      <td>51.852215</td>\n",
              "      <td>6.834528e+08</td>\n",
              "    </tr>\n",
              "    <tr>\n",
              "      <th>4</th>\n",
              "      <td>CPFE3</td>\n",
              "      <td>2024-01-26</td>\n",
              "      <td>37.10</td>\n",
              "      <td>2.03</td>\n",
              "      <td>0.0203</td>\n",
              "      <td>36.361854</td>\n",
              "      <td>1.877325e+08</td>\n",
              "    </tr>\n",
              "    <tr>\n",
              "      <th>...</th>\n",
              "      <td>...</td>\n",
              "      <td>...</td>\n",
              "      <td>...</td>\n",
              "      <td>...</td>\n",
              "      <td>...</td>\n",
              "      <td>...</td>\n",
              "      <td>...</td>\n",
              "    </tr>\n",
              "    <tr>\n",
              "      <th>76</th>\n",
              "      <td>CRFB3</td>\n",
              "      <td>2024-01-26</td>\n",
              "      <td>10.71</td>\n",
              "      <td>-2.45</td>\n",
              "      <td>-0.0245</td>\n",
              "      <td>10.978985</td>\n",
              "      <td>5.339906e+08</td>\n",
              "    </tr>\n",
              "    <tr>\n",
              "      <th>77</th>\n",
              "      <td>BHIA3</td>\n",
              "      <td>2024-01-26</td>\n",
              "      <td>8.70</td>\n",
              "      <td>-2.46</td>\n",
              "      <td>-0.0246</td>\n",
              "      <td>8.919418</td>\n",
              "      <td>9.484305e+07</td>\n",
              "    </tr>\n",
              "    <tr>\n",
              "      <th>78</th>\n",
              "      <td>RENT3</td>\n",
              "      <td>2024-01-26</td>\n",
              "      <td>56.24</td>\n",
              "      <td>-3.63</td>\n",
              "      <td>-0.0363</td>\n",
              "      <td>58.358410</td>\n",
              "      <td>8.532023e+08</td>\n",
              "    </tr>\n",
              "    <tr>\n",
              "      <th>79</th>\n",
              "      <td>CVCB3</td>\n",
              "      <td>2024-01-26</td>\n",
              "      <td>3.07</td>\n",
              "      <td>-4.36</td>\n",
              "      <td>-0.0436</td>\n",
              "      <td>3.209954</td>\n",
              "      <td>5.255828e+08</td>\n",
              "    </tr>\n",
              "    <tr>\n",
              "      <th>80</th>\n",
              "      <td>GOLL4</td>\n",
              "      <td>2024-01-26</td>\n",
              "      <td>5.92</td>\n",
              "      <td>-8.07</td>\n",
              "      <td>-0.0807</td>\n",
              "      <td>6.439682</td>\n",
              "      <td>1.981849e+08</td>\n",
              "    </tr>\n",
              "  </tbody>\n",
              "</table>\n",
              "<p>81 rows × 7 columns</p>\n",
              "</div>"
            ],
            "text/plain": [
              "    Ativo       Data  valor_final  var_dia_pct  var_pct  valor_inicial  \\\n",
              "0   USIM5 2024-01-26         9.50         5.20   0.0520       9.030418   \n",
              "1   CMIN3 2024-01-26         6.82         2.40   0.0240       6.660156   \n",
              "2   PETR3 2024-01-26        41.96         2.19   0.0219      41.060769   \n",
              "3   SUZB3 2024-01-26        52.91         2.04   0.0204      51.852215   \n",
              "4   CPFE3 2024-01-26        37.10         2.03   0.0203      36.361854   \n",
              "..    ...        ...          ...          ...      ...            ...   \n",
              "76  CRFB3 2024-01-26        10.71        -2.45  -0.0245      10.978985   \n",
              "77  BHIA3 2024-01-26         8.70        -2.46  -0.0246       8.919418   \n",
              "78  RENT3 2024-01-26        56.24        -3.63  -0.0363      58.358410   \n",
              "79  CVCB3 2024-01-26         3.07        -4.36  -0.0436       3.209954   \n",
              "80  GOLL4 2024-01-26         5.92        -8.07  -0.0807       6.439682   \n",
              "\n",
              "     qtd_teorica  \n",
              "0   5.151174e+08  \n",
              "1   1.110559e+09  \n",
              "2   2.379878e+09  \n",
              "3   6.834528e+08  \n",
              "4   1.877325e+08  \n",
              "..           ...  \n",
              "76  5.339906e+08  \n",
              "77  9.484305e+07  \n",
              "78  8.532023e+08  \n",
              "79  5.255828e+08  \n",
              "80  1.981849e+08  \n",
              "\n",
              "[81 rows x 7 columns]"
            ]
          },
          "execution_count": 14,
          "metadata": {},
          "output_type": "execute_result"
        }
      ],
      "source": [
        "df_principal = df_principal.drop(columns=['Código'])\n",
        "df_principal = df_principal.rename(columns={'Qtde. Teórica':'qtd_teorica'}).copy()\n",
        "\n",
        "df_principal"
      ]
    },
    {
      "cell_type": "code",
      "execution_count": 15,
      "metadata": {
        "colab": {
          "base_uri": "https://localhost:8080/",
          "height": 424
        },
        "id": "RE55rzVUzfN0",
        "outputId": "a01e3118-c638-4ca9-cb1a-c0adab6d9740"
      },
      "outputs": [
        {
          "data": {
            "text/html": [
              "<div>\n",
              "<style scoped>\n",
              "    .dataframe tbody tr th:only-of-type {\n",
              "        vertical-align: middle;\n",
              "    }\n",
              "\n",
              "    .dataframe tbody tr th {\n",
              "        vertical-align: top;\n",
              "    }\n",
              "\n",
              "    .dataframe thead th {\n",
              "        text-align: right;\n",
              "    }\n",
              "</style>\n",
              "<table border=\"1\" class=\"dataframe\">\n",
              "  <thead>\n",
              "    <tr style=\"text-align: right;\">\n",
              "      <th></th>\n",
              "      <th>Ativo</th>\n",
              "      <th>Data</th>\n",
              "      <th>valor_final</th>\n",
              "      <th>var_dia_pct</th>\n",
              "      <th>var_pct</th>\n",
              "      <th>valor_inicial</th>\n",
              "      <th>qtd_teorica</th>\n",
              "      <th>variacao_rs</th>\n",
              "    </tr>\n",
              "  </thead>\n",
              "  <tbody>\n",
              "    <tr>\n",
              "      <th>0</th>\n",
              "      <td>USIM5</td>\n",
              "      <td>2024-01-26</td>\n",
              "      <td>9.50</td>\n",
              "      <td>5.20</td>\n",
              "      <td>0.0520</td>\n",
              "      <td>9.030418</td>\n",
              "      <td>5.151174e+08</td>\n",
              "      <td>2.418897e+08</td>\n",
              "    </tr>\n",
              "    <tr>\n",
              "      <th>1</th>\n",
              "      <td>CMIN3</td>\n",
              "      <td>2024-01-26</td>\n",
              "      <td>6.82</td>\n",
              "      <td>2.40</td>\n",
              "      <td>0.0240</td>\n",
              "      <td>6.660156</td>\n",
              "      <td>1.110559e+09</td>\n",
              "      <td>1.775160e+08</td>\n",
              "    </tr>\n",
              "    <tr>\n",
              "      <th>2</th>\n",
              "      <td>PETR3</td>\n",
              "      <td>2024-01-26</td>\n",
              "      <td>41.96</td>\n",
              "      <td>2.19</td>\n",
              "      <td>0.0219</td>\n",
              "      <td>41.060769</td>\n",
              "      <td>2.379878e+09</td>\n",
              "      <td>2.140059e+09</td>\n",
              "    </tr>\n",
              "    <tr>\n",
              "      <th>3</th>\n",
              "      <td>SUZB3</td>\n",
              "      <td>2024-01-26</td>\n",
              "      <td>52.91</td>\n",
              "      <td>2.04</td>\n",
              "      <td>0.0204</td>\n",
              "      <td>51.852215</td>\n",
              "      <td>6.834528e+08</td>\n",
              "      <td>7.229463e+08</td>\n",
              "    </tr>\n",
              "    <tr>\n",
              "      <th>4</th>\n",
              "      <td>CPFE3</td>\n",
              "      <td>2024-01-26</td>\n",
              "      <td>37.10</td>\n",
              "      <td>2.03</td>\n",
              "      <td>0.0203</td>\n",
              "      <td>36.361854</td>\n",
              "      <td>1.877325e+08</td>\n",
              "      <td>1.385740e+08</td>\n",
              "    </tr>\n",
              "    <tr>\n",
              "      <th>...</th>\n",
              "      <td>...</td>\n",
              "      <td>...</td>\n",
              "      <td>...</td>\n",
              "      <td>...</td>\n",
              "      <td>...</td>\n",
              "      <td>...</td>\n",
              "      <td>...</td>\n",
              "      <td>...</td>\n",
              "    </tr>\n",
              "    <tr>\n",
              "      <th>76</th>\n",
              "      <td>CRFB3</td>\n",
              "      <td>2024-01-26</td>\n",
              "      <td>10.71</td>\n",
              "      <td>-2.45</td>\n",
              "      <td>-0.0245</td>\n",
              "      <td>10.978985</td>\n",
              "      <td>5.339906e+08</td>\n",
              "      <td>-1.436355e+08</td>\n",
              "    </tr>\n",
              "    <tr>\n",
              "      <th>77</th>\n",
              "      <td>BHIA3</td>\n",
              "      <td>2024-01-26</td>\n",
              "      <td>8.70</td>\n",
              "      <td>-2.46</td>\n",
              "      <td>-0.0246</td>\n",
              "      <td>8.919418</td>\n",
              "      <td>9.484305e+07</td>\n",
              "      <td>-2.081024e+07</td>\n",
              "    </tr>\n",
              "    <tr>\n",
              "      <th>78</th>\n",
              "      <td>RENT3</td>\n",
              "      <td>2024-01-26</td>\n",
              "      <td>56.24</td>\n",
              "      <td>-3.63</td>\n",
              "      <td>-0.0363</td>\n",
              "      <td>58.358410</td>\n",
              "      <td>8.532023e+08</td>\n",
              "      <td>-1.807433e+09</td>\n",
              "    </tr>\n",
              "    <tr>\n",
              "      <th>79</th>\n",
              "      <td>CVCB3</td>\n",
              "      <td>2024-01-26</td>\n",
              "      <td>3.07</td>\n",
              "      <td>-4.36</td>\n",
              "      <td>-0.0436</td>\n",
              "      <td>3.209954</td>\n",
              "      <td>5.255828e+08</td>\n",
              "      <td>-7.355741e+07</td>\n",
              "    </tr>\n",
              "    <tr>\n",
              "      <th>80</th>\n",
              "      <td>GOLL4</td>\n",
              "      <td>2024-01-26</td>\n",
              "      <td>5.92</td>\n",
              "      <td>-8.07</td>\n",
              "      <td>-0.0807</td>\n",
              "      <td>6.439682</td>\n",
              "      <td>1.981849e+08</td>\n",
              "      <td>-1.029932e+08</td>\n",
              "    </tr>\n",
              "  </tbody>\n",
              "</table>\n",
              "<p>81 rows × 8 columns</p>\n",
              "</div>"
            ],
            "text/plain": [
              "    Ativo       Data  valor_final  var_dia_pct  var_pct  valor_inicial  \\\n",
              "0   USIM5 2024-01-26         9.50         5.20   0.0520       9.030418   \n",
              "1   CMIN3 2024-01-26         6.82         2.40   0.0240       6.660156   \n",
              "2   PETR3 2024-01-26        41.96         2.19   0.0219      41.060769   \n",
              "3   SUZB3 2024-01-26        52.91         2.04   0.0204      51.852215   \n",
              "4   CPFE3 2024-01-26        37.10         2.03   0.0203      36.361854   \n",
              "..    ...        ...          ...          ...      ...            ...   \n",
              "76  CRFB3 2024-01-26        10.71        -2.45  -0.0245      10.978985   \n",
              "77  BHIA3 2024-01-26         8.70        -2.46  -0.0246       8.919418   \n",
              "78  RENT3 2024-01-26        56.24        -3.63  -0.0363      58.358410   \n",
              "79  CVCB3 2024-01-26         3.07        -4.36  -0.0436       3.209954   \n",
              "80  GOLL4 2024-01-26         5.92        -8.07  -0.0807       6.439682   \n",
              "\n",
              "     qtd_teorica   variacao_rs  \n",
              "0   5.151174e+08  2.418897e+08  \n",
              "1   1.110559e+09  1.775160e+08  \n",
              "2   2.379878e+09  2.140059e+09  \n",
              "3   6.834528e+08  7.229463e+08  \n",
              "4   1.877325e+08  1.385740e+08  \n",
              "..           ...           ...  \n",
              "76  5.339906e+08 -1.436355e+08  \n",
              "77  9.484305e+07 -2.081024e+07  \n",
              "78  8.532023e+08 -1.807433e+09  \n",
              "79  5.255828e+08 -7.355741e+07  \n",
              "80  1.981849e+08 -1.029932e+08  \n",
              "\n",
              "[81 rows x 8 columns]"
            ]
          },
          "execution_count": 15,
          "metadata": {},
          "output_type": "execute_result"
        }
      ],
      "source": [
        "df_principal['variacao_rs'] = (df_principal['valor_final'] - df_principal['valor_inicial']) * df_principal['qtd_teorica']\n",
        "#df_principal['valor_inicial'] = df_principal['valor_final'] / (df_principal['var_pct'] + 1)\n",
        "df_principal"
      ]
    },
    {
      "cell_type": "code",
      "execution_count": 16,
      "metadata": {
        "colab": {
          "base_uri": "https://localhost:8080/",
          "height": 424
        },
        "id": "jDzZqkcg13Vn",
        "outputId": "197b394b-296e-4f7b-a674-57bb25a1676c"
      },
      "outputs": [
        {
          "data": {
            "text/html": [
              "<div>\n",
              "<style scoped>\n",
              "    .dataframe tbody tr th:only-of-type {\n",
              "        vertical-align: middle;\n",
              "    }\n",
              "\n",
              "    .dataframe tbody tr th {\n",
              "        vertical-align: top;\n",
              "    }\n",
              "\n",
              "    .dataframe thead th {\n",
              "        text-align: right;\n",
              "    }\n",
              "</style>\n",
              "<table border=\"1\" class=\"dataframe\">\n",
              "  <thead>\n",
              "    <tr style=\"text-align: right;\">\n",
              "      <th></th>\n",
              "      <th>Ativo</th>\n",
              "      <th>Data</th>\n",
              "      <th>valor_final</th>\n",
              "      <th>var_dia_pct</th>\n",
              "      <th>var_pct</th>\n",
              "      <th>valor_inicial</th>\n",
              "      <th>qtd_teorica</th>\n",
              "      <th>variacao_rs</th>\n",
              "    </tr>\n",
              "  </thead>\n",
              "  <tbody>\n",
              "    <tr>\n",
              "      <th>0</th>\n",
              "      <td>USIM5</td>\n",
              "      <td>2024-01-26</td>\n",
              "      <td>9.50</td>\n",
              "      <td>5.20</td>\n",
              "      <td>0.05</td>\n",
              "      <td>9.03</td>\n",
              "      <td>515117391</td>\n",
              "      <td>241889725.43</td>\n",
              "    </tr>\n",
              "    <tr>\n",
              "      <th>1</th>\n",
              "      <td>CMIN3</td>\n",
              "      <td>2024-01-26</td>\n",
              "      <td>6.82</td>\n",
              "      <td>2.40</td>\n",
              "      <td>0.02</td>\n",
              "      <td>6.66</td>\n",
              "      <td>1110559345</td>\n",
              "      <td>177515970.30</td>\n",
              "    </tr>\n",
              "    <tr>\n",
              "      <th>2</th>\n",
              "      <td>PETR3</td>\n",
              "      <td>2024-01-26</td>\n",
              "      <td>41.96</td>\n",
              "      <td>2.19</td>\n",
              "      <td>0.02</td>\n",
              "      <td>41.06</td>\n",
              "      <td>-2147483648</td>\n",
              "      <td>2140059393.53</td>\n",
              "    </tr>\n",
              "    <tr>\n",
              "      <th>3</th>\n",
              "      <td>SUZB3</td>\n",
              "      <td>2024-01-26</td>\n",
              "      <td>52.91</td>\n",
              "      <td>2.04</td>\n",
              "      <td>0.02</td>\n",
              "      <td>51.85</td>\n",
              "      <td>683452836</td>\n",
              "      <td>722946282.71</td>\n",
              "    </tr>\n",
              "    <tr>\n",
              "      <th>4</th>\n",
              "      <td>CPFE3</td>\n",
              "      <td>2024-01-26</td>\n",
              "      <td>37.10</td>\n",
              "      <td>2.03</td>\n",
              "      <td>0.02</td>\n",
              "      <td>36.36</td>\n",
              "      <td>187732538</td>\n",
              "      <td>138573955.06</td>\n",
              "    </tr>\n",
              "    <tr>\n",
              "      <th>...</th>\n",
              "      <td>...</td>\n",
              "      <td>...</td>\n",
              "      <td>...</td>\n",
              "      <td>...</td>\n",
              "      <td>...</td>\n",
              "      <td>...</td>\n",
              "      <td>...</td>\n",
              "      <td>...</td>\n",
              "    </tr>\n",
              "    <tr>\n",
              "      <th>76</th>\n",
              "      <td>CRFB3</td>\n",
              "      <td>2024-01-26</td>\n",
              "      <td>10.71</td>\n",
              "      <td>-2.45</td>\n",
              "      <td>-0.02</td>\n",
              "      <td>10.98</td>\n",
              "      <td>533990587</td>\n",
              "      <td>-143635530.57</td>\n",
              "    </tr>\n",
              "    <tr>\n",
              "      <th>77</th>\n",
              "      <td>BHIA3</td>\n",
              "      <td>2024-01-26</td>\n",
              "      <td>8.70</td>\n",
              "      <td>-2.46</td>\n",
              "      <td>-0.02</td>\n",
              "      <td>8.92</td>\n",
              "      <td>94843047</td>\n",
              "      <td>-20810240.84</td>\n",
              "    </tr>\n",
              "    <tr>\n",
              "      <th>78</th>\n",
              "      <td>RENT3</td>\n",
              "      <td>2024-01-26</td>\n",
              "      <td>56.24</td>\n",
              "      <td>-3.63</td>\n",
              "      <td>-0.04</td>\n",
              "      <td>58.36</td>\n",
              "      <td>853202347</td>\n",
              "      <td>-1807432634.46</td>\n",
              "    </tr>\n",
              "    <tr>\n",
              "      <th>79</th>\n",
              "      <td>CVCB3</td>\n",
              "      <td>2024-01-26</td>\n",
              "      <td>3.07</td>\n",
              "      <td>-4.36</td>\n",
              "      <td>-0.04</td>\n",
              "      <td>3.21</td>\n",
              "      <td>525582771</td>\n",
              "      <td>-73557408.06</td>\n",
              "    </tr>\n",
              "    <tr>\n",
              "      <th>80</th>\n",
              "      <td>GOLL4</td>\n",
              "      <td>2024-01-26</td>\n",
              "      <td>5.92</td>\n",
              "      <td>-8.07</td>\n",
              "      <td>-0.08</td>\n",
              "      <td>6.44</td>\n",
              "      <td>198184909</td>\n",
              "      <td>-102993202.62</td>\n",
              "    </tr>\n",
              "  </tbody>\n",
              "</table>\n",
              "<p>81 rows × 8 columns</p>\n",
              "</div>"
            ],
            "text/plain": [
              "    Ativo       Data  valor_final  var_dia_pct  var_pct  valor_inicial  \\\n",
              "0   USIM5 2024-01-26         9.50         5.20     0.05           9.03   \n",
              "1   CMIN3 2024-01-26         6.82         2.40     0.02           6.66   \n",
              "2   PETR3 2024-01-26        41.96         2.19     0.02          41.06   \n",
              "3   SUZB3 2024-01-26        52.91         2.04     0.02          51.85   \n",
              "4   CPFE3 2024-01-26        37.10         2.03     0.02          36.36   \n",
              "..    ...        ...          ...          ...      ...            ...   \n",
              "76  CRFB3 2024-01-26        10.71        -2.45    -0.02          10.98   \n",
              "77  BHIA3 2024-01-26         8.70        -2.46    -0.02           8.92   \n",
              "78  RENT3 2024-01-26        56.24        -3.63    -0.04          58.36   \n",
              "79  CVCB3 2024-01-26         3.07        -4.36    -0.04           3.21   \n",
              "80  GOLL4 2024-01-26         5.92        -8.07    -0.08           6.44   \n",
              "\n",
              "    qtd_teorica    variacao_rs  \n",
              "0     515117391   241889725.43  \n",
              "1    1110559345   177515970.30  \n",
              "2   -2147483648  2140059393.53  \n",
              "3     683452836   722946282.71  \n",
              "4     187732538   138573955.06  \n",
              "..          ...            ...  \n",
              "76    533990587  -143635530.57  \n",
              "77     94843047   -20810240.84  \n",
              "78    853202347 -1807432634.46  \n",
              "79    525582771   -73557408.06  \n",
              "80    198184909  -102993202.62  \n",
              "\n",
              "[81 rows x 8 columns]"
            ]
          },
          "execution_count": 16,
          "metadata": {},
          "output_type": "execute_result"
        }
      ],
      "source": [
        "pd.options.display.float_format = '{:.2f}'.format\n",
        "df_principal['qtd_teorica'] = df_principal['qtd_teorica'].astype(int)\n",
        "df_principal"
      ]
    },
    {
      "cell_type": "code",
      "execution_count": 17,
      "metadata": {
        "colab": {
          "base_uri": "https://localhost:8080/",
          "height": 424
        },
        "id": "Z5z3yoG0fCAz",
        "outputId": "735b56f3-792c-496e-c083-130cda5b3c4c"
      },
      "outputs": [
        {
          "data": {
            "text/html": [
              "<div>\n",
              "<style scoped>\n",
              "    .dataframe tbody tr th:only-of-type {\n",
              "        vertical-align: middle;\n",
              "    }\n",
              "\n",
              "    .dataframe tbody tr th {\n",
              "        vertical-align: top;\n",
              "    }\n",
              "\n",
              "    .dataframe thead th {\n",
              "        text-align: right;\n",
              "    }\n",
              "</style>\n",
              "<table border=\"1\" class=\"dataframe\">\n",
              "  <thead>\n",
              "    <tr style=\"text-align: right;\">\n",
              "      <th></th>\n",
              "      <th>Ativo</th>\n",
              "      <th>Data</th>\n",
              "      <th>valor_final</th>\n",
              "      <th>var_dia_pct</th>\n",
              "      <th>var_pct</th>\n",
              "      <th>valor_inicial</th>\n",
              "      <th>qtd_teorica</th>\n",
              "      <th>variacao_rs</th>\n",
              "      <th>Resultado</th>\n",
              "    </tr>\n",
              "  </thead>\n",
              "  <tbody>\n",
              "    <tr>\n",
              "      <th>0</th>\n",
              "      <td>USIM5</td>\n",
              "      <td>2024-01-26</td>\n",
              "      <td>9.50</td>\n",
              "      <td>5.20</td>\n",
              "      <td>0.05</td>\n",
              "      <td>9.03</td>\n",
              "      <td>515117391</td>\n",
              "      <td>241889725.43</td>\n",
              "      <td>Subiu</td>\n",
              "    </tr>\n",
              "    <tr>\n",
              "      <th>1</th>\n",
              "      <td>CMIN3</td>\n",
              "      <td>2024-01-26</td>\n",
              "      <td>6.82</td>\n",
              "      <td>2.40</td>\n",
              "      <td>0.02</td>\n",
              "      <td>6.66</td>\n",
              "      <td>1110559345</td>\n",
              "      <td>177515970.30</td>\n",
              "      <td>Subiu</td>\n",
              "    </tr>\n",
              "    <tr>\n",
              "      <th>2</th>\n",
              "      <td>PETR3</td>\n",
              "      <td>2024-01-26</td>\n",
              "      <td>41.96</td>\n",
              "      <td>2.19</td>\n",
              "      <td>0.02</td>\n",
              "      <td>41.06</td>\n",
              "      <td>-2147483648</td>\n",
              "      <td>2140059393.53</td>\n",
              "      <td>Subiu</td>\n",
              "    </tr>\n",
              "    <tr>\n",
              "      <th>3</th>\n",
              "      <td>SUZB3</td>\n",
              "      <td>2024-01-26</td>\n",
              "      <td>52.91</td>\n",
              "      <td>2.04</td>\n",
              "      <td>0.02</td>\n",
              "      <td>51.85</td>\n",
              "      <td>683452836</td>\n",
              "      <td>722946282.71</td>\n",
              "      <td>Subiu</td>\n",
              "    </tr>\n",
              "    <tr>\n",
              "      <th>4</th>\n",
              "      <td>CPFE3</td>\n",
              "      <td>2024-01-26</td>\n",
              "      <td>37.10</td>\n",
              "      <td>2.03</td>\n",
              "      <td>0.02</td>\n",
              "      <td>36.36</td>\n",
              "      <td>187732538</td>\n",
              "      <td>138573955.06</td>\n",
              "      <td>Subiu</td>\n",
              "    </tr>\n",
              "    <tr>\n",
              "      <th>...</th>\n",
              "      <td>...</td>\n",
              "      <td>...</td>\n",
              "      <td>...</td>\n",
              "      <td>...</td>\n",
              "      <td>...</td>\n",
              "      <td>...</td>\n",
              "      <td>...</td>\n",
              "      <td>...</td>\n",
              "      <td>...</td>\n",
              "    </tr>\n",
              "    <tr>\n",
              "      <th>76</th>\n",
              "      <td>CRFB3</td>\n",
              "      <td>2024-01-26</td>\n",
              "      <td>10.71</td>\n",
              "      <td>-2.45</td>\n",
              "      <td>-0.02</td>\n",
              "      <td>10.98</td>\n",
              "      <td>533990587</td>\n",
              "      <td>-143635530.57</td>\n",
              "      <td>Desceu</td>\n",
              "    </tr>\n",
              "    <tr>\n",
              "      <th>77</th>\n",
              "      <td>BHIA3</td>\n",
              "      <td>2024-01-26</td>\n",
              "      <td>8.70</td>\n",
              "      <td>-2.46</td>\n",
              "      <td>-0.02</td>\n",
              "      <td>8.92</td>\n",
              "      <td>94843047</td>\n",
              "      <td>-20810240.84</td>\n",
              "      <td>Desceu</td>\n",
              "    </tr>\n",
              "    <tr>\n",
              "      <th>78</th>\n",
              "      <td>RENT3</td>\n",
              "      <td>2024-01-26</td>\n",
              "      <td>56.24</td>\n",
              "      <td>-3.63</td>\n",
              "      <td>-0.04</td>\n",
              "      <td>58.36</td>\n",
              "      <td>853202347</td>\n",
              "      <td>-1807432634.46</td>\n",
              "      <td>Desceu</td>\n",
              "    </tr>\n",
              "    <tr>\n",
              "      <th>79</th>\n",
              "      <td>CVCB3</td>\n",
              "      <td>2024-01-26</td>\n",
              "      <td>3.07</td>\n",
              "      <td>-4.36</td>\n",
              "      <td>-0.04</td>\n",
              "      <td>3.21</td>\n",
              "      <td>525582771</td>\n",
              "      <td>-73557408.06</td>\n",
              "      <td>Desceu</td>\n",
              "    </tr>\n",
              "    <tr>\n",
              "      <th>80</th>\n",
              "      <td>GOLL4</td>\n",
              "      <td>2024-01-26</td>\n",
              "      <td>5.92</td>\n",
              "      <td>-8.07</td>\n",
              "      <td>-0.08</td>\n",
              "      <td>6.44</td>\n",
              "      <td>198184909</td>\n",
              "      <td>-102993202.62</td>\n",
              "      <td>Desceu</td>\n",
              "    </tr>\n",
              "  </tbody>\n",
              "</table>\n",
              "<p>81 rows × 9 columns</p>\n",
              "</div>"
            ],
            "text/plain": [
              "    Ativo       Data  valor_final  var_dia_pct  var_pct  valor_inicial  \\\n",
              "0   USIM5 2024-01-26         9.50         5.20     0.05           9.03   \n",
              "1   CMIN3 2024-01-26         6.82         2.40     0.02           6.66   \n",
              "2   PETR3 2024-01-26        41.96         2.19     0.02          41.06   \n",
              "3   SUZB3 2024-01-26        52.91         2.04     0.02          51.85   \n",
              "4   CPFE3 2024-01-26        37.10         2.03     0.02          36.36   \n",
              "..    ...        ...          ...          ...      ...            ...   \n",
              "76  CRFB3 2024-01-26        10.71        -2.45    -0.02          10.98   \n",
              "77  BHIA3 2024-01-26         8.70        -2.46    -0.02           8.92   \n",
              "78  RENT3 2024-01-26        56.24        -3.63    -0.04          58.36   \n",
              "79  CVCB3 2024-01-26         3.07        -4.36    -0.04           3.21   \n",
              "80  GOLL4 2024-01-26         5.92        -8.07    -0.08           6.44   \n",
              "\n",
              "    qtd_teorica    variacao_rs Resultado  \n",
              "0     515117391   241889725.43     Subiu  \n",
              "1    1110559345   177515970.30     Subiu  \n",
              "2   -2147483648  2140059393.53     Subiu  \n",
              "3     683452836   722946282.71     Subiu  \n",
              "4     187732538   138573955.06     Subiu  \n",
              "..          ...            ...       ...  \n",
              "76    533990587  -143635530.57    Desceu  \n",
              "77     94843047   -20810240.84    Desceu  \n",
              "78    853202347 -1807432634.46    Desceu  \n",
              "79    525582771   -73557408.06    Desceu  \n",
              "80    198184909  -102993202.62    Desceu  \n",
              "\n",
              "[81 rows x 9 columns]"
            ]
          },
          "execution_count": 17,
          "metadata": {},
          "output_type": "execute_result"
        }
      ],
      "source": [
        "df_principal['Resultado'] = df_principal['variacao_rs'].apply(lambda x: 'Subiu' if x > 0 else ('Igual' if x == 0 else 'Desceu'))\n",
        "df_principal"
      ]
    },
    {
      "cell_type": "code",
      "execution_count": 18,
      "metadata": {
        "colab": {
          "base_uri": "https://localhost:8080/",
          "height": 424
        },
        "id": "z2RyNRcdQK5J",
        "outputId": "31952e77-0a36-4f8c-8bd6-de7ac0839369"
      },
      "outputs": [
        {
          "data": {
            "text/html": [
              "<div>\n",
              "<style scoped>\n",
              "    .dataframe tbody tr th:only-of-type {\n",
              "        vertical-align: middle;\n",
              "    }\n",
              "\n",
              "    .dataframe tbody tr th {\n",
              "        vertical-align: top;\n",
              "    }\n",
              "\n",
              "    .dataframe thead th {\n",
              "        text-align: right;\n",
              "    }\n",
              "</style>\n",
              "<table border=\"1\" class=\"dataframe\">\n",
              "  <thead>\n",
              "    <tr style=\"text-align: right;\">\n",
              "      <th></th>\n",
              "      <th>Ativo</th>\n",
              "      <th>Data</th>\n",
              "      <th>valor_final</th>\n",
              "      <th>var_dia_pct</th>\n",
              "      <th>var_pct</th>\n",
              "      <th>valor_inicial</th>\n",
              "      <th>qtd_teorica</th>\n",
              "      <th>variacao_rs</th>\n",
              "      <th>Resultado</th>\n",
              "      <th>Nome</th>\n",
              "    </tr>\n",
              "  </thead>\n",
              "  <tbody>\n",
              "    <tr>\n",
              "      <th>0</th>\n",
              "      <td>USIM5</td>\n",
              "      <td>2024-01-26</td>\n",
              "      <td>9.50</td>\n",
              "      <td>5.20</td>\n",
              "      <td>0.05</td>\n",
              "      <td>9.03</td>\n",
              "      <td>515117391</td>\n",
              "      <td>241889725.43</td>\n",
              "      <td>Subiu</td>\n",
              "      <td>Usiminas</td>\n",
              "    </tr>\n",
              "    <tr>\n",
              "      <th>1</th>\n",
              "      <td>CMIN3</td>\n",
              "      <td>2024-01-26</td>\n",
              "      <td>6.82</td>\n",
              "      <td>2.40</td>\n",
              "      <td>0.02</td>\n",
              "      <td>6.66</td>\n",
              "      <td>1110559345</td>\n",
              "      <td>177515970.30</td>\n",
              "      <td>Subiu</td>\n",
              "      <td>CSN Mineração</td>\n",
              "    </tr>\n",
              "    <tr>\n",
              "      <th>2</th>\n",
              "      <td>PETR3</td>\n",
              "      <td>2024-01-26</td>\n",
              "      <td>41.96</td>\n",
              "      <td>2.19</td>\n",
              "      <td>0.02</td>\n",
              "      <td>41.06</td>\n",
              "      <td>-2147483648</td>\n",
              "      <td>2140059393.53</td>\n",
              "      <td>Subiu</td>\n",
              "      <td>Petrobras</td>\n",
              "    </tr>\n",
              "    <tr>\n",
              "      <th>3</th>\n",
              "      <td>SUZB3</td>\n",
              "      <td>2024-01-26</td>\n",
              "      <td>52.91</td>\n",
              "      <td>2.04</td>\n",
              "      <td>0.02</td>\n",
              "      <td>51.85</td>\n",
              "      <td>683452836</td>\n",
              "      <td>722946282.71</td>\n",
              "      <td>Subiu</td>\n",
              "      <td>Suzano</td>\n",
              "    </tr>\n",
              "    <tr>\n",
              "      <th>4</th>\n",
              "      <td>CPFE3</td>\n",
              "      <td>2024-01-26</td>\n",
              "      <td>37.10</td>\n",
              "      <td>2.03</td>\n",
              "      <td>0.02</td>\n",
              "      <td>36.36</td>\n",
              "      <td>187732538</td>\n",
              "      <td>138573955.06</td>\n",
              "      <td>Subiu</td>\n",
              "      <td>CPFL Energia</td>\n",
              "    </tr>\n",
              "    <tr>\n",
              "      <th>...</th>\n",
              "      <td>...</td>\n",
              "      <td>...</td>\n",
              "      <td>...</td>\n",
              "      <td>...</td>\n",
              "      <td>...</td>\n",
              "      <td>...</td>\n",
              "      <td>...</td>\n",
              "      <td>...</td>\n",
              "      <td>...</td>\n",
              "      <td>...</td>\n",
              "    </tr>\n",
              "    <tr>\n",
              "      <th>76</th>\n",
              "      <td>CRFB3</td>\n",
              "      <td>2024-01-26</td>\n",
              "      <td>10.71</td>\n",
              "      <td>-2.45</td>\n",
              "      <td>-0.02</td>\n",
              "      <td>10.98</td>\n",
              "      <td>533990587</td>\n",
              "      <td>-143635530.57</td>\n",
              "      <td>Desceu</td>\n",
              "      <td>Carrefour Brasil</td>\n",
              "    </tr>\n",
              "    <tr>\n",
              "      <th>77</th>\n",
              "      <td>BHIA3</td>\n",
              "      <td>2024-01-26</td>\n",
              "      <td>8.70</td>\n",
              "      <td>-2.46</td>\n",
              "      <td>-0.02</td>\n",
              "      <td>8.92</td>\n",
              "      <td>94843047</td>\n",
              "      <td>-20810240.84</td>\n",
              "      <td>Desceu</td>\n",
              "      <td>Casas Bahia</td>\n",
              "    </tr>\n",
              "    <tr>\n",
              "      <th>78</th>\n",
              "      <td>RENT3</td>\n",
              "      <td>2024-01-26</td>\n",
              "      <td>56.24</td>\n",
              "      <td>-3.63</td>\n",
              "      <td>-0.04</td>\n",
              "      <td>58.36</td>\n",
              "      <td>853202347</td>\n",
              "      <td>-1807432634.46</td>\n",
              "      <td>Desceu</td>\n",
              "      <td>Localiza</td>\n",
              "    </tr>\n",
              "    <tr>\n",
              "      <th>79</th>\n",
              "      <td>CVCB3</td>\n",
              "      <td>2024-01-26</td>\n",
              "      <td>3.07</td>\n",
              "      <td>-4.36</td>\n",
              "      <td>-0.04</td>\n",
              "      <td>3.21</td>\n",
              "      <td>525582771</td>\n",
              "      <td>-73557408.06</td>\n",
              "      <td>Desceu</td>\n",
              "      <td>CVC</td>\n",
              "    </tr>\n",
              "    <tr>\n",
              "      <th>80</th>\n",
              "      <td>GOLL4</td>\n",
              "      <td>2024-01-26</td>\n",
              "      <td>5.92</td>\n",
              "      <td>-8.07</td>\n",
              "      <td>-0.08</td>\n",
              "      <td>6.44</td>\n",
              "      <td>198184909</td>\n",
              "      <td>-102993202.62</td>\n",
              "      <td>Desceu</td>\n",
              "      <td>GOL</td>\n",
              "    </tr>\n",
              "  </tbody>\n",
              "</table>\n",
              "<p>81 rows × 10 columns</p>\n",
              "</div>"
            ],
            "text/plain": [
              "    Ativo       Data  valor_final  var_dia_pct  var_pct  valor_inicial  \\\n",
              "0   USIM5 2024-01-26         9.50         5.20     0.05           9.03   \n",
              "1   CMIN3 2024-01-26         6.82         2.40     0.02           6.66   \n",
              "2   PETR3 2024-01-26        41.96         2.19     0.02          41.06   \n",
              "3   SUZB3 2024-01-26        52.91         2.04     0.02          51.85   \n",
              "4   CPFE3 2024-01-26        37.10         2.03     0.02          36.36   \n",
              "..    ...        ...          ...          ...      ...            ...   \n",
              "76  CRFB3 2024-01-26        10.71        -2.45    -0.02          10.98   \n",
              "77  BHIA3 2024-01-26         8.70        -2.46    -0.02           8.92   \n",
              "78  RENT3 2024-01-26        56.24        -3.63    -0.04          58.36   \n",
              "79  CVCB3 2024-01-26         3.07        -4.36    -0.04           3.21   \n",
              "80  GOLL4 2024-01-26         5.92        -8.07    -0.08           6.44   \n",
              "\n",
              "    qtd_teorica    variacao_rs Resultado              Nome  \n",
              "0     515117391   241889725.43     Subiu          Usiminas  \n",
              "1    1110559345   177515970.30     Subiu     CSN Mineração  \n",
              "2   -2147483648  2140059393.53     Subiu         Petrobras  \n",
              "3     683452836   722946282.71     Subiu            Suzano  \n",
              "4     187732538   138573955.06     Subiu      CPFL Energia  \n",
              "..          ...            ...       ...               ...  \n",
              "76    533990587  -143635530.57    Desceu  Carrefour Brasil  \n",
              "77     94843047   -20810240.84    Desceu       Casas Bahia  \n",
              "78    853202347 -1807432634.46    Desceu          Localiza  \n",
              "79    525582771   -73557408.06    Desceu               CVC  \n",
              "80    198184909  -102993202.62    Desceu               GOL  \n",
              "\n",
              "[81 rows x 10 columns]"
            ]
          },
          "execution_count": 18,
          "metadata": {},
          "output_type": "execute_result"
        }
      ],
      "source": [
        "df_principal = df_principal.merge(df_ticker, left_on='Ativo', right_on='Ticker', how='left')\n",
        "df_principal = df_principal.drop(columns=['Ticker'])\n",
        "df_principal"
      ]
    },
    {
      "cell_type": "code",
      "execution_count": 19,
      "metadata": {
        "colab": {
          "base_uri": "https://localhost:8080/",
          "height": 424
        },
        "id": "2aBqiPCuQZvl",
        "outputId": "57982a49-879e-43ee-fb4e-15dc55b05995"
      },
      "outputs": [
        {
          "data": {
            "text/html": [
              "<div>\n",
              "<style scoped>\n",
              "    .dataframe tbody tr th:only-of-type {\n",
              "        vertical-align: middle;\n",
              "    }\n",
              "\n",
              "    .dataframe tbody tr th {\n",
              "        vertical-align: top;\n",
              "    }\n",
              "\n",
              "    .dataframe thead th {\n",
              "        text-align: right;\n",
              "    }\n",
              "</style>\n",
              "<table border=\"1\" class=\"dataframe\">\n",
              "  <thead>\n",
              "    <tr style=\"text-align: right;\">\n",
              "      <th></th>\n",
              "      <th>Ativo</th>\n",
              "      <th>Data</th>\n",
              "      <th>valor_final</th>\n",
              "      <th>var_dia_pct</th>\n",
              "      <th>var_pct</th>\n",
              "      <th>valor_inicial</th>\n",
              "      <th>qtd_teorica</th>\n",
              "      <th>variacao_rs</th>\n",
              "      <th>Resultado</th>\n",
              "      <th>Nome</th>\n",
              "      <th>Segmento</th>\n",
              "      <th>Idade (anos)</th>\n",
              "    </tr>\n",
              "  </thead>\n",
              "  <tbody>\n",
              "    <tr>\n",
              "      <th>0</th>\n",
              "      <td>USIM5</td>\n",
              "      <td>2024-01-26</td>\n",
              "      <td>9.50</td>\n",
              "      <td>5.20</td>\n",
              "      <td>0.05</td>\n",
              "      <td>9.03</td>\n",
              "      <td>515117391</td>\n",
              "      <td>241889725.43</td>\n",
              "      <td>Subiu</td>\n",
              "      <td>Usiminas</td>\n",
              "      <td>Siderurgia</td>\n",
              "      <td>59</td>\n",
              "    </tr>\n",
              "    <tr>\n",
              "      <th>1</th>\n",
              "      <td>CMIN3</td>\n",
              "      <td>2024-01-26</td>\n",
              "      <td>6.82</td>\n",
              "      <td>2.40</td>\n",
              "      <td>0.02</td>\n",
              "      <td>6.66</td>\n",
              "      <td>1110559345</td>\n",
              "      <td>177515970.30</td>\n",
              "      <td>Subiu</td>\n",
              "      <td>CSN Mineração</td>\n",
              "      <td>Mineração</td>\n",
              "      <td>79</td>\n",
              "    </tr>\n",
              "    <tr>\n",
              "      <th>2</th>\n",
              "      <td>PETR3</td>\n",
              "      <td>2024-01-26</td>\n",
              "      <td>41.96</td>\n",
              "      <td>2.19</td>\n",
              "      <td>0.02</td>\n",
              "      <td>41.06</td>\n",
              "      <td>-2147483648</td>\n",
              "      <td>2140059393.53</td>\n",
              "      <td>Subiu</td>\n",
              "      <td>Petrobras</td>\n",
              "      <td>Petróleo</td>\n",
              "      <td>69</td>\n",
              "    </tr>\n",
              "    <tr>\n",
              "      <th>3</th>\n",
              "      <td>SUZB3</td>\n",
              "      <td>2024-01-26</td>\n",
              "      <td>52.91</td>\n",
              "      <td>2.04</td>\n",
              "      <td>0.02</td>\n",
              "      <td>51.85</td>\n",
              "      <td>683452836</td>\n",
              "      <td>722946282.71</td>\n",
              "      <td>Subiu</td>\n",
              "      <td>Suzano</td>\n",
              "      <td>Papel e Celulose</td>\n",
              "      <td>98</td>\n",
              "    </tr>\n",
              "    <tr>\n",
              "      <th>4</th>\n",
              "      <td>CPFE3</td>\n",
              "      <td>2024-01-26</td>\n",
              "      <td>37.10</td>\n",
              "      <td>2.03</td>\n",
              "      <td>0.02</td>\n",
              "      <td>36.36</td>\n",
              "      <td>187732538</td>\n",
              "      <td>138573955.06</td>\n",
              "      <td>Subiu</td>\n",
              "      <td>CPFL Energia</td>\n",
              "      <td>Energia</td>\n",
              "      <td>109</td>\n",
              "    </tr>\n",
              "    <tr>\n",
              "      <th>...</th>\n",
              "      <td>...</td>\n",
              "      <td>...</td>\n",
              "      <td>...</td>\n",
              "      <td>...</td>\n",
              "      <td>...</td>\n",
              "      <td>...</td>\n",
              "      <td>...</td>\n",
              "      <td>...</td>\n",
              "      <td>...</td>\n",
              "      <td>...</td>\n",
              "      <td>...</td>\n",
              "      <td>...</td>\n",
              "    </tr>\n",
              "    <tr>\n",
              "      <th>76</th>\n",
              "      <td>CRFB3</td>\n",
              "      <td>2024-01-26</td>\n",
              "      <td>10.71</td>\n",
              "      <td>-2.45</td>\n",
              "      <td>-0.02</td>\n",
              "      <td>10.98</td>\n",
              "      <td>533990587</td>\n",
              "      <td>-143635530.57</td>\n",
              "      <td>Desceu</td>\n",
              "      <td>Carrefour Brasil</td>\n",
              "      <td>Varejo</td>\n",
              "      <td>44</td>\n",
              "    </tr>\n",
              "    <tr>\n",
              "      <th>77</th>\n",
              "      <td>BHIA3</td>\n",
              "      <td>2024-01-26</td>\n",
              "      <td>8.70</td>\n",
              "      <td>-2.46</td>\n",
              "      <td>-0.02</td>\n",
              "      <td>8.92</td>\n",
              "      <td>94843047</td>\n",
              "      <td>-20810240.84</td>\n",
              "      <td>Desceu</td>\n",
              "      <td>Casas Bahia</td>\n",
              "      <td>Varejo</td>\n",
              "      <td>67</td>\n",
              "    </tr>\n",
              "    <tr>\n",
              "      <th>78</th>\n",
              "      <td>RENT3</td>\n",
              "      <td>2024-01-26</td>\n",
              "      <td>56.24</td>\n",
              "      <td>-3.63</td>\n",
              "      <td>-0.04</td>\n",
              "      <td>58.36</td>\n",
              "      <td>853202347</td>\n",
              "      <td>-1807432634.46</td>\n",
              "      <td>Desceu</td>\n",
              "      <td>Localiza</td>\n",
              "      <td>Aluguel de Carros</td>\n",
              "      <td>48</td>\n",
              "    </tr>\n",
              "    <tr>\n",
              "      <th>79</th>\n",
              "      <td>CVCB3</td>\n",
              "      <td>2024-01-26</td>\n",
              "      <td>3.07</td>\n",
              "      <td>-4.36</td>\n",
              "      <td>-0.04</td>\n",
              "      <td>3.21</td>\n",
              "      <td>525582771</td>\n",
              "      <td>-73557408.06</td>\n",
              "      <td>Desceu</td>\n",
              "      <td>CVC</td>\n",
              "      <td>Turismo</td>\n",
              "      <td>49</td>\n",
              "    </tr>\n",
              "    <tr>\n",
              "      <th>80</th>\n",
              "      <td>GOLL4</td>\n",
              "      <td>2024-01-26</td>\n",
              "      <td>5.92</td>\n",
              "      <td>-8.07</td>\n",
              "      <td>-0.08</td>\n",
              "      <td>6.44</td>\n",
              "      <td>198184909</td>\n",
              "      <td>-102993202.62</td>\n",
              "      <td>Desceu</td>\n",
              "      <td>GOL</td>\n",
              "      <td>Aviação</td>\n",
              "      <td>21</td>\n",
              "    </tr>\n",
              "  </tbody>\n",
              "</table>\n",
              "<p>81 rows × 12 columns</p>\n",
              "</div>"
            ],
            "text/plain": [
              "    Ativo       Data  valor_final  var_dia_pct  var_pct  valor_inicial  \\\n",
              "0   USIM5 2024-01-26         9.50         5.20     0.05           9.03   \n",
              "1   CMIN3 2024-01-26         6.82         2.40     0.02           6.66   \n",
              "2   PETR3 2024-01-26        41.96         2.19     0.02          41.06   \n",
              "3   SUZB3 2024-01-26        52.91         2.04     0.02          51.85   \n",
              "4   CPFE3 2024-01-26        37.10         2.03     0.02          36.36   \n",
              "..    ...        ...          ...          ...      ...            ...   \n",
              "76  CRFB3 2024-01-26        10.71        -2.45    -0.02          10.98   \n",
              "77  BHIA3 2024-01-26         8.70        -2.46    -0.02           8.92   \n",
              "78  RENT3 2024-01-26        56.24        -3.63    -0.04          58.36   \n",
              "79  CVCB3 2024-01-26         3.07        -4.36    -0.04           3.21   \n",
              "80  GOLL4 2024-01-26         5.92        -8.07    -0.08           6.44   \n",
              "\n",
              "    qtd_teorica    variacao_rs Resultado              Nome           Segmento  \\\n",
              "0     515117391   241889725.43     Subiu          Usiminas         Siderurgia   \n",
              "1    1110559345   177515970.30     Subiu     CSN Mineração          Mineração   \n",
              "2   -2147483648  2140059393.53     Subiu         Petrobras           Petróleo   \n",
              "3     683452836   722946282.71     Subiu            Suzano   Papel e Celulose   \n",
              "4     187732538   138573955.06     Subiu      CPFL Energia            Energia   \n",
              "..          ...            ...       ...               ...                ...   \n",
              "76    533990587  -143635530.57    Desceu  Carrefour Brasil             Varejo   \n",
              "77     94843047   -20810240.84    Desceu       Casas Bahia             Varejo   \n",
              "78    853202347 -1807432634.46    Desceu          Localiza  Aluguel de Carros   \n",
              "79    525582771   -73557408.06    Desceu               CVC            Turismo   \n",
              "80    198184909  -102993202.62    Desceu               GOL            Aviação   \n",
              "\n",
              "    Idade (anos)  \n",
              "0             59  \n",
              "1             79  \n",
              "2             69  \n",
              "3             98  \n",
              "4            109  \n",
              "..           ...  \n",
              "76            44  \n",
              "77            67  \n",
              "78            48  \n",
              "79            49  \n",
              "80            21  \n",
              "\n",
              "[81 rows x 12 columns]"
            ]
          },
          "execution_count": 19,
          "metadata": {},
          "output_type": "execute_result"
        }
      ],
      "source": [
        "df_principal = df_principal.merge(df_mais, left_on='Nome', right_on='Empresa', how='left')\n",
        "df_principal = df_principal.drop(columns=['Empresa'])\n",
        "df_principal"
      ]
    },
    {
      "cell_type": "code",
      "execution_count": 20,
      "metadata": {
        "colab": {
          "base_uri": "https://localhost:8080/",
          "height": 424
        },
        "id": "Hm6jjMCPQzEr",
        "outputId": "d3abc8a7-b099-4b2b-ab24-0ffb02a8062b"
      },
      "outputs": [
        {
          "data": {
            "text/html": [
              "<div>\n",
              "<style scoped>\n",
              "    .dataframe tbody tr th:only-of-type {\n",
              "        vertical-align: middle;\n",
              "    }\n",
              "\n",
              "    .dataframe tbody tr th {\n",
              "        vertical-align: top;\n",
              "    }\n",
              "\n",
              "    .dataframe thead th {\n",
              "        text-align: right;\n",
              "    }\n",
              "</style>\n",
              "<table border=\"1\" class=\"dataframe\">\n",
              "  <thead>\n",
              "    <tr style=\"text-align: right;\">\n",
              "      <th></th>\n",
              "      <th>Ativo</th>\n",
              "      <th>Data</th>\n",
              "      <th>valor_final</th>\n",
              "      <th>var_dia_pct</th>\n",
              "      <th>var_pct</th>\n",
              "      <th>valor_inicial</th>\n",
              "      <th>qtd_teorica</th>\n",
              "      <th>variacao_rs</th>\n",
              "      <th>Resultado</th>\n",
              "      <th>Nome</th>\n",
              "      <th>Segmento</th>\n",
              "      <th>idade</th>\n",
              "    </tr>\n",
              "  </thead>\n",
              "  <tbody>\n",
              "    <tr>\n",
              "      <th>0</th>\n",
              "      <td>USIM5</td>\n",
              "      <td>2024-01-26</td>\n",
              "      <td>9.50</td>\n",
              "      <td>5.20</td>\n",
              "      <td>0.05</td>\n",
              "      <td>9.03</td>\n",
              "      <td>515117391</td>\n",
              "      <td>241889725.43</td>\n",
              "      <td>Subiu</td>\n",
              "      <td>Usiminas</td>\n",
              "      <td>Siderurgia</td>\n",
              "      <td>59</td>\n",
              "    </tr>\n",
              "    <tr>\n",
              "      <th>1</th>\n",
              "      <td>CMIN3</td>\n",
              "      <td>2024-01-26</td>\n",
              "      <td>6.82</td>\n",
              "      <td>2.40</td>\n",
              "      <td>0.02</td>\n",
              "      <td>6.66</td>\n",
              "      <td>1110559345</td>\n",
              "      <td>177515970.30</td>\n",
              "      <td>Subiu</td>\n",
              "      <td>CSN Mineração</td>\n",
              "      <td>Mineração</td>\n",
              "      <td>79</td>\n",
              "    </tr>\n",
              "    <tr>\n",
              "      <th>2</th>\n",
              "      <td>PETR3</td>\n",
              "      <td>2024-01-26</td>\n",
              "      <td>41.96</td>\n",
              "      <td>2.19</td>\n",
              "      <td>0.02</td>\n",
              "      <td>41.06</td>\n",
              "      <td>-2147483648</td>\n",
              "      <td>2140059393.53</td>\n",
              "      <td>Subiu</td>\n",
              "      <td>Petrobras</td>\n",
              "      <td>Petróleo</td>\n",
              "      <td>69</td>\n",
              "    </tr>\n",
              "    <tr>\n",
              "      <th>3</th>\n",
              "      <td>SUZB3</td>\n",
              "      <td>2024-01-26</td>\n",
              "      <td>52.91</td>\n",
              "      <td>2.04</td>\n",
              "      <td>0.02</td>\n",
              "      <td>51.85</td>\n",
              "      <td>683452836</td>\n",
              "      <td>722946282.71</td>\n",
              "      <td>Subiu</td>\n",
              "      <td>Suzano</td>\n",
              "      <td>Papel e Celulose</td>\n",
              "      <td>98</td>\n",
              "    </tr>\n",
              "    <tr>\n",
              "      <th>4</th>\n",
              "      <td>CPFE3</td>\n",
              "      <td>2024-01-26</td>\n",
              "      <td>37.10</td>\n",
              "      <td>2.03</td>\n",
              "      <td>0.02</td>\n",
              "      <td>36.36</td>\n",
              "      <td>187732538</td>\n",
              "      <td>138573955.06</td>\n",
              "      <td>Subiu</td>\n",
              "      <td>CPFL Energia</td>\n",
              "      <td>Energia</td>\n",
              "      <td>109</td>\n",
              "    </tr>\n",
              "    <tr>\n",
              "      <th>...</th>\n",
              "      <td>...</td>\n",
              "      <td>...</td>\n",
              "      <td>...</td>\n",
              "      <td>...</td>\n",
              "      <td>...</td>\n",
              "      <td>...</td>\n",
              "      <td>...</td>\n",
              "      <td>...</td>\n",
              "      <td>...</td>\n",
              "      <td>...</td>\n",
              "      <td>...</td>\n",
              "      <td>...</td>\n",
              "    </tr>\n",
              "    <tr>\n",
              "      <th>76</th>\n",
              "      <td>CRFB3</td>\n",
              "      <td>2024-01-26</td>\n",
              "      <td>10.71</td>\n",
              "      <td>-2.45</td>\n",
              "      <td>-0.02</td>\n",
              "      <td>10.98</td>\n",
              "      <td>533990587</td>\n",
              "      <td>-143635530.57</td>\n",
              "      <td>Desceu</td>\n",
              "      <td>Carrefour Brasil</td>\n",
              "      <td>Varejo</td>\n",
              "      <td>44</td>\n",
              "    </tr>\n",
              "    <tr>\n",
              "      <th>77</th>\n",
              "      <td>BHIA3</td>\n",
              "      <td>2024-01-26</td>\n",
              "      <td>8.70</td>\n",
              "      <td>-2.46</td>\n",
              "      <td>-0.02</td>\n",
              "      <td>8.92</td>\n",
              "      <td>94843047</td>\n",
              "      <td>-20810240.84</td>\n",
              "      <td>Desceu</td>\n",
              "      <td>Casas Bahia</td>\n",
              "      <td>Varejo</td>\n",
              "      <td>67</td>\n",
              "    </tr>\n",
              "    <tr>\n",
              "      <th>78</th>\n",
              "      <td>RENT3</td>\n",
              "      <td>2024-01-26</td>\n",
              "      <td>56.24</td>\n",
              "      <td>-3.63</td>\n",
              "      <td>-0.04</td>\n",
              "      <td>58.36</td>\n",
              "      <td>853202347</td>\n",
              "      <td>-1807432634.46</td>\n",
              "      <td>Desceu</td>\n",
              "      <td>Localiza</td>\n",
              "      <td>Aluguel de Carros</td>\n",
              "      <td>48</td>\n",
              "    </tr>\n",
              "    <tr>\n",
              "      <th>79</th>\n",
              "      <td>CVCB3</td>\n",
              "      <td>2024-01-26</td>\n",
              "      <td>3.07</td>\n",
              "      <td>-4.36</td>\n",
              "      <td>-0.04</td>\n",
              "      <td>3.21</td>\n",
              "      <td>525582771</td>\n",
              "      <td>-73557408.06</td>\n",
              "      <td>Desceu</td>\n",
              "      <td>CVC</td>\n",
              "      <td>Turismo</td>\n",
              "      <td>49</td>\n",
              "    </tr>\n",
              "    <tr>\n",
              "      <th>80</th>\n",
              "      <td>GOLL4</td>\n",
              "      <td>2024-01-26</td>\n",
              "      <td>5.92</td>\n",
              "      <td>-8.07</td>\n",
              "      <td>-0.08</td>\n",
              "      <td>6.44</td>\n",
              "      <td>198184909</td>\n",
              "      <td>-102993202.62</td>\n",
              "      <td>Desceu</td>\n",
              "      <td>GOL</td>\n",
              "      <td>Aviação</td>\n",
              "      <td>21</td>\n",
              "    </tr>\n",
              "  </tbody>\n",
              "</table>\n",
              "<p>81 rows × 12 columns</p>\n",
              "</div>"
            ],
            "text/plain": [
              "    Ativo       Data  valor_final  var_dia_pct  var_pct  valor_inicial  \\\n",
              "0   USIM5 2024-01-26         9.50         5.20     0.05           9.03   \n",
              "1   CMIN3 2024-01-26         6.82         2.40     0.02           6.66   \n",
              "2   PETR3 2024-01-26        41.96         2.19     0.02          41.06   \n",
              "3   SUZB3 2024-01-26        52.91         2.04     0.02          51.85   \n",
              "4   CPFE3 2024-01-26        37.10         2.03     0.02          36.36   \n",
              "..    ...        ...          ...          ...      ...            ...   \n",
              "76  CRFB3 2024-01-26        10.71        -2.45    -0.02          10.98   \n",
              "77  BHIA3 2024-01-26         8.70        -2.46    -0.02           8.92   \n",
              "78  RENT3 2024-01-26        56.24        -3.63    -0.04          58.36   \n",
              "79  CVCB3 2024-01-26         3.07        -4.36    -0.04           3.21   \n",
              "80  GOLL4 2024-01-26         5.92        -8.07    -0.08           6.44   \n",
              "\n",
              "    qtd_teorica    variacao_rs Resultado              Nome           Segmento  \\\n",
              "0     515117391   241889725.43     Subiu          Usiminas         Siderurgia   \n",
              "1    1110559345   177515970.30     Subiu     CSN Mineração          Mineração   \n",
              "2   -2147483648  2140059393.53     Subiu         Petrobras           Petróleo   \n",
              "3     683452836   722946282.71     Subiu            Suzano   Papel e Celulose   \n",
              "4     187732538   138573955.06     Subiu      CPFL Energia            Energia   \n",
              "..          ...            ...       ...               ...                ...   \n",
              "76    533990587  -143635530.57    Desceu  Carrefour Brasil             Varejo   \n",
              "77     94843047   -20810240.84    Desceu       Casas Bahia             Varejo   \n",
              "78    853202347 -1807432634.46    Desceu          Localiza  Aluguel de Carros   \n",
              "79    525582771   -73557408.06    Desceu               CVC            Turismo   \n",
              "80    198184909  -102993202.62    Desceu               GOL            Aviação   \n",
              "\n",
              "    idade  \n",
              "0      59  \n",
              "1      79  \n",
              "2      69  \n",
              "3      98  \n",
              "4     109  \n",
              "..    ...  \n",
              "76     44  \n",
              "77     67  \n",
              "78     48  \n",
              "79     49  \n",
              "80     21  \n",
              "\n",
              "[81 rows x 12 columns]"
            ]
          },
          "execution_count": 20,
          "metadata": {},
          "output_type": "execute_result"
        }
      ],
      "source": [
        "df_principal = df_principal.rename(columns={'Idade (anos)':'idade'}).copy()\n",
        "\n",
        "df_principal"
      ]
    },
    {
      "cell_type": "code",
      "execution_count": 21,
      "metadata": {
        "colab": {
          "base_uri": "https://localhost:8080/",
          "height": 424
        },
        "id": "QYAVcshrRG5R",
        "outputId": "f361edbc-aae7-4659-98b8-7525cd482b24"
      },
      "outputs": [
        {
          "data": {
            "text/html": [
              "<div>\n",
              "<style scoped>\n",
              "    .dataframe tbody tr th:only-of-type {\n",
              "        vertical-align: middle;\n",
              "    }\n",
              "\n",
              "    .dataframe tbody tr th {\n",
              "        vertical-align: top;\n",
              "    }\n",
              "\n",
              "    .dataframe thead th {\n",
              "        text-align: right;\n",
              "    }\n",
              "</style>\n",
              "<table border=\"1\" class=\"dataframe\">\n",
              "  <thead>\n",
              "    <tr style=\"text-align: right;\">\n",
              "      <th></th>\n",
              "      <th>Ativo</th>\n",
              "      <th>Data</th>\n",
              "      <th>valor_final</th>\n",
              "      <th>var_dia_pct</th>\n",
              "      <th>var_pct</th>\n",
              "      <th>valor_inicial</th>\n",
              "      <th>qtd_teorica</th>\n",
              "      <th>variacao_rs</th>\n",
              "      <th>Resultado</th>\n",
              "      <th>Nome</th>\n",
              "      <th>Segmento</th>\n",
              "      <th>idade</th>\n",
              "      <th>faixa_etaria</th>\n",
              "    </tr>\n",
              "  </thead>\n",
              "  <tbody>\n",
              "    <tr>\n",
              "      <th>0</th>\n",
              "      <td>USIM5</td>\n",
              "      <td>2024-01-26</td>\n",
              "      <td>9.50</td>\n",
              "      <td>5.20</td>\n",
              "      <td>0.05</td>\n",
              "      <td>9.03</td>\n",
              "      <td>515117391</td>\n",
              "      <td>241889725.43</td>\n",
              "      <td>Subiu</td>\n",
              "      <td>Usiminas</td>\n",
              "      <td>Siderurgia</td>\n",
              "      <td>59</td>\n",
              "      <td>Mais de 50 anos</td>\n",
              "    </tr>\n",
              "    <tr>\n",
              "      <th>1</th>\n",
              "      <td>CMIN3</td>\n",
              "      <td>2024-01-26</td>\n",
              "      <td>6.82</td>\n",
              "      <td>2.40</td>\n",
              "      <td>0.02</td>\n",
              "      <td>6.66</td>\n",
              "      <td>1110559345</td>\n",
              "      <td>177515970.30</td>\n",
              "      <td>Subiu</td>\n",
              "      <td>CSN Mineração</td>\n",
              "      <td>Mineração</td>\n",
              "      <td>79</td>\n",
              "      <td>Mais de 50 anos</td>\n",
              "    </tr>\n",
              "    <tr>\n",
              "      <th>2</th>\n",
              "      <td>PETR3</td>\n",
              "      <td>2024-01-26</td>\n",
              "      <td>41.96</td>\n",
              "      <td>2.19</td>\n",
              "      <td>0.02</td>\n",
              "      <td>41.06</td>\n",
              "      <td>-2147483648</td>\n",
              "      <td>2140059393.53</td>\n",
              "      <td>Subiu</td>\n",
              "      <td>Petrobras</td>\n",
              "      <td>Petróleo</td>\n",
              "      <td>69</td>\n",
              "      <td>Mais de 50 anos</td>\n",
              "    </tr>\n",
              "    <tr>\n",
              "      <th>3</th>\n",
              "      <td>SUZB3</td>\n",
              "      <td>2024-01-26</td>\n",
              "      <td>52.91</td>\n",
              "      <td>2.04</td>\n",
              "      <td>0.02</td>\n",
              "      <td>51.85</td>\n",
              "      <td>683452836</td>\n",
              "      <td>722946282.71</td>\n",
              "      <td>Subiu</td>\n",
              "      <td>Suzano</td>\n",
              "      <td>Papel e Celulose</td>\n",
              "      <td>98</td>\n",
              "      <td>Mais de 50 anos</td>\n",
              "    </tr>\n",
              "    <tr>\n",
              "      <th>4</th>\n",
              "      <td>CPFE3</td>\n",
              "      <td>2024-01-26</td>\n",
              "      <td>37.10</td>\n",
              "      <td>2.03</td>\n",
              "      <td>0.02</td>\n",
              "      <td>36.36</td>\n",
              "      <td>187732538</td>\n",
              "      <td>138573955.06</td>\n",
              "      <td>Subiu</td>\n",
              "      <td>CPFL Energia</td>\n",
              "      <td>Energia</td>\n",
              "      <td>109</td>\n",
              "      <td>Mais de 100 anos</td>\n",
              "    </tr>\n",
              "    <tr>\n",
              "      <th>...</th>\n",
              "      <td>...</td>\n",
              "      <td>...</td>\n",
              "      <td>...</td>\n",
              "      <td>...</td>\n",
              "      <td>...</td>\n",
              "      <td>...</td>\n",
              "      <td>...</td>\n",
              "      <td>...</td>\n",
              "      <td>...</td>\n",
              "      <td>...</td>\n",
              "      <td>...</td>\n",
              "      <td>...</td>\n",
              "      <td>...</td>\n",
              "    </tr>\n",
              "    <tr>\n",
              "      <th>76</th>\n",
              "      <td>CRFB3</td>\n",
              "      <td>2024-01-26</td>\n",
              "      <td>10.71</td>\n",
              "      <td>-2.45</td>\n",
              "      <td>-0.02</td>\n",
              "      <td>10.98</td>\n",
              "      <td>533990587</td>\n",
              "      <td>-143635530.57</td>\n",
              "      <td>Desceu</td>\n",
              "      <td>Carrefour Brasil</td>\n",
              "      <td>Varejo</td>\n",
              "      <td>44</td>\n",
              "      <td>Até 50 anos</td>\n",
              "    </tr>\n",
              "    <tr>\n",
              "      <th>77</th>\n",
              "      <td>BHIA3</td>\n",
              "      <td>2024-01-26</td>\n",
              "      <td>8.70</td>\n",
              "      <td>-2.46</td>\n",
              "      <td>-0.02</td>\n",
              "      <td>8.92</td>\n",
              "      <td>94843047</td>\n",
              "      <td>-20810240.84</td>\n",
              "      <td>Desceu</td>\n",
              "      <td>Casas Bahia</td>\n",
              "      <td>Varejo</td>\n",
              "      <td>67</td>\n",
              "      <td>Mais de 50 anos</td>\n",
              "    </tr>\n",
              "    <tr>\n",
              "      <th>78</th>\n",
              "      <td>RENT3</td>\n",
              "      <td>2024-01-26</td>\n",
              "      <td>56.24</td>\n",
              "      <td>-3.63</td>\n",
              "      <td>-0.04</td>\n",
              "      <td>58.36</td>\n",
              "      <td>853202347</td>\n",
              "      <td>-1807432634.46</td>\n",
              "      <td>Desceu</td>\n",
              "      <td>Localiza</td>\n",
              "      <td>Aluguel de Carros</td>\n",
              "      <td>48</td>\n",
              "      <td>Até 50 anos</td>\n",
              "    </tr>\n",
              "    <tr>\n",
              "      <th>79</th>\n",
              "      <td>CVCB3</td>\n",
              "      <td>2024-01-26</td>\n",
              "      <td>3.07</td>\n",
              "      <td>-4.36</td>\n",
              "      <td>-0.04</td>\n",
              "      <td>3.21</td>\n",
              "      <td>525582771</td>\n",
              "      <td>-73557408.06</td>\n",
              "      <td>Desceu</td>\n",
              "      <td>CVC</td>\n",
              "      <td>Turismo</td>\n",
              "      <td>49</td>\n",
              "      <td>Até 50 anos</td>\n",
              "    </tr>\n",
              "    <tr>\n",
              "      <th>80</th>\n",
              "      <td>GOLL4</td>\n",
              "      <td>2024-01-26</td>\n",
              "      <td>5.92</td>\n",
              "      <td>-8.07</td>\n",
              "      <td>-0.08</td>\n",
              "      <td>6.44</td>\n",
              "      <td>198184909</td>\n",
              "      <td>-102993202.62</td>\n",
              "      <td>Desceu</td>\n",
              "      <td>GOL</td>\n",
              "      <td>Aviação</td>\n",
              "      <td>21</td>\n",
              "      <td>Até 50 anos</td>\n",
              "    </tr>\n",
              "  </tbody>\n",
              "</table>\n",
              "<p>81 rows × 13 columns</p>\n",
              "</div>"
            ],
            "text/plain": [
              "    Ativo       Data  valor_final  var_dia_pct  var_pct  valor_inicial  \\\n",
              "0   USIM5 2024-01-26         9.50         5.20     0.05           9.03   \n",
              "1   CMIN3 2024-01-26         6.82         2.40     0.02           6.66   \n",
              "2   PETR3 2024-01-26        41.96         2.19     0.02          41.06   \n",
              "3   SUZB3 2024-01-26        52.91         2.04     0.02          51.85   \n",
              "4   CPFE3 2024-01-26        37.10         2.03     0.02          36.36   \n",
              "..    ...        ...          ...          ...      ...            ...   \n",
              "76  CRFB3 2024-01-26        10.71        -2.45    -0.02          10.98   \n",
              "77  BHIA3 2024-01-26         8.70        -2.46    -0.02           8.92   \n",
              "78  RENT3 2024-01-26        56.24        -3.63    -0.04          58.36   \n",
              "79  CVCB3 2024-01-26         3.07        -4.36    -0.04           3.21   \n",
              "80  GOLL4 2024-01-26         5.92        -8.07    -0.08           6.44   \n",
              "\n",
              "    qtd_teorica    variacao_rs Resultado              Nome           Segmento  \\\n",
              "0     515117391   241889725.43     Subiu          Usiminas         Siderurgia   \n",
              "1    1110559345   177515970.30     Subiu     CSN Mineração          Mineração   \n",
              "2   -2147483648  2140059393.53     Subiu         Petrobras           Petróleo   \n",
              "3     683452836   722946282.71     Subiu            Suzano   Papel e Celulose   \n",
              "4     187732538   138573955.06     Subiu      CPFL Energia            Energia   \n",
              "..          ...            ...       ...               ...                ...   \n",
              "76    533990587  -143635530.57    Desceu  Carrefour Brasil             Varejo   \n",
              "77     94843047   -20810240.84    Desceu       Casas Bahia             Varejo   \n",
              "78    853202347 -1807432634.46    Desceu          Localiza  Aluguel de Carros   \n",
              "79    525582771   -73557408.06    Desceu               CVC            Turismo   \n",
              "80    198184909  -102993202.62    Desceu               GOL            Aviação   \n",
              "\n",
              "    idade      faixa_etaria  \n",
              "0      59   Mais de 50 anos  \n",
              "1      79   Mais de 50 anos  \n",
              "2      69   Mais de 50 anos  \n",
              "3      98   Mais de 50 anos  \n",
              "4     109  Mais de 100 anos  \n",
              "..    ...               ...  \n",
              "76     44       Até 50 anos  \n",
              "77     67   Mais de 50 anos  \n",
              "78     48       Até 50 anos  \n",
              "79     49       Até 50 anos  \n",
              "80     21       Até 50 anos  \n",
              "\n",
              "[81 rows x 13 columns]"
            ]
          },
          "execution_count": 21,
          "metadata": {},
          "output_type": "execute_result"
        }
      ],
      "source": [
        "df_principal['faixa_etaria'] = df_principal['idade'].apply(lambda x: 'Mais de 100 anos' if x > 100 else ('Mais de 50 anos' if x > 50 else 'Até 50 anos'))\n",
        "df_principal\n"
      ]
    },
    {
      "cell_type": "markdown",
      "metadata": {
        "id": "ua5L6GR2e03Z"
      },
      "source": [
        "# Análises"
      ]
    },
    {
      "cell_type": "code",
      "execution_count": 22,
      "metadata": {
        "colab": {
          "base_uri": "https://localhost:8080/"
        },
        "id": "qeICjlyMRl3Q",
        "outputId": "d1052491-93e7-4582-a0f7-aa7c4b7f1f49"
      },
      "outputs": [
        {
          "name": "stdout",
          "output_type": "stream",
          "text": [
            "Maior\tR$ 4,762,926,995.25\n",
            "Menor\tR$ -1,807,432,634.46\n",
            "Média\tR$ 165,190,210.48\n",
            "Média de quem subiu\tR$ 448,164,250.23\n",
            "Média de quem desceu\tR$ -181,109,141.75\n"
          ]
        }
      ],
      "source": [
        "# fazendo analises\n",
        "df = df_principal\n",
        "\n",
        "maior = df['variacao_rs'].max()\n",
        "\n",
        "menor = df['variacao_rs'].min()\n",
        "\n",
        "media = df['variacao_rs'].mean()\n",
        "\n",
        "media_subiu = df[df['Resultado'] == 'Subiu']['variacao_rs'].mean()\n",
        "\n",
        "media_desceu = df[df['Resultado'] == 'Desceu']['variacao_rs'].mean()\n",
        "\n",
        "print(f\"Maior\\tR$ {maior:,.2f}\")\n",
        "print(f\"Menor\\tR$ {menor:,.2f}\")\n",
        "print(f\"Média\\tR$ {media:,.2f}\")\n",
        "print(f\"Média de quem subiu\\tR$ {media_subiu:,.2f}\")\n",
        "print(f\"Média de quem desceu\\tR$ {media_desceu:,.2f}\")"
      ]
    },
    {
      "cell_type": "code",
      "execution_count": 23,
      "metadata": {
        "colab": {
          "base_uri": "https://localhost:8080/",
          "height": 363
        },
        "id": "p9FCr8Lnjw6i",
        "outputId": "65cd53d4-8516-4cec-ddec-3092ba5d72d2"
      },
      "outputs": [
        {
          "data": {
            "text/html": [
              "<div>\n",
              "<style scoped>\n",
              "    .dataframe tbody tr th:only-of-type {\n",
              "        vertical-align: middle;\n",
              "    }\n",
              "\n",
              "    .dataframe tbody tr th {\n",
              "        vertical-align: top;\n",
              "    }\n",
              "\n",
              "    .dataframe thead th {\n",
              "        text-align: right;\n",
              "    }\n",
              "</style>\n",
              "<table border=\"1\" class=\"dataframe\">\n",
              "  <thead>\n",
              "    <tr style=\"text-align: right;\">\n",
              "      <th></th>\n",
              "      <th>Ativo</th>\n",
              "      <th>Data</th>\n",
              "      <th>valor_final</th>\n",
              "      <th>var_dia_pct</th>\n",
              "      <th>var_pct</th>\n",
              "      <th>valor_inicial</th>\n",
              "      <th>qtd_teorica</th>\n",
              "      <th>variacao_rs</th>\n",
              "      <th>Resultado</th>\n",
              "      <th>Nome</th>\n",
              "      <th>Segmento</th>\n",
              "      <th>idade</th>\n",
              "      <th>faixa_etaria</th>\n",
              "    </tr>\n",
              "  </thead>\n",
              "  <tbody>\n",
              "    <tr>\n",
              "      <th>0</th>\n",
              "      <td>USIM5</td>\n",
              "      <td>2024-01-26</td>\n",
              "      <td>9.50</td>\n",
              "      <td>5.20</td>\n",
              "      <td>0.05</td>\n",
              "      <td>9.03</td>\n",
              "      <td>515117391</td>\n",
              "      <td>241889725.43</td>\n",
              "      <td>Subiu</td>\n",
              "      <td>Usiminas</td>\n",
              "      <td>Siderurgia</td>\n",
              "      <td>59</td>\n",
              "      <td>Mais de 50 anos</td>\n",
              "    </tr>\n",
              "    <tr>\n",
              "      <th>1</th>\n",
              "      <td>CMIN3</td>\n",
              "      <td>2024-01-26</td>\n",
              "      <td>6.82</td>\n",
              "      <td>2.40</td>\n",
              "      <td>0.02</td>\n",
              "      <td>6.66</td>\n",
              "      <td>1110559345</td>\n",
              "      <td>177515970.30</td>\n",
              "      <td>Subiu</td>\n",
              "      <td>CSN Mineração</td>\n",
              "      <td>Mineração</td>\n",
              "      <td>79</td>\n",
              "      <td>Mais de 50 anos</td>\n",
              "    </tr>\n",
              "    <tr>\n",
              "      <th>2</th>\n",
              "      <td>PETR3</td>\n",
              "      <td>2024-01-26</td>\n",
              "      <td>41.96</td>\n",
              "      <td>2.19</td>\n",
              "      <td>0.02</td>\n",
              "      <td>41.06</td>\n",
              "      <td>-2147483648</td>\n",
              "      <td>2140059393.53</td>\n",
              "      <td>Subiu</td>\n",
              "      <td>Petrobras</td>\n",
              "      <td>Petróleo</td>\n",
              "      <td>69</td>\n",
              "      <td>Mais de 50 anos</td>\n",
              "    </tr>\n",
              "    <tr>\n",
              "      <th>3</th>\n",
              "      <td>SUZB3</td>\n",
              "      <td>2024-01-26</td>\n",
              "      <td>52.91</td>\n",
              "      <td>2.04</td>\n",
              "      <td>0.02</td>\n",
              "      <td>51.85</td>\n",
              "      <td>683452836</td>\n",
              "      <td>722946282.71</td>\n",
              "      <td>Subiu</td>\n",
              "      <td>Suzano</td>\n",
              "      <td>Papel e Celulose</td>\n",
              "      <td>98</td>\n",
              "      <td>Mais de 50 anos</td>\n",
              "    </tr>\n",
              "    <tr>\n",
              "      <th>4</th>\n",
              "      <td>CPFE3</td>\n",
              "      <td>2024-01-26</td>\n",
              "      <td>37.10</td>\n",
              "      <td>2.03</td>\n",
              "      <td>0.02</td>\n",
              "      <td>36.36</td>\n",
              "      <td>187732538</td>\n",
              "      <td>138573955.06</td>\n",
              "      <td>Subiu</td>\n",
              "      <td>CPFL Energia</td>\n",
              "      <td>Energia</td>\n",
              "      <td>109</td>\n",
              "      <td>Mais de 100 anos</td>\n",
              "    </tr>\n",
              "    <tr>\n",
              "      <th>5</th>\n",
              "      <td>PRIO3</td>\n",
              "      <td>2024-01-26</td>\n",
              "      <td>45.69</td>\n",
              "      <td>1.98</td>\n",
              "      <td>0.02</td>\n",
              "      <td>44.80</td>\n",
              "      <td>800010734</td>\n",
              "      <td>709687498.18</td>\n",
              "      <td>Subiu</td>\n",
              "      <td>PetroRio</td>\n",
              "      <td>Petróleo</td>\n",
              "      <td>22</td>\n",
              "      <td>Até 50 anos</td>\n",
              "    </tr>\n",
              "    <tr>\n",
              "      <th>6</th>\n",
              "      <td>PETR4</td>\n",
              "      <td>2024-01-26</td>\n",
              "      <td>39.96</td>\n",
              "      <td>1.73</td>\n",
              "      <td>0.02</td>\n",
              "      <td>39.28</td>\n",
              "      <td>-2147483648</td>\n",
              "      <td>3103136291.22</td>\n",
              "      <td>Subiu</td>\n",
              "      <td>Petrobras</td>\n",
              "      <td>Petróleo</td>\n",
              "      <td>69</td>\n",
              "      <td>Mais de 50 anos</td>\n",
              "    </tr>\n",
              "    <tr>\n",
              "      <th>7</th>\n",
              "      <td>VALE3</td>\n",
              "      <td>2024-01-26</td>\n",
              "      <td>69.50</td>\n",
              "      <td>1.66</td>\n",
              "      <td>0.02</td>\n",
              "      <td>68.37</td>\n",
              "      <td>-2147483648</td>\n",
              "      <td>4762926995.25</td>\n",
              "      <td>Subiu</td>\n",
              "      <td>Vale</td>\n",
              "      <td>Mineração</td>\n",
              "      <td>79</td>\n",
              "      <td>Mais de 50 anos</td>\n",
              "    </tr>\n",
              "    <tr>\n",
              "      <th>8</th>\n",
              "      <td>MULT3</td>\n",
              "      <td>2024-01-26</td>\n",
              "      <td>28.19</td>\n",
              "      <td>1.58</td>\n",
              "      <td>0.02</td>\n",
              "      <td>27.75</td>\n",
              "      <td>268505432</td>\n",
              "      <td>117732680.08</td>\n",
              "      <td>Subiu</td>\n",
              "      <td>Multiplan</td>\n",
              "      <td>Shopping Centers</td>\n",
              "      <td>51</td>\n",
              "      <td>Mais de 50 anos</td>\n",
              "    </tr>\n",
              "    <tr>\n",
              "      <th>9</th>\n",
              "      <td>ITUB4</td>\n",
              "      <td>2024-01-26</td>\n",
              "      <td>32.81</td>\n",
              "      <td>1.48</td>\n",
              "      <td>0.01</td>\n",
              "      <td>32.33</td>\n",
              "      <td>-2147483648</td>\n",
              "      <td>2297591984.33</td>\n",
              "      <td>Subiu</td>\n",
              "      <td>Itaú Unibanco</td>\n",
              "      <td>Serviços Financeiros</td>\n",
              "      <td>13</td>\n",
              "      <td>Até 50 anos</td>\n",
              "    </tr>\n",
              "  </tbody>\n",
              "</table>\n",
              "</div>"
            ],
            "text/plain": [
              "   Ativo       Data  valor_final  var_dia_pct  var_pct  valor_inicial  \\\n",
              "0  USIM5 2024-01-26         9.50         5.20     0.05           9.03   \n",
              "1  CMIN3 2024-01-26         6.82         2.40     0.02           6.66   \n",
              "2  PETR3 2024-01-26        41.96         2.19     0.02          41.06   \n",
              "3  SUZB3 2024-01-26        52.91         2.04     0.02          51.85   \n",
              "4  CPFE3 2024-01-26        37.10         2.03     0.02          36.36   \n",
              "5  PRIO3 2024-01-26        45.69         1.98     0.02          44.80   \n",
              "6  PETR4 2024-01-26        39.96         1.73     0.02          39.28   \n",
              "7  VALE3 2024-01-26        69.50         1.66     0.02          68.37   \n",
              "8  MULT3 2024-01-26        28.19         1.58     0.02          27.75   \n",
              "9  ITUB4 2024-01-26        32.81         1.48     0.01          32.33   \n",
              "\n",
              "   qtd_teorica   variacao_rs Resultado           Nome              Segmento  \\\n",
              "0    515117391  241889725.43     Subiu       Usiminas            Siderurgia   \n",
              "1   1110559345  177515970.30     Subiu  CSN Mineração             Mineração   \n",
              "2  -2147483648 2140059393.53     Subiu      Petrobras              Petróleo   \n",
              "3    683452836  722946282.71     Subiu         Suzano      Papel e Celulose   \n",
              "4    187732538  138573955.06     Subiu   CPFL Energia               Energia   \n",
              "5    800010734  709687498.18     Subiu       PetroRio              Petróleo   \n",
              "6  -2147483648 3103136291.22     Subiu      Petrobras              Petróleo   \n",
              "7  -2147483648 4762926995.25     Subiu           Vale             Mineração   \n",
              "8    268505432  117732680.08     Subiu      Multiplan      Shopping Centers   \n",
              "9  -2147483648 2297591984.33     Subiu  Itaú Unibanco  Serviços Financeiros   \n",
              "\n",
              "   idade      faixa_etaria  \n",
              "0     59   Mais de 50 anos  \n",
              "1     79   Mais de 50 anos  \n",
              "2     69   Mais de 50 anos  \n",
              "3     98   Mais de 50 anos  \n",
              "4    109  Mais de 100 anos  \n",
              "5     22       Até 50 anos  \n",
              "6     69   Mais de 50 anos  \n",
              "7     79   Mais de 50 anos  \n",
              "8     51   Mais de 50 anos  \n",
              "9     13       Até 50 anos  "
            ]
          },
          "execution_count": 23,
          "metadata": {},
          "output_type": "execute_result"
        }
      ],
      "source": [
        "df_subiu = df[df['Resultado'] == 'Subiu']\n",
        "df_subiu.head(10)"
      ]
    },
    {
      "cell_type": "code",
      "execution_count": 24,
      "metadata": {
        "colab": {
          "base_uri": "https://localhost:8080/",
          "height": 206
        },
        "id": "GNrJm1-2mdGd",
        "outputId": "72f12889-38cd-4dda-b802-a9f003729136"
      },
      "outputs": [
        {
          "data": {
            "text/html": [
              "<div>\n",
              "<style scoped>\n",
              "    .dataframe tbody tr th:only-of-type {\n",
              "        vertical-align: middle;\n",
              "    }\n",
              "\n",
              "    .dataframe tbody tr th {\n",
              "        vertical-align: top;\n",
              "    }\n",
              "\n",
              "    .dataframe thead th {\n",
              "        text-align: right;\n",
              "    }\n",
              "</style>\n",
              "<table border=\"1\" class=\"dataframe\">\n",
              "  <thead>\n",
              "    <tr style=\"text-align: right;\">\n",
              "      <th></th>\n",
              "      <th>Segmento</th>\n",
              "      <th>variacao_rs</th>\n",
              "    </tr>\n",
              "  </thead>\n",
              "  <tbody>\n",
              "    <tr>\n",
              "      <th>0</th>\n",
              "      <td>Alimentos</td>\n",
              "      <td>407833683.09</td>\n",
              "    </tr>\n",
              "    <tr>\n",
              "      <th>1</th>\n",
              "      <td>Calçados</td>\n",
              "      <td>41021792.09</td>\n",
              "    </tr>\n",
              "    <tr>\n",
              "      <th>2</th>\n",
              "      <td>Conglomerado</td>\n",
              "      <td>388705223.96</td>\n",
              "    </tr>\n",
              "    <tr>\n",
              "      <th>3</th>\n",
              "      <td>Construção Civil</td>\n",
              "      <td>37525872.38</td>\n",
              "    </tr>\n",
              "    <tr>\n",
              "      <th>4</th>\n",
              "      <td>Educação</td>\n",
              "      <td>72295838.99</td>\n",
              "    </tr>\n",
              "  </tbody>\n",
              "</table>\n",
              "</div>"
            ],
            "text/plain": [
              "           Segmento  variacao_rs\n",
              "0         Alimentos 407833683.09\n",
              "1          Calçados  41021792.09\n",
              "2      Conglomerado 388705223.96\n",
              "3  Construção Civil  37525872.38\n",
              "4          Educação  72295838.99"
            ]
          },
          "execution_count": 24,
          "metadata": {},
          "output_type": "execute_result"
        }
      ],
      "source": [
        "df_analise_segmento = df_subiu.groupby('Segmento')['variacao_rs'].sum().reset_index()\n",
        "df_analise_segmento.head()"
      ]
    },
    {
      "cell_type": "code",
      "execution_count": 25,
      "metadata": {
        "colab": {
          "base_uri": "https://localhost:8080/",
          "height": 143
        },
        "id": "9R1u4rc4m_Gs",
        "outputId": "ff84dff9-7a07-4f26-f287-86cecfd4c8f6"
      },
      "outputs": [
        {
          "data": {
            "text/html": [
              "<div>\n",
              "<style scoped>\n",
              "    .dataframe tbody tr th:only-of-type {\n",
              "        vertical-align: middle;\n",
              "    }\n",
              "\n",
              "    .dataframe tbody tr th {\n",
              "        vertical-align: top;\n",
              "    }\n",
              "\n",
              "    .dataframe thead th {\n",
              "        text-align: right;\n",
              "    }\n",
              "</style>\n",
              "<table border=\"1\" class=\"dataframe\">\n",
              "  <thead>\n",
              "    <tr style=\"text-align: right;\">\n",
              "      <th></th>\n",
              "      <th>Resultado</th>\n",
              "      <th>variacao_rs</th>\n",
              "    </tr>\n",
              "  </thead>\n",
              "  <tbody>\n",
              "    <tr>\n",
              "      <th>0</th>\n",
              "      <td>Desceu</td>\n",
              "      <td>-6338819961.32</td>\n",
              "    </tr>\n",
              "    <tr>\n",
              "      <th>1</th>\n",
              "      <td>Igual</td>\n",
              "      <td>0.00</td>\n",
              "    </tr>\n",
              "    <tr>\n",
              "      <th>2</th>\n",
              "      <td>Subiu</td>\n",
              "      <td>19719227010.14</td>\n",
              "    </tr>\n",
              "  </tbody>\n",
              "</table>\n",
              "</div>"
            ],
            "text/plain": [
              "  Resultado    variacao_rs\n",
              "0    Desceu -6338819961.32\n",
              "1     Igual           0.00\n",
              "2     Subiu 19719227010.14"
            ]
          },
          "execution_count": 25,
          "metadata": {},
          "output_type": "execute_result"
        }
      ],
      "source": [
        "df_analise_saldo = df_principal.groupby('Resultado')['variacao_rs'].sum().reset_index()\n",
        "df_analise_saldo"
      ]
    },
    {
      "cell_type": "code",
      "execution_count": 26,
      "metadata": {
        "colab": {
          "base_uri": "https://localhost:8080/",
          "height": 542
        },
        "id": "dnK5NXtWnW7f",
        "outputId": "8793e6e0-ae71-40b9-e122-f15099b625bc"
      },
      "outputs": [
        {
          "data": {
            "application/vnd.plotly.v1+json": {
              "config": {
                "plotlyServerURL": "https://plot.ly"
              },
              "data": [
                {
                  "alignmentgroup": "True",
                  "hovertemplate": "Resultado=%{x}<br>variacao_rs=%{text}<extra></extra>",
                  "legendgroup": "",
                  "marker": {
                    "color": "#636efa",
                    "pattern": {
                      "shape": ""
                    }
                  },
                  "name": "",
                  "offsetgroup": "",
                  "orientation": "v",
                  "showlegend": false,
                  "text": [
                    -6338819961.31535,
                    0,
                    19719227010.14191
                  ],
                  "textposition": "auto",
                  "type": "bar",
                  "x": [
                    "Desceu",
                    "Igual",
                    "Subiu"
                  ],
                  "xaxis": "x",
                  "y": [
                    -6338819961.31535,
                    0,
                    19719227010.14191
                  ],
                  "yaxis": "y"
                }
              ],
              "layout": {
                "barmode": "relative",
                "legend": {
                  "tracegroupgap": 0
                },
                "template": {
                  "data": {
                    "bar": [
                      {
                        "error_x": {
                          "color": "#2a3f5f"
                        },
                        "error_y": {
                          "color": "#2a3f5f"
                        },
                        "marker": {
                          "line": {
                            "color": "#E5ECF6",
                            "width": 0.5
                          },
                          "pattern": {
                            "fillmode": "overlay",
                            "size": 10,
                            "solidity": 0.2
                          }
                        },
                        "type": "bar"
                      }
                    ],
                    "barpolar": [
                      {
                        "marker": {
                          "line": {
                            "color": "#E5ECF6",
                            "width": 0.5
                          },
                          "pattern": {
                            "fillmode": "overlay",
                            "size": 10,
                            "solidity": 0.2
                          }
                        },
                        "type": "barpolar"
                      }
                    ],
                    "carpet": [
                      {
                        "aaxis": {
                          "endlinecolor": "#2a3f5f",
                          "gridcolor": "white",
                          "linecolor": "white",
                          "minorgridcolor": "white",
                          "startlinecolor": "#2a3f5f"
                        },
                        "baxis": {
                          "endlinecolor": "#2a3f5f",
                          "gridcolor": "white",
                          "linecolor": "white",
                          "minorgridcolor": "white",
                          "startlinecolor": "#2a3f5f"
                        },
                        "type": "carpet"
                      }
                    ],
                    "choropleth": [
                      {
                        "colorbar": {
                          "outlinewidth": 0,
                          "ticks": ""
                        },
                        "type": "choropleth"
                      }
                    ],
                    "contour": [
                      {
                        "colorbar": {
                          "outlinewidth": 0,
                          "ticks": ""
                        },
                        "colorscale": [
                          [
                            0,
                            "#0d0887"
                          ],
                          [
                            0.1111111111111111,
                            "#46039f"
                          ],
                          [
                            0.2222222222222222,
                            "#7201a8"
                          ],
                          [
                            0.3333333333333333,
                            "#9c179e"
                          ],
                          [
                            0.4444444444444444,
                            "#bd3786"
                          ],
                          [
                            0.5555555555555556,
                            "#d8576b"
                          ],
                          [
                            0.6666666666666666,
                            "#ed7953"
                          ],
                          [
                            0.7777777777777778,
                            "#fb9f3a"
                          ],
                          [
                            0.8888888888888888,
                            "#fdca26"
                          ],
                          [
                            1,
                            "#f0f921"
                          ]
                        ],
                        "type": "contour"
                      }
                    ],
                    "contourcarpet": [
                      {
                        "colorbar": {
                          "outlinewidth": 0,
                          "ticks": ""
                        },
                        "type": "contourcarpet"
                      }
                    ],
                    "heatmap": [
                      {
                        "colorbar": {
                          "outlinewidth": 0,
                          "ticks": ""
                        },
                        "colorscale": [
                          [
                            0,
                            "#0d0887"
                          ],
                          [
                            0.1111111111111111,
                            "#46039f"
                          ],
                          [
                            0.2222222222222222,
                            "#7201a8"
                          ],
                          [
                            0.3333333333333333,
                            "#9c179e"
                          ],
                          [
                            0.4444444444444444,
                            "#bd3786"
                          ],
                          [
                            0.5555555555555556,
                            "#d8576b"
                          ],
                          [
                            0.6666666666666666,
                            "#ed7953"
                          ],
                          [
                            0.7777777777777778,
                            "#fb9f3a"
                          ],
                          [
                            0.8888888888888888,
                            "#fdca26"
                          ],
                          [
                            1,
                            "#f0f921"
                          ]
                        ],
                        "type": "heatmap"
                      }
                    ],
                    "heatmapgl": [
                      {
                        "colorbar": {
                          "outlinewidth": 0,
                          "ticks": ""
                        },
                        "colorscale": [
                          [
                            0,
                            "#0d0887"
                          ],
                          [
                            0.1111111111111111,
                            "#46039f"
                          ],
                          [
                            0.2222222222222222,
                            "#7201a8"
                          ],
                          [
                            0.3333333333333333,
                            "#9c179e"
                          ],
                          [
                            0.4444444444444444,
                            "#bd3786"
                          ],
                          [
                            0.5555555555555556,
                            "#d8576b"
                          ],
                          [
                            0.6666666666666666,
                            "#ed7953"
                          ],
                          [
                            0.7777777777777778,
                            "#fb9f3a"
                          ],
                          [
                            0.8888888888888888,
                            "#fdca26"
                          ],
                          [
                            1,
                            "#f0f921"
                          ]
                        ],
                        "type": "heatmapgl"
                      }
                    ],
                    "histogram": [
                      {
                        "marker": {
                          "pattern": {
                            "fillmode": "overlay",
                            "size": 10,
                            "solidity": 0.2
                          }
                        },
                        "type": "histogram"
                      }
                    ],
                    "histogram2d": [
                      {
                        "colorbar": {
                          "outlinewidth": 0,
                          "ticks": ""
                        },
                        "colorscale": [
                          [
                            0,
                            "#0d0887"
                          ],
                          [
                            0.1111111111111111,
                            "#46039f"
                          ],
                          [
                            0.2222222222222222,
                            "#7201a8"
                          ],
                          [
                            0.3333333333333333,
                            "#9c179e"
                          ],
                          [
                            0.4444444444444444,
                            "#bd3786"
                          ],
                          [
                            0.5555555555555556,
                            "#d8576b"
                          ],
                          [
                            0.6666666666666666,
                            "#ed7953"
                          ],
                          [
                            0.7777777777777778,
                            "#fb9f3a"
                          ],
                          [
                            0.8888888888888888,
                            "#fdca26"
                          ],
                          [
                            1,
                            "#f0f921"
                          ]
                        ],
                        "type": "histogram2d"
                      }
                    ],
                    "histogram2dcontour": [
                      {
                        "colorbar": {
                          "outlinewidth": 0,
                          "ticks": ""
                        },
                        "colorscale": [
                          [
                            0,
                            "#0d0887"
                          ],
                          [
                            0.1111111111111111,
                            "#46039f"
                          ],
                          [
                            0.2222222222222222,
                            "#7201a8"
                          ],
                          [
                            0.3333333333333333,
                            "#9c179e"
                          ],
                          [
                            0.4444444444444444,
                            "#bd3786"
                          ],
                          [
                            0.5555555555555556,
                            "#d8576b"
                          ],
                          [
                            0.6666666666666666,
                            "#ed7953"
                          ],
                          [
                            0.7777777777777778,
                            "#fb9f3a"
                          ],
                          [
                            0.8888888888888888,
                            "#fdca26"
                          ],
                          [
                            1,
                            "#f0f921"
                          ]
                        ],
                        "type": "histogram2dcontour"
                      }
                    ],
                    "mesh3d": [
                      {
                        "colorbar": {
                          "outlinewidth": 0,
                          "ticks": ""
                        },
                        "type": "mesh3d"
                      }
                    ],
                    "parcoords": [
                      {
                        "line": {
                          "colorbar": {
                            "outlinewidth": 0,
                            "ticks": ""
                          }
                        },
                        "type": "parcoords"
                      }
                    ],
                    "pie": [
                      {
                        "automargin": true,
                        "type": "pie"
                      }
                    ],
                    "scatter": [
                      {
                        "fillpattern": {
                          "fillmode": "overlay",
                          "size": 10,
                          "solidity": 0.2
                        },
                        "type": "scatter"
                      }
                    ],
                    "scatter3d": [
                      {
                        "line": {
                          "colorbar": {
                            "outlinewidth": 0,
                            "ticks": ""
                          }
                        },
                        "marker": {
                          "colorbar": {
                            "outlinewidth": 0,
                            "ticks": ""
                          }
                        },
                        "type": "scatter3d"
                      }
                    ],
                    "scattercarpet": [
                      {
                        "marker": {
                          "colorbar": {
                            "outlinewidth": 0,
                            "ticks": ""
                          }
                        },
                        "type": "scattercarpet"
                      }
                    ],
                    "scattergeo": [
                      {
                        "marker": {
                          "colorbar": {
                            "outlinewidth": 0,
                            "ticks": ""
                          }
                        },
                        "type": "scattergeo"
                      }
                    ],
                    "scattergl": [
                      {
                        "marker": {
                          "colorbar": {
                            "outlinewidth": 0,
                            "ticks": ""
                          }
                        },
                        "type": "scattergl"
                      }
                    ],
                    "scattermapbox": [
                      {
                        "marker": {
                          "colorbar": {
                            "outlinewidth": 0,
                            "ticks": ""
                          }
                        },
                        "type": "scattermapbox"
                      }
                    ],
                    "scatterpolar": [
                      {
                        "marker": {
                          "colorbar": {
                            "outlinewidth": 0,
                            "ticks": ""
                          }
                        },
                        "type": "scatterpolar"
                      }
                    ],
                    "scatterpolargl": [
                      {
                        "marker": {
                          "colorbar": {
                            "outlinewidth": 0,
                            "ticks": ""
                          }
                        },
                        "type": "scatterpolargl"
                      }
                    ],
                    "scatterternary": [
                      {
                        "marker": {
                          "colorbar": {
                            "outlinewidth": 0,
                            "ticks": ""
                          }
                        },
                        "type": "scatterternary"
                      }
                    ],
                    "surface": [
                      {
                        "colorbar": {
                          "outlinewidth": 0,
                          "ticks": ""
                        },
                        "colorscale": [
                          [
                            0,
                            "#0d0887"
                          ],
                          [
                            0.1111111111111111,
                            "#46039f"
                          ],
                          [
                            0.2222222222222222,
                            "#7201a8"
                          ],
                          [
                            0.3333333333333333,
                            "#9c179e"
                          ],
                          [
                            0.4444444444444444,
                            "#bd3786"
                          ],
                          [
                            0.5555555555555556,
                            "#d8576b"
                          ],
                          [
                            0.6666666666666666,
                            "#ed7953"
                          ],
                          [
                            0.7777777777777778,
                            "#fb9f3a"
                          ],
                          [
                            0.8888888888888888,
                            "#fdca26"
                          ],
                          [
                            1,
                            "#f0f921"
                          ]
                        ],
                        "type": "surface"
                      }
                    ],
                    "table": [
                      {
                        "cells": {
                          "fill": {
                            "color": "#EBF0F8"
                          },
                          "line": {
                            "color": "white"
                          }
                        },
                        "header": {
                          "fill": {
                            "color": "#C8D4E3"
                          },
                          "line": {
                            "color": "white"
                          }
                        },
                        "type": "table"
                      }
                    ]
                  },
                  "layout": {
                    "annotationdefaults": {
                      "arrowcolor": "#2a3f5f",
                      "arrowhead": 0,
                      "arrowwidth": 1
                    },
                    "autotypenumbers": "strict",
                    "coloraxis": {
                      "colorbar": {
                        "outlinewidth": 0,
                        "ticks": ""
                      }
                    },
                    "colorscale": {
                      "diverging": [
                        [
                          0,
                          "#8e0152"
                        ],
                        [
                          0.1,
                          "#c51b7d"
                        ],
                        [
                          0.2,
                          "#de77ae"
                        ],
                        [
                          0.3,
                          "#f1b6da"
                        ],
                        [
                          0.4,
                          "#fde0ef"
                        ],
                        [
                          0.5,
                          "#f7f7f7"
                        ],
                        [
                          0.6,
                          "#e6f5d0"
                        ],
                        [
                          0.7,
                          "#b8e186"
                        ],
                        [
                          0.8,
                          "#7fbc41"
                        ],
                        [
                          0.9,
                          "#4d9221"
                        ],
                        [
                          1,
                          "#276419"
                        ]
                      ],
                      "sequential": [
                        [
                          0,
                          "#0d0887"
                        ],
                        [
                          0.1111111111111111,
                          "#46039f"
                        ],
                        [
                          0.2222222222222222,
                          "#7201a8"
                        ],
                        [
                          0.3333333333333333,
                          "#9c179e"
                        ],
                        [
                          0.4444444444444444,
                          "#bd3786"
                        ],
                        [
                          0.5555555555555556,
                          "#d8576b"
                        ],
                        [
                          0.6666666666666666,
                          "#ed7953"
                        ],
                        [
                          0.7777777777777778,
                          "#fb9f3a"
                        ],
                        [
                          0.8888888888888888,
                          "#fdca26"
                        ],
                        [
                          1,
                          "#f0f921"
                        ]
                      ],
                      "sequentialminus": [
                        [
                          0,
                          "#0d0887"
                        ],
                        [
                          0.1111111111111111,
                          "#46039f"
                        ],
                        [
                          0.2222222222222222,
                          "#7201a8"
                        ],
                        [
                          0.3333333333333333,
                          "#9c179e"
                        ],
                        [
                          0.4444444444444444,
                          "#bd3786"
                        ],
                        [
                          0.5555555555555556,
                          "#d8576b"
                        ],
                        [
                          0.6666666666666666,
                          "#ed7953"
                        ],
                        [
                          0.7777777777777778,
                          "#fb9f3a"
                        ],
                        [
                          0.8888888888888888,
                          "#fdca26"
                        ],
                        [
                          1,
                          "#f0f921"
                        ]
                      ]
                    },
                    "colorway": [
                      "#636efa",
                      "#EF553B",
                      "#00cc96",
                      "#ab63fa",
                      "#FFA15A",
                      "#19d3f3",
                      "#FF6692",
                      "#B6E880",
                      "#FF97FF",
                      "#FECB52"
                    ],
                    "font": {
                      "color": "#2a3f5f"
                    },
                    "geo": {
                      "bgcolor": "white",
                      "lakecolor": "white",
                      "landcolor": "#E5ECF6",
                      "showlakes": true,
                      "showland": true,
                      "subunitcolor": "white"
                    },
                    "hoverlabel": {
                      "align": "left"
                    },
                    "hovermode": "closest",
                    "mapbox": {
                      "style": "light"
                    },
                    "paper_bgcolor": "white",
                    "plot_bgcolor": "#E5ECF6",
                    "polar": {
                      "angularaxis": {
                        "gridcolor": "white",
                        "linecolor": "white",
                        "ticks": ""
                      },
                      "bgcolor": "#E5ECF6",
                      "radialaxis": {
                        "gridcolor": "white",
                        "linecolor": "white",
                        "ticks": ""
                      }
                    },
                    "scene": {
                      "xaxis": {
                        "backgroundcolor": "#E5ECF6",
                        "gridcolor": "white",
                        "gridwidth": 2,
                        "linecolor": "white",
                        "showbackground": true,
                        "ticks": "",
                        "zerolinecolor": "white"
                      },
                      "yaxis": {
                        "backgroundcolor": "#E5ECF6",
                        "gridcolor": "white",
                        "gridwidth": 2,
                        "linecolor": "white",
                        "showbackground": true,
                        "ticks": "",
                        "zerolinecolor": "white"
                      },
                      "zaxis": {
                        "backgroundcolor": "#E5ECF6",
                        "gridcolor": "white",
                        "gridwidth": 2,
                        "linecolor": "white",
                        "showbackground": true,
                        "ticks": "",
                        "zerolinecolor": "white"
                      }
                    },
                    "shapedefaults": {
                      "line": {
                        "color": "#2a3f5f"
                      }
                    },
                    "ternary": {
                      "aaxis": {
                        "gridcolor": "white",
                        "linecolor": "white",
                        "ticks": ""
                      },
                      "baxis": {
                        "gridcolor": "white",
                        "linecolor": "white",
                        "ticks": ""
                      },
                      "bgcolor": "#E5ECF6",
                      "caxis": {
                        "gridcolor": "white",
                        "linecolor": "white",
                        "ticks": ""
                      }
                    },
                    "title": {
                      "x": 0.05
                    },
                    "xaxis": {
                      "automargin": true,
                      "gridcolor": "white",
                      "linecolor": "white",
                      "ticks": "",
                      "title": {
                        "standoff": 15
                      },
                      "zerolinecolor": "white",
                      "zerolinewidth": 2
                    },
                    "yaxis": {
                      "automargin": true,
                      "gridcolor": "white",
                      "linecolor": "white",
                      "ticks": "",
                      "title": {
                        "standoff": 15
                      },
                      "zerolinecolor": "white",
                      "zerolinewidth": 2
                    }
                  }
                },
                "title": {
                  "text": "Variação Reais por Resultado"
                },
                "xaxis": {
                  "anchor": "y",
                  "domain": [
                    0,
                    1
                  ],
                  "title": {
                    "text": "Resultado"
                  }
                },
                "yaxis": {
                  "anchor": "x",
                  "domain": [
                    0,
                    1
                  ],
                  "title": {
                    "text": "variacao_rs"
                  }
                }
              }
            }
          },
          "metadata": {},
          "output_type": "display_data"
        }
      ],
      "source": [
        "fig = px.bar(df_analise_saldo, x = 'Resultado', y='variacao_rs', text='variacao_rs', title='Variação Reais por Resultado')\n",
        "fig.show()"
      ]
    },
    {
      "cell_type": "code",
      "execution_count": 27,
      "metadata": {
        "colab": {
          "base_uri": "https://localhost:8080/",
          "height": 143
        },
        "id": "DKQIHuVbzF-H",
        "outputId": "7a0af0b3-14f4-44bf-fa55-6231bb8cbd85"
      },
      "outputs": [
        {
          "data": {
            "text/html": [
              "<div>\n",
              "<style scoped>\n",
              "    .dataframe tbody tr th:only-of-type {\n",
              "        vertical-align: middle;\n",
              "    }\n",
              "\n",
              "    .dataframe tbody tr th {\n",
              "        vertical-align: top;\n",
              "    }\n",
              "\n",
              "    .dataframe thead th {\n",
              "        text-align: right;\n",
              "    }\n",
              "</style>\n",
              "<table border=\"1\" class=\"dataframe\">\n",
              "  <thead>\n",
              "    <tr style=\"text-align: right;\">\n",
              "      <th></th>\n",
              "      <th>Resultado</th>\n",
              "      <th>variacao_rs</th>\n",
              "    </tr>\n",
              "  </thead>\n",
              "  <tbody>\n",
              "    <tr>\n",
              "      <th>0</th>\n",
              "      <td>Desceu</td>\n",
              "      <td>R$ -6,338,819,961.32</td>\n",
              "    </tr>\n",
              "    <tr>\n",
              "      <th>1</th>\n",
              "      <td>Igual</td>\n",
              "      <td>R$ 0.00</td>\n",
              "    </tr>\n",
              "    <tr>\n",
              "      <th>2</th>\n",
              "      <td>Subiu</td>\n",
              "      <td>R$ 19,719,227,010.14</td>\n",
              "    </tr>\n",
              "  </tbody>\n",
              "</table>\n",
              "</div>"
            ],
            "text/plain": [
              "  Resultado           variacao_rs\n",
              "0    Desceu  R$ -6,338,819,961.32\n",
              "1     Igual               R$ 0.00\n",
              "2     Subiu  R$ 19,719,227,010.14"
            ]
          },
          "metadata": {},
          "output_type": "display_data"
        }
      ],
      "source": [
        "# Função para formatar os valores como Reais\n",
        "def formatar_reais(valor):\n",
        "    return \"R$ {:,.2f}\".format(valor)\n",
        "\n",
        "# Aplicando a formatação à coluna 'variacao_rs'\n",
        "df_analise_saldo['variacao_rs'] = df_analise_saldo['variacao_rs'].map(formatar_reais)\n",
        "\n",
        "display(df_analise_saldo)"
      ]
    },
    {
      "cell_type": "code",
      "execution_count": 28,
      "metadata": {
        "colab": {
          "base_uri": "https://localhost:8080/",
          "height": 542
        },
        "id": "Xts5UladsYg4",
        "outputId": "41e9f948-db61-4c02-f85b-5035fd679acd"
      },
      "outputs": [
        {
          "data": {
            "application/vnd.plotly.v1+json": {
              "config": {
                "plotlyServerURL": "https://plot.ly"
              },
              "data": [
                {
                  "domain": {
                    "x": [
                      0,
                      1
                    ],
                    "y": [
                      0,
                      1
                    ]
                  },
                  "hovertemplate": "Segmento=%{label}<br>variacao_rs=%{value}<extra></extra>",
                  "labels": [
                    "Alimentos",
                    "Calçados",
                    "Conglomerado",
                    "Construção Civil",
                    "Educação",
                    "Energia",
                    "Farmácias",
                    "Holding",
                    "Logística",
                    "Mineração",
                    "Papel e Celulose",
                    "Petroquímica",
                    "Petróleo",
                    "Saúde",
                    "Serviços Financeiros",
                    "Shopping Centers",
                    "Siderurgia",
                    "Tecnologia",
                    "Telecomunicações",
                    "Transporte Aéreo",
                    "Varejo"
                  ],
                  "legendgroup": "",
                  "name": "",
                  "showlegend": true,
                  "type": "pie",
                  "values": [
                    407833683.0924499,
                    41021792.09077153,
                    388705223.95601785,
                    37525872.37728388,
                    72295838.98616095,
                    821116399.6112785,
                    202352473.73982856,
                    434160691.03374624,
                    233902674.79257408,
                    4940442965.550434,
                    722946282.7090385,
                    69054317.63603853,
                    6093288832.2628355,
                    453917907.01324,
                    3784169702.158993,
                    117732680.0784251,
                    489935930.9283229,
                    15598886.650556229,
                    292938114.42357796,
                    65452205.552800186,
                    34834535.49753806
                  ]
                }
              ],
              "layout": {
                "legend": {
                  "tracegroupgap": 0
                },
                "template": {
                  "data": {
                    "bar": [
                      {
                        "error_x": {
                          "color": "#2a3f5f"
                        },
                        "error_y": {
                          "color": "#2a3f5f"
                        },
                        "marker": {
                          "line": {
                            "color": "#E5ECF6",
                            "width": 0.5
                          },
                          "pattern": {
                            "fillmode": "overlay",
                            "size": 10,
                            "solidity": 0.2
                          }
                        },
                        "type": "bar"
                      }
                    ],
                    "barpolar": [
                      {
                        "marker": {
                          "line": {
                            "color": "#E5ECF6",
                            "width": 0.5
                          },
                          "pattern": {
                            "fillmode": "overlay",
                            "size": 10,
                            "solidity": 0.2
                          }
                        },
                        "type": "barpolar"
                      }
                    ],
                    "carpet": [
                      {
                        "aaxis": {
                          "endlinecolor": "#2a3f5f",
                          "gridcolor": "white",
                          "linecolor": "white",
                          "minorgridcolor": "white",
                          "startlinecolor": "#2a3f5f"
                        },
                        "baxis": {
                          "endlinecolor": "#2a3f5f",
                          "gridcolor": "white",
                          "linecolor": "white",
                          "minorgridcolor": "white",
                          "startlinecolor": "#2a3f5f"
                        },
                        "type": "carpet"
                      }
                    ],
                    "choropleth": [
                      {
                        "colorbar": {
                          "outlinewidth": 0,
                          "ticks": ""
                        },
                        "type": "choropleth"
                      }
                    ],
                    "contour": [
                      {
                        "colorbar": {
                          "outlinewidth": 0,
                          "ticks": ""
                        },
                        "colorscale": [
                          [
                            0,
                            "#0d0887"
                          ],
                          [
                            0.1111111111111111,
                            "#46039f"
                          ],
                          [
                            0.2222222222222222,
                            "#7201a8"
                          ],
                          [
                            0.3333333333333333,
                            "#9c179e"
                          ],
                          [
                            0.4444444444444444,
                            "#bd3786"
                          ],
                          [
                            0.5555555555555556,
                            "#d8576b"
                          ],
                          [
                            0.6666666666666666,
                            "#ed7953"
                          ],
                          [
                            0.7777777777777778,
                            "#fb9f3a"
                          ],
                          [
                            0.8888888888888888,
                            "#fdca26"
                          ],
                          [
                            1,
                            "#f0f921"
                          ]
                        ],
                        "type": "contour"
                      }
                    ],
                    "contourcarpet": [
                      {
                        "colorbar": {
                          "outlinewidth": 0,
                          "ticks": ""
                        },
                        "type": "contourcarpet"
                      }
                    ],
                    "heatmap": [
                      {
                        "colorbar": {
                          "outlinewidth": 0,
                          "ticks": ""
                        },
                        "colorscale": [
                          [
                            0,
                            "#0d0887"
                          ],
                          [
                            0.1111111111111111,
                            "#46039f"
                          ],
                          [
                            0.2222222222222222,
                            "#7201a8"
                          ],
                          [
                            0.3333333333333333,
                            "#9c179e"
                          ],
                          [
                            0.4444444444444444,
                            "#bd3786"
                          ],
                          [
                            0.5555555555555556,
                            "#d8576b"
                          ],
                          [
                            0.6666666666666666,
                            "#ed7953"
                          ],
                          [
                            0.7777777777777778,
                            "#fb9f3a"
                          ],
                          [
                            0.8888888888888888,
                            "#fdca26"
                          ],
                          [
                            1,
                            "#f0f921"
                          ]
                        ],
                        "type": "heatmap"
                      }
                    ],
                    "heatmapgl": [
                      {
                        "colorbar": {
                          "outlinewidth": 0,
                          "ticks": ""
                        },
                        "colorscale": [
                          [
                            0,
                            "#0d0887"
                          ],
                          [
                            0.1111111111111111,
                            "#46039f"
                          ],
                          [
                            0.2222222222222222,
                            "#7201a8"
                          ],
                          [
                            0.3333333333333333,
                            "#9c179e"
                          ],
                          [
                            0.4444444444444444,
                            "#bd3786"
                          ],
                          [
                            0.5555555555555556,
                            "#d8576b"
                          ],
                          [
                            0.6666666666666666,
                            "#ed7953"
                          ],
                          [
                            0.7777777777777778,
                            "#fb9f3a"
                          ],
                          [
                            0.8888888888888888,
                            "#fdca26"
                          ],
                          [
                            1,
                            "#f0f921"
                          ]
                        ],
                        "type": "heatmapgl"
                      }
                    ],
                    "histogram": [
                      {
                        "marker": {
                          "pattern": {
                            "fillmode": "overlay",
                            "size": 10,
                            "solidity": 0.2
                          }
                        },
                        "type": "histogram"
                      }
                    ],
                    "histogram2d": [
                      {
                        "colorbar": {
                          "outlinewidth": 0,
                          "ticks": ""
                        },
                        "colorscale": [
                          [
                            0,
                            "#0d0887"
                          ],
                          [
                            0.1111111111111111,
                            "#46039f"
                          ],
                          [
                            0.2222222222222222,
                            "#7201a8"
                          ],
                          [
                            0.3333333333333333,
                            "#9c179e"
                          ],
                          [
                            0.4444444444444444,
                            "#bd3786"
                          ],
                          [
                            0.5555555555555556,
                            "#d8576b"
                          ],
                          [
                            0.6666666666666666,
                            "#ed7953"
                          ],
                          [
                            0.7777777777777778,
                            "#fb9f3a"
                          ],
                          [
                            0.8888888888888888,
                            "#fdca26"
                          ],
                          [
                            1,
                            "#f0f921"
                          ]
                        ],
                        "type": "histogram2d"
                      }
                    ],
                    "histogram2dcontour": [
                      {
                        "colorbar": {
                          "outlinewidth": 0,
                          "ticks": ""
                        },
                        "colorscale": [
                          [
                            0,
                            "#0d0887"
                          ],
                          [
                            0.1111111111111111,
                            "#46039f"
                          ],
                          [
                            0.2222222222222222,
                            "#7201a8"
                          ],
                          [
                            0.3333333333333333,
                            "#9c179e"
                          ],
                          [
                            0.4444444444444444,
                            "#bd3786"
                          ],
                          [
                            0.5555555555555556,
                            "#d8576b"
                          ],
                          [
                            0.6666666666666666,
                            "#ed7953"
                          ],
                          [
                            0.7777777777777778,
                            "#fb9f3a"
                          ],
                          [
                            0.8888888888888888,
                            "#fdca26"
                          ],
                          [
                            1,
                            "#f0f921"
                          ]
                        ],
                        "type": "histogram2dcontour"
                      }
                    ],
                    "mesh3d": [
                      {
                        "colorbar": {
                          "outlinewidth": 0,
                          "ticks": ""
                        },
                        "type": "mesh3d"
                      }
                    ],
                    "parcoords": [
                      {
                        "line": {
                          "colorbar": {
                            "outlinewidth": 0,
                            "ticks": ""
                          }
                        },
                        "type": "parcoords"
                      }
                    ],
                    "pie": [
                      {
                        "automargin": true,
                        "type": "pie"
                      }
                    ],
                    "scatter": [
                      {
                        "fillpattern": {
                          "fillmode": "overlay",
                          "size": 10,
                          "solidity": 0.2
                        },
                        "type": "scatter"
                      }
                    ],
                    "scatter3d": [
                      {
                        "line": {
                          "colorbar": {
                            "outlinewidth": 0,
                            "ticks": ""
                          }
                        },
                        "marker": {
                          "colorbar": {
                            "outlinewidth": 0,
                            "ticks": ""
                          }
                        },
                        "type": "scatter3d"
                      }
                    ],
                    "scattercarpet": [
                      {
                        "marker": {
                          "colorbar": {
                            "outlinewidth": 0,
                            "ticks": ""
                          }
                        },
                        "type": "scattercarpet"
                      }
                    ],
                    "scattergeo": [
                      {
                        "marker": {
                          "colorbar": {
                            "outlinewidth": 0,
                            "ticks": ""
                          }
                        },
                        "type": "scattergeo"
                      }
                    ],
                    "scattergl": [
                      {
                        "marker": {
                          "colorbar": {
                            "outlinewidth": 0,
                            "ticks": ""
                          }
                        },
                        "type": "scattergl"
                      }
                    ],
                    "scattermapbox": [
                      {
                        "marker": {
                          "colorbar": {
                            "outlinewidth": 0,
                            "ticks": ""
                          }
                        },
                        "type": "scattermapbox"
                      }
                    ],
                    "scatterpolar": [
                      {
                        "marker": {
                          "colorbar": {
                            "outlinewidth": 0,
                            "ticks": ""
                          }
                        },
                        "type": "scatterpolar"
                      }
                    ],
                    "scatterpolargl": [
                      {
                        "marker": {
                          "colorbar": {
                            "outlinewidth": 0,
                            "ticks": ""
                          }
                        },
                        "type": "scatterpolargl"
                      }
                    ],
                    "scatterternary": [
                      {
                        "marker": {
                          "colorbar": {
                            "outlinewidth": 0,
                            "ticks": ""
                          }
                        },
                        "type": "scatterternary"
                      }
                    ],
                    "surface": [
                      {
                        "colorbar": {
                          "outlinewidth": 0,
                          "ticks": ""
                        },
                        "colorscale": [
                          [
                            0,
                            "#0d0887"
                          ],
                          [
                            0.1111111111111111,
                            "#46039f"
                          ],
                          [
                            0.2222222222222222,
                            "#7201a8"
                          ],
                          [
                            0.3333333333333333,
                            "#9c179e"
                          ],
                          [
                            0.4444444444444444,
                            "#bd3786"
                          ],
                          [
                            0.5555555555555556,
                            "#d8576b"
                          ],
                          [
                            0.6666666666666666,
                            "#ed7953"
                          ],
                          [
                            0.7777777777777778,
                            "#fb9f3a"
                          ],
                          [
                            0.8888888888888888,
                            "#fdca26"
                          ],
                          [
                            1,
                            "#f0f921"
                          ]
                        ],
                        "type": "surface"
                      }
                    ],
                    "table": [
                      {
                        "cells": {
                          "fill": {
                            "color": "#EBF0F8"
                          },
                          "line": {
                            "color": "white"
                          }
                        },
                        "header": {
                          "fill": {
                            "color": "#C8D4E3"
                          },
                          "line": {
                            "color": "white"
                          }
                        },
                        "type": "table"
                      }
                    ]
                  },
                  "layout": {
                    "annotationdefaults": {
                      "arrowcolor": "#2a3f5f",
                      "arrowhead": 0,
                      "arrowwidth": 1
                    },
                    "autotypenumbers": "strict",
                    "coloraxis": {
                      "colorbar": {
                        "outlinewidth": 0,
                        "ticks": ""
                      }
                    },
                    "colorscale": {
                      "diverging": [
                        [
                          0,
                          "#8e0152"
                        ],
                        [
                          0.1,
                          "#c51b7d"
                        ],
                        [
                          0.2,
                          "#de77ae"
                        ],
                        [
                          0.3,
                          "#f1b6da"
                        ],
                        [
                          0.4,
                          "#fde0ef"
                        ],
                        [
                          0.5,
                          "#f7f7f7"
                        ],
                        [
                          0.6,
                          "#e6f5d0"
                        ],
                        [
                          0.7,
                          "#b8e186"
                        ],
                        [
                          0.8,
                          "#7fbc41"
                        ],
                        [
                          0.9,
                          "#4d9221"
                        ],
                        [
                          1,
                          "#276419"
                        ]
                      ],
                      "sequential": [
                        [
                          0,
                          "#0d0887"
                        ],
                        [
                          0.1111111111111111,
                          "#46039f"
                        ],
                        [
                          0.2222222222222222,
                          "#7201a8"
                        ],
                        [
                          0.3333333333333333,
                          "#9c179e"
                        ],
                        [
                          0.4444444444444444,
                          "#bd3786"
                        ],
                        [
                          0.5555555555555556,
                          "#d8576b"
                        ],
                        [
                          0.6666666666666666,
                          "#ed7953"
                        ],
                        [
                          0.7777777777777778,
                          "#fb9f3a"
                        ],
                        [
                          0.8888888888888888,
                          "#fdca26"
                        ],
                        [
                          1,
                          "#f0f921"
                        ]
                      ],
                      "sequentialminus": [
                        [
                          0,
                          "#0d0887"
                        ],
                        [
                          0.1111111111111111,
                          "#46039f"
                        ],
                        [
                          0.2222222222222222,
                          "#7201a8"
                        ],
                        [
                          0.3333333333333333,
                          "#9c179e"
                        ],
                        [
                          0.4444444444444444,
                          "#bd3786"
                        ],
                        [
                          0.5555555555555556,
                          "#d8576b"
                        ],
                        [
                          0.6666666666666666,
                          "#ed7953"
                        ],
                        [
                          0.7777777777777778,
                          "#fb9f3a"
                        ],
                        [
                          0.8888888888888888,
                          "#fdca26"
                        ],
                        [
                          1,
                          "#f0f921"
                        ]
                      ]
                    },
                    "colorway": [
                      "#636efa",
                      "#EF553B",
                      "#00cc96",
                      "#ab63fa",
                      "#FFA15A",
                      "#19d3f3",
                      "#FF6692",
                      "#B6E880",
                      "#FF97FF",
                      "#FECB52"
                    ],
                    "font": {
                      "color": "#2a3f5f"
                    },
                    "geo": {
                      "bgcolor": "white",
                      "lakecolor": "white",
                      "landcolor": "#E5ECF6",
                      "showlakes": true,
                      "showland": true,
                      "subunitcolor": "white"
                    },
                    "hoverlabel": {
                      "align": "left"
                    },
                    "hovermode": "closest",
                    "mapbox": {
                      "style": "light"
                    },
                    "paper_bgcolor": "white",
                    "plot_bgcolor": "#E5ECF6",
                    "polar": {
                      "angularaxis": {
                        "gridcolor": "white",
                        "linecolor": "white",
                        "ticks": ""
                      },
                      "bgcolor": "#E5ECF6",
                      "radialaxis": {
                        "gridcolor": "white",
                        "linecolor": "white",
                        "ticks": ""
                      }
                    },
                    "scene": {
                      "xaxis": {
                        "backgroundcolor": "#E5ECF6",
                        "gridcolor": "white",
                        "gridwidth": 2,
                        "linecolor": "white",
                        "showbackground": true,
                        "ticks": "",
                        "zerolinecolor": "white"
                      },
                      "yaxis": {
                        "backgroundcolor": "#E5ECF6",
                        "gridcolor": "white",
                        "gridwidth": 2,
                        "linecolor": "white",
                        "showbackground": true,
                        "ticks": "",
                        "zerolinecolor": "white"
                      },
                      "zaxis": {
                        "backgroundcolor": "#E5ECF6",
                        "gridcolor": "white",
                        "gridwidth": 2,
                        "linecolor": "white",
                        "showbackground": true,
                        "ticks": "",
                        "zerolinecolor": "white"
                      }
                    },
                    "shapedefaults": {
                      "line": {
                        "color": "#2a3f5f"
                      }
                    },
                    "ternary": {
                      "aaxis": {
                        "gridcolor": "white",
                        "linecolor": "white",
                        "ticks": ""
                      },
                      "baxis": {
                        "gridcolor": "white",
                        "linecolor": "white",
                        "ticks": ""
                      },
                      "bgcolor": "#E5ECF6",
                      "caxis": {
                        "gridcolor": "white",
                        "linecolor": "white",
                        "ticks": ""
                      }
                    },
                    "title": {
                      "x": 0.05
                    },
                    "xaxis": {
                      "automargin": true,
                      "gridcolor": "white",
                      "linecolor": "white",
                      "ticks": "",
                      "title": {
                        "standoff": 15
                      },
                      "zerolinecolor": "white",
                      "zerolinewidth": 2
                    },
                    "yaxis": {
                      "automargin": true,
                      "gridcolor": "white",
                      "linecolor": "white",
                      "ticks": "",
                      "title": {
                        "standoff": 15
                      },
                      "zerolinecolor": "white",
                      "zerolinewidth": 2
                    }
                  }
                },
                "title": {
                  "text": "Variação de Receita por Segmento"
                }
              }
            }
          },
          "metadata": {},
          "output_type": "display_data"
        }
      ],
      "source": [
        "fig = px.pie(df_analise_segmento, values='variacao_rs', names='Segmento', title='Variação de Receita por Segmento')\n",
        "fig.show()\n"
      ]
    }
  ],
  "metadata": {
    "colab": {
      "provenance": []
    },
    "kernelspec": {
      "display_name": "Python 3",
      "name": "python3"
    },
    "language_info": {
      "codemirror_mode": {
        "name": "ipython",
        "version": 3
      },
      "file_extension": ".py",
      "mimetype": "text/x-python",
      "name": "python",
      "nbconvert_exporter": "python",
      "pygments_lexer": "ipython3",
      "version": "3.11.7"
    }
  },
  "nbformat": 4,
  "nbformat_minor": 0
}
