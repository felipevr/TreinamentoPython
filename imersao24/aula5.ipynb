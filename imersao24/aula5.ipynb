{
 "cells": [
  {
   "cell_type": "markdown",
   "metadata": {},
   "source": [
    "# Aula 5 - Séries Temporais de Ações"
   ]
  },
  {
   "cell_type": "code",
   "execution_count": 2,
   "metadata": {},
   "outputs": [
    {
     "name": "stderr",
     "output_type": "stream",
     "text": [
      "C:\\Users\\Felipe Rigo\\AppData\\Roaming\\Python\\Python311\\site-packages\\tqdm\\auto.py:21: TqdmWarning: IProgress not found. Please update jupyter and ipywidgets. See https://ipywidgets.readthedocs.io/en/stable/user_install.html\n",
      "  from .autonotebook import tqdm as notebook_tqdm\n"
     ]
    }
   ],
   "source": [
    "import pandas as pd\n",
    "import matplotlib.pyplot as plt\n",
    "import yfinance as yf\n",
    "from prophet import Prophet"
   ]
  },
  {
   "cell_type": "code",
   "execution_count": 3,
   "metadata": {},
   "outputs": [
    {
     "data": {
      "text/html": [
       "<div>\n",
       "<style scoped>\n",
       "    .dataframe tbody tr th:only-of-type {\n",
       "        vertical-align: middle;\n",
       "    }\n",
       "\n",
       "    .dataframe tbody tr th {\n",
       "        vertical-align: top;\n",
       "    }\n",
       "\n",
       "    .dataframe thead th {\n",
       "        text-align: right;\n",
       "    }\n",
       "</style>\n",
       "<table border=\"1\" class=\"dataframe\">\n",
       "  <thead>\n",
       "    <tr style=\"text-align: right;\">\n",
       "      <th></th>\n",
       "      <th>Date</th>\n",
       "      <th>Open</th>\n",
       "      <th>High</th>\n",
       "      <th>Low</th>\n",
       "      <th>Close</th>\n",
       "      <th>Adj Close</th>\n",
       "      <th>Volume</th>\n",
       "    </tr>\n",
       "  </thead>\n",
       "  <tbody>\n",
       "    <tr>\n",
       "      <th>0</th>\n",
       "      <td>2020-01-02</td>\n",
       "      <td>145.869995</td>\n",
       "      <td>146.020004</td>\n",
       "      <td>145.080002</td>\n",
       "      <td>145.970001</td>\n",
       "      <td>130.099121</td>\n",
       "      <td>5777000</td>\n",
       "    </tr>\n",
       "    <tr>\n",
       "      <th>1</th>\n",
       "      <td>2020-01-03</td>\n",
       "      <td>143.500000</td>\n",
       "      <td>145.369995</td>\n",
       "      <td>143.000000</td>\n",
       "      <td>144.279999</td>\n",
       "      <td>128.592865</td>\n",
       "      <td>5752400</td>\n",
       "    </tr>\n",
       "    <tr>\n",
       "      <th>2</th>\n",
       "      <td>2020-01-06</td>\n",
       "      <td>144.000000</td>\n",
       "      <td>144.199997</td>\n",
       "      <td>142.850006</td>\n",
       "      <td>144.100006</td>\n",
       "      <td>128.432449</td>\n",
       "      <td>7731300</td>\n",
       "    </tr>\n",
       "    <tr>\n",
       "      <th>3</th>\n",
       "      <td>2020-01-07</td>\n",
       "      <td>144.009995</td>\n",
       "      <td>145.449997</td>\n",
       "      <td>141.380005</td>\n",
       "      <td>144.979996</td>\n",
       "      <td>129.216736</td>\n",
       "      <td>7382900</td>\n",
       "    </tr>\n",
       "    <tr>\n",
       "      <th>4</th>\n",
       "      <td>2020-01-08</td>\n",
       "      <td>144.869995</td>\n",
       "      <td>145.979996</td>\n",
       "      <td>143.699997</td>\n",
       "      <td>144.960007</td>\n",
       "      <td>129.198944</td>\n",
       "      <td>6605800</td>\n",
       "    </tr>\n",
       "  </tbody>\n",
       "</table>\n",
       "</div>"
      ],
      "text/plain": [
       "        Date        Open        High         Low       Close   Adj Close  \\\n",
       "0 2020-01-02  145.869995  146.020004  145.080002  145.970001  130.099121   \n",
       "1 2020-01-03  143.500000  145.369995  143.000000  144.279999  128.592865   \n",
       "2 2020-01-06  144.000000  144.199997  142.850006  144.100006  128.432449   \n",
       "3 2020-01-07  144.009995  145.449997  141.380005  144.979996  129.216736   \n",
       "4 2020-01-08  144.869995  145.979996  143.699997  144.960007  129.198944   \n",
       "\n",
       "    Volume  \n",
       "0  5777000  \n",
       "1  5752400  \n",
       "2  7731300  \n",
       "3  7382900  \n",
       "4  6605800  "
      ]
     },
     "execution_count": 3,
     "metadata": {},
     "output_type": "execute_result"
    }
   ],
   "source": [
    "dados = yf.download('JNJ', start='2020-01-01', end='2023-12-31', progress=False)\n",
    "dados = dados.reset_index()\n",
    "dados.head()"
   ]
  },
  {
   "cell_type": "code",
   "execution_count": 4,
   "metadata": {},
   "outputs": [
    {
     "data": {
      "text/html": [
       "<div>\n",
       "<style scoped>\n",
       "    .dataframe tbody tr th:only-of-type {\n",
       "        vertical-align: middle;\n",
       "    }\n",
       "\n",
       "    .dataframe tbody tr th {\n",
       "        vertical-align: top;\n",
       "    }\n",
       "\n",
       "    .dataframe thead th {\n",
       "        text-align: right;\n",
       "    }\n",
       "</style>\n",
       "<table border=\"1\" class=\"dataframe\">\n",
       "  <thead>\n",
       "    <tr style=\"text-align: right;\">\n",
       "      <th></th>\n",
       "      <th>Date</th>\n",
       "      <th>Open</th>\n",
       "      <th>High</th>\n",
       "      <th>Low</th>\n",
       "      <th>Close</th>\n",
       "      <th>Adj Close</th>\n",
       "      <th>Volume</th>\n",
       "    </tr>\n",
       "  </thead>\n",
       "  <tbody>\n",
       "    <tr>\n",
       "      <th>1001</th>\n",
       "      <td>2023-12-22</td>\n",
       "      <td>155.250000</td>\n",
       "      <td>156.529999</td>\n",
       "      <td>155.020004</td>\n",
       "      <td>155.460007</td>\n",
       "      <td>154.288544</td>\n",
       "      <td>3798500</td>\n",
       "    </tr>\n",
       "    <tr>\n",
       "      <th>1002</th>\n",
       "      <td>2023-12-26</td>\n",
       "      <td>155.000000</td>\n",
       "      <td>156.350006</td>\n",
       "      <td>154.850006</td>\n",
       "      <td>156.139999</td>\n",
       "      <td>154.963409</td>\n",
       "      <td>4170000</td>\n",
       "    </tr>\n",
       "    <tr>\n",
       "      <th>1003</th>\n",
       "      <td>2023-12-27</td>\n",
       "      <td>155.500000</td>\n",
       "      <td>156.520004</td>\n",
       "      <td>155.419998</td>\n",
       "      <td>156.350006</td>\n",
       "      <td>155.171844</td>\n",
       "      <td>5288100</td>\n",
       "    </tr>\n",
       "    <tr>\n",
       "      <th>1004</th>\n",
       "      <td>2023-12-28</td>\n",
       "      <td>156.000000</td>\n",
       "      <td>157.240005</td>\n",
       "      <td>155.990005</td>\n",
       "      <td>156.580002</td>\n",
       "      <td>155.400101</td>\n",
       "      <td>4377500</td>\n",
       "    </tr>\n",
       "    <tr>\n",
       "      <th>1005</th>\n",
       "      <td>2023-12-29</td>\n",
       "      <td>156.509995</td>\n",
       "      <td>156.899994</td>\n",
       "      <td>155.979996</td>\n",
       "      <td>156.740005</td>\n",
       "      <td>155.558899</td>\n",
       "      <td>4311100</td>\n",
       "    </tr>\n",
       "  </tbody>\n",
       "</table>\n",
       "</div>"
      ],
      "text/plain": [
       "           Date        Open        High         Low       Close   Adj Close  \\\n",
       "1001 2023-12-22  155.250000  156.529999  155.020004  155.460007  154.288544   \n",
       "1002 2023-12-26  155.000000  156.350006  154.850006  156.139999  154.963409   \n",
       "1003 2023-12-27  155.500000  156.520004  155.419998  156.350006  155.171844   \n",
       "1004 2023-12-28  156.000000  157.240005  155.990005  156.580002  155.400101   \n",
       "1005 2023-12-29  156.509995  156.899994  155.979996  156.740005  155.558899   \n",
       "\n",
       "       Volume  \n",
       "1001  3798500  \n",
       "1002  4170000  \n",
       "1003  5288100  \n",
       "1004  4377500  \n",
       "1005  4311100  "
      ]
     },
     "execution_count": 4,
     "metadata": {},
     "output_type": "execute_result"
    }
   ],
   "source": [
    "dados.tail()"
   ]
  },
  {
   "cell_type": "code",
   "execution_count": 5,
   "metadata": {},
   "outputs": [],
   "source": [
    "dados_treino = dados[dados['Date'] < '2023-07-31']\n",
    "dados_teste = dados[dados['Date'] >= '2023-07-31']"
   ]
  },
  {
   "cell_type": "code",
   "execution_count": 8,
   "metadata": {},
   "outputs": [
    {
     "data": {
      "text/html": [
       "<div>\n",
       "<style scoped>\n",
       "    .dataframe tbody tr th:only-of-type {\n",
       "        vertical-align: middle;\n",
       "    }\n",
       "\n",
       "    .dataframe tbody tr th {\n",
       "        vertical-align: top;\n",
       "    }\n",
       "\n",
       "    .dataframe thead th {\n",
       "        text-align: right;\n",
       "    }\n",
       "</style>\n",
       "<table border=\"1\" class=\"dataframe\">\n",
       "  <thead>\n",
       "    <tr style=\"text-align: right;\">\n",
       "      <th></th>\n",
       "      <th>ds</th>\n",
       "      <th>y</th>\n",
       "    </tr>\n",
       "  </thead>\n",
       "  <tbody>\n",
       "    <tr>\n",
       "      <th>0</th>\n",
       "      <td>2020-01-02</td>\n",
       "      <td>145.970001</td>\n",
       "    </tr>\n",
       "    <tr>\n",
       "      <th>1</th>\n",
       "      <td>2020-01-03</td>\n",
       "      <td>144.279999</td>\n",
       "    </tr>\n",
       "    <tr>\n",
       "      <th>2</th>\n",
       "      <td>2020-01-06</td>\n",
       "      <td>144.100006</td>\n",
       "    </tr>\n",
       "    <tr>\n",
       "      <th>3</th>\n",
       "      <td>2020-01-07</td>\n",
       "      <td>144.979996</td>\n",
       "    </tr>\n",
       "    <tr>\n",
       "      <th>4</th>\n",
       "      <td>2020-01-08</td>\n",
       "      <td>144.960007</td>\n",
       "    </tr>\n",
       "    <tr>\n",
       "      <th>...</th>\n",
       "      <td>...</td>\n",
       "      <td>...</td>\n",
       "    </tr>\n",
       "    <tr>\n",
       "      <th>894</th>\n",
       "      <td>2023-07-24</td>\n",
       "      <td>171.080002</td>\n",
       "    </tr>\n",
       "    <tr>\n",
       "      <th>895</th>\n",
       "      <td>2023-07-25</td>\n",
       "      <td>172.389999</td>\n",
       "    </tr>\n",
       "    <tr>\n",
       "      <th>896</th>\n",
       "      <td>2023-07-26</td>\n",
       "      <td>172.720001</td>\n",
       "    </tr>\n",
       "    <tr>\n",
       "      <th>897</th>\n",
       "      <td>2023-07-27</td>\n",
       "      <td>173.690002</td>\n",
       "    </tr>\n",
       "    <tr>\n",
       "      <th>898</th>\n",
       "      <td>2023-07-28</td>\n",
       "      <td>174.479996</td>\n",
       "    </tr>\n",
       "  </tbody>\n",
       "</table>\n",
       "<p>899 rows × 2 columns</p>\n",
       "</div>"
      ],
      "text/plain": [
       "            ds           y\n",
       "0   2020-01-02  145.970001\n",
       "1   2020-01-03  144.279999\n",
       "2   2020-01-06  144.100006\n",
       "3   2020-01-07  144.979996\n",
       "4   2020-01-08  144.960007\n",
       "..         ...         ...\n",
       "894 2023-07-24  171.080002\n",
       "895 2023-07-25  172.389999\n",
       "896 2023-07-26  172.720001\n",
       "897 2023-07-27  173.690002\n",
       "898 2023-07-28  174.479996\n",
       "\n",
       "[899 rows x 2 columns]"
      ]
     },
     "execution_count": 8,
     "metadata": {},
     "output_type": "execute_result"
    }
   ],
   "source": [
    "dados_prophet_treino = dados_treino[['Date', 'Close']].rename(columns={'Date': 'ds', 'Close': 'y'})\n",
    "dados_prophet_treino"
   ]
  },
  {
   "cell_type": "code",
   "execution_count": 9,
   "metadata": {},
   "outputs": [
    {
     "name": "stderr",
     "output_type": "stream",
     "text": [
      "21:51:51 - cmdstanpy - INFO - Chain [1] start processing\n",
      "21:51:51 - cmdstanpy - INFO - Chain [1] done processing\n"
     ]
    },
    {
     "data": {
      "text/plain": [
       "<prophet.forecaster.Prophet at 0x1692e044cd0>"
      ]
     },
     "execution_count": 9,
     "metadata": {},
     "output_type": "execute_result"
    }
   ],
   "source": [
    "modelo = Prophet(weekly_seasonality=True,\n",
    "                 yearly_seasonality=True,\n",
    "                 daily_seasonality=False)\n",
    "\n",
    "modelo.add_country_holidays(country_name='US')\n",
    "\n",
    "modelo.fit(dados_prophet_treino)"
   ]
  },
  {
   "cell_type": "code",
   "execution_count": null,
   "metadata": {},
   "outputs": [],
   "source": []
  }
 ],
 "metadata": {
  "kernelspec": {
   "display_name": "Python 3",
   "language": "python",
   "name": "python3"
  },
  "language_info": {
   "codemirror_mode": {
    "name": "ipython",
    "version": 3
   },
   "file_extension": ".py",
   "mimetype": "text/x-python",
   "name": "python",
   "nbconvert_exporter": "python",
   "pygments_lexer": "ipython3",
   "version": "3.11.7"
  }
 },
 "nbformat": 4,
 "nbformat_minor": 2
}
