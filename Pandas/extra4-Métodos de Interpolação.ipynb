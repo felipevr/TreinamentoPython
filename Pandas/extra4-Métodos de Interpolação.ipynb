{
 "cells": [
  {
   "attachments": {},
   "cell_type": "markdown",
   "metadata": {},
   "source": [
    "# Métodos de Interpolação"
   ]
  },
  {
   "cell_type": "code",
   "execution_count": 1,
   "metadata": {},
   "outputs": [],
   "source": [
    "import pandas as pd"
   ]
  },
  {
   "cell_type": "code",
   "execution_count": 2,
   "metadata": {},
   "outputs": [],
   "source": [
    "data = [0.5, None, None, 0.52, 0.54, None, None, 0.59, 0.6, None, 0.7]\n",
    "s = pd.Series(data)"
   ]
  },
  {
   "cell_type": "code",
   "execution_count": 3,
   "metadata": {},
   "outputs": [
    {
     "data": {
      "text/plain": [
       "0     0.50\n",
       "1      NaN\n",
       "2      NaN\n",
       "3     0.52\n",
       "4     0.54\n",
       "5      NaN\n",
       "6      NaN\n",
       "7     0.59\n",
       "8     0.60\n",
       "9      NaN\n",
       "10    0.70\n",
       "dtype: float64"
      ]
     },
     "execution_count": 3,
     "metadata": {},
     "output_type": "execute_result"
    }
   ],
   "source": [
    "s"
   ]
  },
  {
   "cell_type": "code",
   "execution_count": 4,
   "metadata": {},
   "outputs": [
    {
     "data": {
      "text/plain": [
       "0     0.50\n",
       "1     0.00\n",
       "2     0.00\n",
       "3     0.52\n",
       "4     0.54\n",
       "5     0.00\n",
       "6     0.00\n",
       "7     0.59\n",
       "8     0.60\n",
       "9     0.00\n",
       "10    0.70\n",
       "dtype: float64"
      ]
     },
     "execution_count": 4,
     "metadata": {},
     "output_type": "execute_result"
    }
   ],
   "source": [
    "s.fillna(0)"
   ]
  },
  {
   "cell_type": "code",
   "execution_count": 5,
   "metadata": {},
   "outputs": [
    {
     "data": {
      "text/plain": [
       "0     0.50\n",
       "1     0.50\n",
       "2     0.50\n",
       "3     0.52\n",
       "4     0.54\n",
       "5     0.54\n",
       "6     0.54\n",
       "7     0.59\n",
       "8     0.60\n",
       "9     0.60\n",
       "10    0.70\n",
       "dtype: float64"
      ]
     },
     "execution_count": 5,
     "metadata": {},
     "output_type": "execute_result"
    }
   ],
   "source": [
    "# Existem outros métodos para realizarmos a interpolação, um deles é o ffill(). \n",
    "# Esse método, analisa a Series do primeiro elemento ao último, e uma vez que for encontrada um valor nulo, ele coletará o valor da última assinatura válida.\n",
    "s = pd.Series(data)\n",
    "s.fillna(method='ffill')"
   ]
  },
  {
   "cell_type": "code",
   "execution_count": 6,
   "metadata": {},
   "outputs": [
    {
     "data": {
      "text/plain": [
       "0     0.50\n",
       "1     0.52\n",
       "2     0.52\n",
       "3     0.52\n",
       "4     0.54\n",
       "5     0.59\n",
       "6     0.59\n",
       "7     0.59\n",
       "8     0.60\n",
       "9     0.70\n",
       "10    0.70\n",
       "dtype: float64"
      ]
     },
     "execution_count": 6,
     "metadata": {},
     "output_type": "execute_result"
    }
   ],
   "source": [
    "# o bfill(), que por sua vez realiza a mesma análise das assinaturas em uma Series, mas dessa vez de baixo para cima, isto é, do último elemento da Series ao primeiro\n",
    "s = pd.Series(data)\n",
    "s.fillna(method='bfill')"
   ]
  },
  {
   "cell_type": "code",
   "execution_count": 8,
   "metadata": {},
   "outputs": [
    {
     "data": {
      "text/plain": [
       "0     0.500\n",
       "1     0.575\n",
       "2     0.575\n",
       "3     0.520\n",
       "4     0.540\n",
       "5     0.575\n",
       "6     0.575\n",
       "7     0.590\n",
       "8     0.600\n",
       "9     0.575\n",
       "10    0.700\n",
       "dtype: float64"
      ]
     },
     "execution_count": 8,
     "metadata": {},
     "output_type": "execute_result"
    }
   ],
   "source": [
    "# media\n",
    "s = pd.Series(data)\n",
    "s.fillna(s.mean())"
   ]
  },
  {
   "cell_type": "code",
   "execution_count": 9,
   "metadata": {},
   "outputs": [
    {
     "data": {
      "text/plain": [
       "0     0.50\n",
       "1      NaN\n",
       "2      NaN\n",
       "3     0.52\n",
       "4     0.54\n",
       "5      NaN\n",
       "6      NaN\n",
       "7     0.59\n",
       "8     0.60\n",
       "9      NaN\n",
       "10    0.70\n",
       "dtype: float64"
      ]
     },
     "execution_count": 9,
     "metadata": {},
     "output_type": "execute_result"
    }
   ],
   "source": [
    "s"
   ]
  },
  {
   "cell_type": "code",
   "execution_count": 15,
   "metadata": {},
   "outputs": [
    {
     "data": {
      "text/plain": [
       "0     0.50\n",
       "1     0.50\n",
       "2      NaN\n",
       "3     0.52\n",
       "4     0.54\n",
       "5     0.54\n",
       "6      NaN\n",
       "7     0.59\n",
       "8     0.60\n",
       "9     0.60\n",
       "10    0.70\n",
       "dtype: float64"
      ]
     },
     "execution_count": 15,
     "metadata": {},
     "output_type": "execute_result"
    }
   ],
   "source": [
    "s1 = s.fillna(method='ffill', limit = 1)\n",
    "s1"
   ]
  },
  {
   "cell_type": "code",
   "execution_count": 16,
   "metadata": {},
   "outputs": [
    {
     "data": {
      "text/plain": [
       "0     0.50\n",
       "1     0.50\n",
       "2     0.52\n",
       "3     0.52\n",
       "4     0.54\n",
       "5     0.54\n",
       "6     0.59\n",
       "7     0.59\n",
       "8     0.60\n",
       "9     0.60\n",
       "10    0.70\n",
       "dtype: float64"
      ]
     },
     "execution_count": 16,
     "metadata": {},
     "output_type": "execute_result"
    }
   ],
   "source": [
    "s1 = s1.fillna(method='bfill', limit = 1)\n",
    "s1"
   ]
  },
  {
   "cell_type": "code",
   "execution_count": null,
   "metadata": {},
   "outputs": [],
   "source": []
  }
 ],
 "metadata": {
  "kernelspec": {
   "display_name": "Python 3",
   "language": "python",
   "name": "python3"
  },
  "language_info": {
   "codemirror_mode": {
    "name": "ipython",
    "version": 3
   },
   "file_extension": ".py",
   "mimetype": "text/x-python",
   "name": "python",
   "nbconvert_exporter": "python",
   "pygments_lexer": "ipython3",
   "version": "3.11.0"
  },
  "orig_nbformat": 4,
  "vscode": {
   "interpreter": {
    "hash": "5238573367df39f7286bb46f9ff5f08f63a01a80960060ce41e3c79b190280fa"
   }
  }
 },
 "nbformat": 4,
 "nbformat_minor": 2
}
