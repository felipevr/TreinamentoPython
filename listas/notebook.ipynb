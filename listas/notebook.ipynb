{
 "cells": [
  {
   "cell_type": "code",
   "execution_count": 6,
   "metadata": {},
   "outputs": [
    {
     "data": {
      "text/plain": [
       "[0, 1, 2, 3, 4]"
      ]
     },
     "execution_count": 6,
     "metadata": {},
     "output_type": "execute_result"
    }
   ],
   "source": [
    "a = range(5)\n",
    "list(a)"
   ]
  },
  {
   "cell_type": "code",
   "execution_count": 14,
   "metadata": {},
   "outputs": [
    {
     "name": "stdout",
     "output_type": "stream",
     "text": [
      "1 85\n",
      "2 79\n",
      "3 87\n",
      "4 11\n",
      "5 20\n",
      "6 44\n",
      "7 36\n",
      "8 80\n",
      "9 57\n",
      "10 37\n"
     ]
    }
   ],
   "source": [
    "#idades = [15, 34, 45, 76, 45, 76,54, 99]\n",
    "import random\n",
    "\n",
    "idades = [random.randrange(0,99) for i in range(10)]   "
   ]
  },
  {
   "cell_type": "code",
   "execution_count": 17,
   "metadata": {},
   "outputs": [
    {
     "name": "stdout",
     "output_type": "stream",
     "text": [
      "1 85\n",
      "2 79\n",
      "3 87\n",
      "4 11\n",
      "5 20\n",
      "6 44\n",
      "7 36\n",
      "8 80\n",
      "9 57\n",
      "10 37\n"
     ]
    }
   ],
   "source": [
    "for i in range(len(idades)):\n",
    "    print(i+1, idades[i])"
   ]
  },
  {
   "cell_type": "code",
   "execution_count": 21,
   "metadata": {},
   "outputs": [
    {
     "data": {
      "text/plain": [
       "[(1, 85),\n",
       " (2, 79),\n",
       " (3, 87),\n",
       " (4, 11),\n",
       " (5, 20),\n",
       " (6, 44),\n",
       " (7, 36),\n",
       " (8, 80),\n",
       " (9, 57),\n",
       " (10, 37)]"
      ]
     },
     "execution_count": 21,
     "metadata": {},
     "output_type": "execute_result"
    }
   ],
   "source": [
    "b = enumerate(idades, 1)\n",
    "list(b)"
   ]
  },
  {
   "cell_type": "code",
   "execution_count": 23,
   "metadata": {},
   "outputs": [
    {
     "name": "stdout",
     "output_type": "stream",
     "text": [
      "1 x 85\n",
      "2 x 79\n",
      "3 x 87\n",
      "4 x 11\n",
      "5 x 20\n",
      "6 x 44\n",
      "7 x 36\n",
      "8 x 80\n",
      "9 x 57\n",
      "10 x 37\n"
     ]
    }
   ],
   "source": [
    "for indice, idade in enumerate(idades,1):\n",
    "    print(indice, \"x\", idade)"
   ]
  },
  {
   "cell_type": "code",
   "execution_count": 25,
   "metadata": {},
   "outputs": [
    {
     "name": "stdout",
     "output_type": "stream",
     "text": [
      "asd\n",
      "assdd\n",
      "324asd\n"
     ]
    }
   ],
   "source": [
    "usuarios = [\n",
    "    (\"asd\", 12, 1235),\n",
    "    (\"assdd\", 22, 1235),\n",
    "    (\"324asd\", 33, 1232)\n",
    "]\n",
    "\n",
    "for nome, idade, nascimento in usuarios:\n",
    "    print(nome)"
   ]
  },
  {
   "cell_type": "code",
   "execution_count": 37,
   "metadata": {},
   "outputs": [
    {
     "name": "stdout",
     "output_type": "stream",
     "text": [
      "asd\n",
      "assdd\n",
      "324asd\n"
     ]
    },
    {
     "data": {
      "text/plain": [
       "1232"
      ]
     },
     "execution_count": 37,
     "metadata": {},
     "output_type": "execute_result"
    }
   ],
   "source": [
    "for _, __, ___ in usuarios: #desempacotando as tuplas\n",
    "    print(_)\n",
    "    \n",
    "a"
   ]
  },
  {
   "cell_type": "code",
   "execution_count": 43,
   "metadata": {},
   "outputs": [
    {
     "data": {
      "text/plain": [
       "[87, 85, 80, 79, 57, 44, 37, 36, 20, 11]"
      ]
     },
     "execution_count": 43,
     "metadata": {},
     "output_type": "execute_result"
    }
   ],
   "source": [
    "#sorted(idades)\n",
    "#list(reversed(idades))\n",
    "sorted(idades, reverse=True)"
   ]
  },
  {
   "cell_type": "code",
   "execution_count": 46,
   "metadata": {},
   "outputs": [
    {
     "data": {
      "text/plain": [
       "[' ',\n",
       " ' ',\n",
       " 'a',\n",
       " 'a',\n",
       " 'a',\n",
       " 'a',\n",
       " 'b',\n",
       " 'b',\n",
       " 'd',\n",
       " 'd',\n",
       " 'd',\n",
       " 'f',\n",
       " 'f',\n",
       " 'f',\n",
       " 'f',\n",
       " 'h',\n",
       " 'i',\n",
       " 'j',\n",
       " 'j',\n",
       " 'j',\n",
       " 'j',\n",
       " 'k',\n",
       " 'k',\n",
       " 'k',\n",
       " 'k',\n",
       " 'n',\n",
       " 's',\n",
       " 's',\n",
       " 's',\n",
       " 's',\n",
       " 'v']"
      ]
     },
     "execution_count": 46,
     "metadata": {},
     "output_type": "execute_result"
    }
   ],
   "source": [
    "a = \"asdf fjvkajsdkf jbaskiasdfbhnkj\"\n",
    "sorted(a)"
   ]
  },
  {
   "cell_type": "code",
   "execution_count": 49,
   "metadata": {},
   "outputs": [
    {
     "data": {
      "text/plain": [
       "[11, 20, 36, 37, 44, 57, 79, 80, 85, 87]"
      ]
     },
     "execution_count": 49,
     "metadata": {},
     "output_type": "execute_result"
    }
   ],
   "source": [
    "idades.sort()\n",
    "idades"
   ]
  },
  {
   "cell_type": "code",
   "execution_count": 52,
   "metadata": {},
   "outputs": [
    {
     "data": {
      "text/plain": [
       "[10, 9, 8, 7, 6, 5, 4, 3, 2, 1]"
      ]
     },
     "execution_count": 52,
     "metadata": {},
     "output_type": "execute_result"
    }
   ],
   "source": [
    "list(reversed(range(1,11)))"
   ]
  },
  {
   "cell_type": "code",
   "execution_count": 53,
   "metadata": {},
   "outputs": [
    {
     "data": {
      "text/plain": [
       "['Ana', 'Jack', 'Luis', 'Paulo']"
      ]
     },
     "execution_count": 53,
     "metadata": {},
     "output_type": "execute_result"
    }
   ],
   "source": [
    "nomes = [\"Paulo\", \"Ana\", \"Jack\", \"Luis\"]\n",
    "sorted(nomes)"
   ]
  },
  {
   "cell_type": "code",
   "execution_count": 69,
   "metadata": {},
   "outputs": [],
   "source": [
    "class ContaSalario:\n",
    "\n",
    "    def __init__(self, codigo):\n",
    "        self._codigo = codigo\n",
    "        self._saldo = 0\n",
    "        \n",
    "    def __eq__(self, outro):\n",
    "        if type(outro) != ContaSalario:\n",
    "            return False\n",
    "        \n",
    "        return self._codigo == outro._codigo and self._saldo == outro._saldo\n",
    "\n",
    "    def deposita(self, valor):\n",
    "        self._saldo += valor\n",
    "\n",
    "    def extrai_saldo(self):\n",
    "        return self._saldo\n",
    "\n",
    "    def __str__(self):\n",
    "        return \"[>>Codigo {} Saldo {}<<]\".format(self._codigo, self._saldo)\n",
    "\n",
    "    def __rep__(self):\n",
    "        return \"[>>{}<<]\".format(self._codigo)\n",
    "\n",
    "    def __lt__(self, outro):\n",
    "        return self._saldo < outro._saldo\n"
   ]
  },
  {
   "cell_type": "code",
   "execution_count": 70,
   "metadata": {},
   "outputs": [
    {
     "name": "stdout",
     "output_type": "stream",
     "text": [
      "[>>Codigo 17 Saldo 500<<]\n",
      "[>>Codigo 23 Saldo 700<<]\n",
      "[>>Codigo 3 Saldo 1000<<]\n"
     ]
    }
   ],
   "source": [
    "conta_gui = ContaSalario(17)\n",
    "conta_gui.deposita(500)\n",
    "\n",
    "conta_ana = ContaSalario(3)\n",
    "conta_ana.deposita(1000)\n",
    "\n",
    "conta_paulo = ContaSalario(23)\n",
    "conta_paulo.deposita(700)\n",
    "\n",
    "contas = [conta_ana, conta_gui, conta_paulo]\n",
    "\n",
    "for conta in sorted(contas, key=ContaSalario.extrai_saldo):\n",
    "    print(conta)"
   ]
  },
  {
   "cell_type": "code",
   "execution_count": 66,
   "metadata": {},
   "outputs": [
    {
     "name": "stdout",
     "output_type": "stream",
     "text": [
      "[>>Codigo 17 Saldo 500<<]\n",
      "[>>Codigo 23 Saldo 700<<]\n",
      "[>>Codigo 3 Saldo 1000<<]\n"
     ]
    }
   ],
   "source": [
    "from operator import attrgetter\n",
    "\n",
    "for conta in sorted(contas, key=attrgetter(\"_saldo\")):\n",
    "    print(conta)"
   ]
  },
  {
   "cell_type": "code",
   "execution_count": 76,
   "metadata": {},
   "outputs": [
    {
     "name": "stdout",
     "output_type": "stream",
     "text": [
      "[>>Codigo 3 Saldo 1000<<]\n",
      "[>>Codigo 23 Saldo 700<<]\n",
      "[>>Codigo 17 Saldo 500<<]\n"
     ]
    }
   ],
   "source": [
    "for conta in sorted(contas, reverse=True):\n",
    "    print(conta)"
   ]
  },
  {
   "cell_type": "code",
   "execution_count": 77,
   "metadata": {},
   "outputs": [],
   "source": [
    "conta_gui = ContaSalario(1700)\n",
    "conta_gui.deposita(500)\n",
    "\n",
    "conta_ana = ContaSalario(3)\n",
    "conta_ana.deposita(1000)\n",
    "\n",
    "conta_paulo = ContaSalario(23)\n",
    "conta_paulo.deposita(500)\n",
    "\n",
    "contas = [conta_ana, conta_gui, conta_paulo]"
   ]
  },
  {
   "cell_type": "code",
   "execution_count": 78,
   "metadata": {},
   "outputs": [
    {
     "name": "stdout",
     "output_type": "stream",
     "text": [
      "[>>Codigo 23 Saldo 500<<]\n",
      "[>>Codigo 1700 Saldo 500<<]\n",
      "[>>Codigo 3 Saldo 1000<<]\n"
     ]
    }
   ],
   "source": [
    "for conta in sorted(contas, key=attrgetter('_saldo', '_codigo')):\n",
    "    print(conta)"
   ]
  },
  {
   "cell_type": "code",
   "execution_count": 86,
   "metadata": {},
   "outputs": [],
   "source": [
    "from functools import total_ordering\n",
    "\n",
    "@total_ordering\n",
    "class ContaSalario:\n",
    "\n",
    "    def __init__(self, codigo):\n",
    "        self._codigo = codigo\n",
    "        self._saldo = 0\n",
    "        \n",
    "    def __eq__(self, outro):\n",
    "        if type(outro) != ContaSalario:\n",
    "            return False\n",
    "        \n",
    "        return self._codigo == outro._codigo and self._saldo == outro._saldo\n",
    "\n",
    "    def deposita(self, valor):\n",
    "        self._saldo += valor\n",
    "\n",
    "    def extrai_saldo(self):\n",
    "        return self._saldo\n",
    "\n",
    "    def __str__(self):\n",
    "        return \"[>>Codigo {} Saldo {}<<]\".format(self._codigo, self._saldo)\n",
    "\n",
    "    def __rep__(self):\n",
    "        return \"[>>{}<<]\".format(self._codigo)\n",
    "\n",
    "    def __lt__(self, outro):\n",
    "        if self._saldo != outro._saldo:\n",
    "            return self._saldo < outro._saldo\n",
    "        \n",
    "        return self._codigo < outro._codigo\n"
   ]
  },
  {
   "cell_type": "code",
   "execution_count": 88,
   "metadata": {},
   "outputs": [],
   "source": [
    "conta_gui = ContaSalario(1700)\n",
    "conta_gui.deposita(500)\n",
    "\n",
    "conta_ana = ContaSalario(3)\n",
    "conta_ana.deposita(5000)\n",
    "\n",
    "conta_paulo = ContaSalario(23)\n",
    "conta_paulo.deposita(500)\n",
    "\n",
    "contas = [conta_ana, conta_gui, conta_paulo]"
   ]
  },
  {
   "cell_type": "code",
   "execution_count": 85,
   "metadata": {},
   "outputs": [
    {
     "name": "stdout",
     "output_type": "stream",
     "text": [
      "[>>Codigo 23 Saldo 500<<]\n",
      "[>>Codigo 1700 Saldo 500<<]\n",
      "[>>Codigo 3 Saldo 5000<<]\n"
     ]
    }
   ],
   "source": [
    "for conta in sorted(contas):\n",
    "    print(conta)"
   ]
  },
  {
   "cell_type": "code",
   "execution_count": 89,
   "metadata": {},
   "outputs": [
    {
     "data": {
      "text/plain": [
       "True"
      ]
     },
     "execution_count": 89,
     "metadata": {},
     "output_type": "execute_result"
    }
   ],
   "source": [
    "conta_gui <= conta_ana"
   ]
  }
 ],
 "metadata": {
  "kernelspec": {
   "display_name": "Python 3.11.0 64-bit",
   "language": "python",
   "name": "python3"
  },
  "language_info": {
   "codemirror_mode": {
    "name": "ipython",
    "version": 3
   },
   "file_extension": ".py",
   "mimetype": "text/x-python",
   "name": "python",
   "nbconvert_exporter": "python",
   "pygments_lexer": "ipython3",
   "version": "3.11.0"
  },
  "orig_nbformat": 4,
  "vscode": {
   "interpreter": {
    "hash": "5238573367df39f7286bb46f9ff5f08f63a01a80960060ce41e3c79b190280fa"
   }
  }
 },
 "nbformat": 4,
 "nbformat_minor": 2
}
