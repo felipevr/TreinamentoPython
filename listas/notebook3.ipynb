{
 "cells": [
  {
   "cell_type": "markdown",
   "metadata": {},
   "source": [
    "Continuando com Collections\n",
    "https://cursos.alura.com.br/course/python-collections-conjuntos-e-dicionarios/task/53511"
   ]
  },
  {
   "cell_type": "code",
   "execution_count": 5,
   "metadata": {},
   "outputs": [
    {
     "data": {
      "text/plain": [
       "{'olá': 1,\n",
       " 'meu': 1,\n",
       " 'nome': 1,\n",
       " 'é': 1,\n",
       " 'felipe': 1,\n",
       " 'e': 2,\n",
       " 'eu': 2,\n",
       " 'gosto': 2,\n",
       " 'muito': 2,\n",
       " 'de': 2,\n",
       " 'coelhos': 3,\n",
       " ',': 1,\n",
       " 'são': 1,\n",
       " 'legais': 1,\n",
       " 'comem': 1,\n",
       " 'alface': 2,\n",
       " '.': 1,\n",
       " 'comer': 1,\n",
       " 'também': 1}"
      ]
     },
     "execution_count": 5,
     "metadata": {},
     "output_type": "execute_result"
    }
   ],
   "source": [
    "meu_texto = \"Olá meu nome é felipe e eu gosto muito de coelhos , coelhos são legais e coelhos comem muito alface . Eu gosto de comer alface também\".lower()\n",
    "aparicoes = {}\n",
    "for palavra in meu_texto.split():\n",
    "    ate_agora = aparicoes.get(palavra, 0)\n",
    "    aparicoes[palavra] = ate_agora + 1\n",
    "aparicoes"
   ]
  },
  {
   "cell_type": "code",
   "execution_count": 6,
   "metadata": {},
   "outputs": [
    {
     "data": {
      "text/plain": [
       "defaultdict(int,\n",
       "            {'olá': 1,\n",
       "             'meu': 1,\n",
       "             'nome': 1,\n",
       "             'é': 1,\n",
       "             'felipe': 1,\n",
       "             'e': 2,\n",
       "             'eu': 2,\n",
       "             'gosto': 2,\n",
       "             'muito': 2,\n",
       "             'de': 2,\n",
       "             'coelhos': 3,\n",
       "             ',': 1,\n",
       "             'são': 1,\n",
       "             'legais': 1,\n",
       "             'comem': 1,\n",
       "             'alface': 2,\n",
       "             '.': 1,\n",
       "             'comer': 1,\n",
       "             'também': 1})"
      ]
     },
     "execution_count": 6,
     "metadata": {},
     "output_type": "execute_result"
    }
   ],
   "source": [
    "from collections import defaultdict\n",
    "\n",
    "aparicoes = defaultdict(int)\n",
    "for palavra in meu_texto.split():\n",
    "    ate_agora = aparicoes[palavra]\n",
    "    aparicoes[palavra] = ate_agora + 1\n",
    "aparicoes"
   ]
  },
  {
   "cell_type": "code",
   "execution_count": 10,
   "metadata": {},
   "outputs": [
    {
     "data": {
      "text/plain": [
       "defaultdict(int,\n",
       "            {'olá': 1,\n",
       "             'meu': 1,\n",
       "             'nome': 1,\n",
       "             'é': 1,\n",
       "             'felipe': 1,\n",
       "             'e': 2,\n",
       "             'eu': 2,\n",
       "             'gosto': 2,\n",
       "             'muito': 2,\n",
       "             'de': 2,\n",
       "             'coelhos': 3,\n",
       "             ',': 1,\n",
       "             'são': 1,\n",
       "             'legais': 1,\n",
       "             'comem': 1,\n",
       "             'alface': 2,\n",
       "             '.': 1,\n",
       "             'comer': 1,\n",
       "             'também': 1})"
      ]
     },
     "execution_count": 10,
     "metadata": {},
     "output_type": "execute_result"
    }
   ],
   "source": [
    "from collections import defaultdict\n",
    "\n",
    "aparicoes = defaultdict(int)\n",
    "for palavra in meu_texto.split():\n",
    "    aparicoes[palavra] +=  1\n",
    "aparicoes"
   ]
  },
  {
   "cell_type": "code",
   "execution_count": 7,
   "metadata": {},
   "outputs": [
    {
     "data": {
      "text/plain": [
       "Counter({'olá': 1,\n",
       "         'meu': 1,\n",
       "         'nome': 1,\n",
       "         'é': 1,\n",
       "         'felipe': 1,\n",
       "         'e': 2,\n",
       "         'eu': 2,\n",
       "         'gosto': 2,\n",
       "         'muito': 2,\n",
       "         'de': 2,\n",
       "         'coelhos': 3,\n",
       "         ',': 1,\n",
       "         'são': 1,\n",
       "         'legais': 1,\n",
       "         'comem': 1,\n",
       "         'alface': 2,\n",
       "         '.': 1,\n",
       "         'comer': 1,\n",
       "         'também': 1})"
      ]
     },
     "execution_count": 7,
     "metadata": {},
     "output_type": "execute_result"
    }
   ],
   "source": [
    "from collections import Counter\n",
    "\n",
    "aparicoes = Counter(meu_texto.split())\n",
    "aparicoes"
   ]
  },
  {
   "cell_type": "markdown",
   "metadata": {},
   "source": [
    "# Testando o uso de diversas coleções"
   ]
  },
  {
   "cell_type": "code",
   "execution_count": 1,
   "metadata": {},
   "outputs": [],
   "source": [
    "texto1 = \"\"\" Métodos de string\n",
    "Strings implementam todas as operações comuns de sequências, juntamente com os métodos adicionais descritos abaixo.\n",
    "\n",
    "Strings também possuem suporte para duas formas de formatação de string, uma fornecendo uma ampla gama de flexibilidade e customização (veja str.format(), Sintaxe das strings de formato e Formatação personalizada de strings) e a outra baseada no estilo de formatação printf da linguagem C, que lida com uma gama menor de tipos e é levemente mais difícil de utilizar corretamente, mas é frequentemente mais rápida para os casos na qual ela consegue manipular (Formatação de String no Formato printf-style).\n",
    "\n",
    "A seção Serviços de Processamento de Texto da biblioteca padrão cobre um número de diversos outros módulos que fornecem vários utilitários relacionados a texto (incluindo suporte a expressões regulares no módulo re). \n",
    "\n",
    "Retorna uma cópia da string com o seu primeiro caractere em maiúsculo e o restante em minúsculo.\n",
    "\n",
    "Alterado na versão 3.8: O primeiro caractere agora é colocado em titlecase ao invés de letras maiúsculas. Isso significa que caracteres como dígrafos apenas terão sua primeira letra alterada para maiúscula, ao invés de todos os caracteres.\n",
    "\n",
    "Retorna uma cópia da string em casefolded. Strings em casefold podem ser usadas para corresponder letras sem importar se são minúsculas ou maiúsculas.\n",
    "\n",
    "Casefolding é similar a mudar para letras minúsculas, mas mais agressivo porque destina-se a remover todas as diferenças maiúsculas/minúsculas em uma string. Por exemplo, a letra minúscula alemã 'ß' é equivalente a \"ss\". Como ela já é uma minúscula, o método lower() não irá fazer nada para 'ß'; já o método casefold() converte a letra para \"ss\".\n",
    "\n",
    "O algoritmo casefolding é descrito na seção 3.13 do Padrão Unicode.\n",
    "\n",
    "Novo na versão 3.3.\n",
    "\n",
    "Retorna um texto centralizado em uma string de comprimento width. Preenchimento é feito usando o parâmetro fillchar especificado (padrão é o caractere de espaço ASCII). A string original é retornada se width é menor ou igual que len(s).\n",
    "\n",
    "Retorna o número de ocorrências da sub-string sub que não se sobrepõem no intervalo [start, end]. Argumentos opcionais start e end são interpretados como na notação de fatias.\n",
    "\n",
    "If sub is empty, returns the number of empty strings between characters which is the length of the string plus one.\n",
    "\n",
    "Retorna uma versão codificada da string como um objeto bytes. A codificação padrão é 'utf-8'. errors podem ser fornecidos para definir um esquema de tratamento de erros diferente. O padrão para errors é 'strict', o que significa que os erros de codificação levantam uma exceção UnicodeError. Outros valores possíveis são 'ignore', 'replace', 'xmlcharrefreplace', 'backslashreplace' e qualquer outro nome registrado via codecs.register_error(), veja a seção Error Handlers. Para obter uma lista das possíveis codificações, consulte a seção Standard Encodings.\n",
    "\n",
    "Por padrão, o argumento errors não é verificado para obter os melhores desempenhos, mas apenas usado no primeiro erro de codificação. Habilite o Modo de Desenvolvimento do Python ou use uma construção de depuração para verificar errors.\n",
    "\n",
    "Alterado na versão 3.1: Adicionado suporte para argumentos nomeados.\n",
    "\n",
    "Alterado na versão 3.9: Os errors agora são verificados no modo de desenvolvimento e no modo de depuração.\n",
    "\n",
    "Retorna True se a string terminar com o suffix especificado, caso contrário retorna False. suffix também pode ser uma tupla de sufixos para procurar. Com o parâmetro opcional start, começamos a testar a partir daquela posição. Com o parâmetro opcional end, devemos parar de comparar na posição especificada.\n",
    "\n",
    "Retorna uma cópia da string onde todos os caracteres de tabulação são substituídos por um ou mais espaços, dependendo da coluna atual e do tamanho fornecido para a tabulação. Posições de tabulação ocorrem a cada tabsize caracteres (o padrão é 8, dada as posições de tabulação nas colunas 0, 8, 16 e assim por diante). Para expandir a string, a coluna atual é definida como zero e a string é examinada caractere por caractere. Se o caractere é uma tabulação (\\t), um ou mais caracteres de espaço são inseridos no resultado até que a coluna atual seja igual a próxima posição de tabulação. (O caractere de tabulação em si não é copiado.) Se o caractere é um caractere de nova linha (\\n) ou de retorno (\\r), ele é copiado e a coluna atual é redefinida para zero. Qualquer outro caractere é copiado sem ser modificado e a coluna atual é incrementada em uma unidade independentemente de como o caractere é representado quando é impresso.\n",
    "\"\"\""
   ]
  },
  {
   "cell_type": "code",
   "execution_count": 2,
   "metadata": {},
   "outputs": [],
   "source": [
    "texto2 = \"\"\" Onde eu trabalho, todos os links acessados por qualquer computador da empresa são armazenados em um mesmo arquivo de registro na rede, o acessos.log, para maior controle do que os funcionários andam acessando durante o horário de trabalho. O log está organizado desta forma:\n",
    "Uma vez por semana, checamos todo esse registro. Uma das verificações consiste em ver quais sites foram acessados sem o protocolo de segurança HTTPS.\n",
    "Para facilitar isso, criamos um script em Python utilizando nossos conhecimentos sobre compreensão de lista, leitura de arquivos e o método de string, que verifica se uma string começa com uma determinada substring passada no parâmetro:\n",
    "\n",
    "Ok! Apareceu o primeiro site que foi acessado apenas com HTTP. Se quiséssemos saber os próximos resultados, poderíamos, também, fazer um laço sobre toda a lista.\n",
    "\n",
    "O problema da memória\n",
    "Tudo certo, até que, por desorganização, ficamos algumas semanas sem fazer a checagem. Quando fomos verificar, o arquivo acessos.log já tinha mais de 5 GB! Tentamos rodar nosso código e olha o que aconteceu:\n",
    "\n",
    "Recebemos uma exceção de tipo MemoryError! O Python não conseguiu fazer o que queríamos. Mas por que esse problema ocorreu?\n",
    "\n",
    "Isso é porque a compreensão de lista armazena todos os valores de uma vez, ao mesmo tempo. Assim, se todos os links acessados fossem sem HTTPS, por exemplo, a memória RAM de nossa máquina ficaria ocupada de mais 5 GB, lentificando (e muito) nosso computador.\n",
    "\n",
    "Como podemos solucionar todo esse problema, então?\n",
    "\n",
    "Imaginando uma solução com lazy evaluation\n",
    "Por enquanto, lemos nosso arquivo de registro linha por linha e armazenamos as linhas em uma lista. Estamos, então, iterando sobre nosso arquivo, isto é, repetindo o mesmo procedimento sobre ele para se obter cada linha.\n",
    "\n",
    "Conseguimos fazer isso porque nosso arquivo aberto no Python é um iterável, um tipo de objeto que possibilita a ação de repetição sobre seus elementos, como listas e strings.\n",
    "\n",
    "No Python, um objeto é considerado iterável se ele implementa o método __iter__, permitindo, por exemplo, que um loop for seja executado sobre ele.\n",
    "\n",
    "Sabendo disso e considerando nosso problema com a memória do computador, uma solução hipotética seria ter um iterável que nos permitisse gerar uma URL por vez a cada iteração, à medida do necessário.\n",
    "\n",
    "Esse tipo de lógica, na computação, tem nome - avaliação preguiçosa, ou, em inglês, lazy evaluation.\n",
    "\n",
    "A avaliação preguiçosa, como já indica o nome, atrasa o processamento de uma expressão até que o resultado seja de fato necessário. Então como podemos utilizar dessa técnica no Python?\n",
    "\n",
    "Implementando iteradores no Python\n",
    "No Python (e, na verdade, em diversas outras linguagens), temos o conceito de iterador. Um iterador é sempre um iterável, mas que produz um valor a cada vez que é usado como argumento da função nativa next().\n",
    "\n",
    "Um iterador deve sempre implementar o método next(), no Python 2, ou __next__(), no Python 3. Esse método deve retornar a exceção StopIteration quando não há mais valores para o iterador produzir.\n",
    "\"\"\""
   ]
  },
  {
   "cell_type": "code",
   "execution_count": 13,
   "metadata": {},
   "outputs": [
    {
     "name": "stdout",
     "output_type": "stream",
     "text": [
      "4538 4538\n"
     ]
    }
   ],
   "source": [
    "aparicoes = Counter(texto1.lower())\n",
    "total_de_caracteres = sum(aparicoes.values())\n",
    "tamanhotexto = len(texto1)\n",
    "print(total_de_caracteres, tamanhotexto)"
   ]
  },
  {
   "cell_type": "code",
   "execution_count": 22,
   "metadata": {},
   "outputs": [
    {
     "data": {
      "text/plain": [
       "[(' ', 15.469369766416923),\n",
       " ('a', 9.409431467606876),\n",
       " ('e', 8.836491846628471),\n",
       " ('o', 8.197443807844866),\n",
       " ('r', 6.919347730277655),\n",
       " ('s', 6.104010577346849),\n",
       " ('i', 4.627589246364037),\n",
       " ('t', 4.5174085500220365),\n",
       " ('d', 3.9665050683120318),\n",
       " ('n', 3.9665050683120318)]"
      ]
     },
     "execution_count": 22,
     "metadata": {},
     "output_type": "execute_result"
    }
   ],
   "source": [
    "lista = [(letra, frequencia / total_de_caracteres * 100) for letra, frequencia in aparicoes.items()]\n",
    "proporcoes = Counter(dict(lista))\n",
    "proporcoes.most_common(10)"
   ]
  },
  {
   "cell_type": "code",
   "execution_count": 28,
   "metadata": {},
   "outputs": [
    {
     "name": "stdout",
     "output_type": "stream",
     "text": [
      "  => 15.47%\n",
      "a => 9.41%\n",
      "e => 8.84%\n",
      "o => 8.20%\n",
      "r => 6.92%\n",
      "s => 6.10%\n",
      "i => 4.63%\n",
      "t => 4.52%\n",
      "d => 3.97%\n",
      "n => 3.97%\n"
     ]
    }
   ],
   "source": [
    "def analisa_frequencia_de_letras(texto):\n",
    "    aparicoes = Counter(texto.lower())\n",
    "    total_de_caracteres = sum(aparicoes.values())\n",
    "    lista = [(letra, frequencia / total_de_caracteres * 100) for letra, frequencia in aparicoes.items()]\n",
    "    proporcoes = Counter(dict(lista))\n",
    "    mais_comuns = proporcoes.most_common(10)\n",
    "    for car, prop in mais_comuns:\n",
    "        print(\"{} => {:.2f}%\".format(car, prop))\n",
    "        \n",
    "analisa_frequencia_de_letras(texto1)"
   ]
  },
  {
   "cell_type": "code",
   "execution_count": 29,
   "metadata": {},
   "outputs": [
    {
     "name": "stdout",
     "output_type": "stream",
     "text": [
      "  => 15.55%\n",
      "o => 10.28%\n",
      "e => 9.12%\n",
      "a => 7.92%\n",
      "s => 6.86%\n",
      "r => 5.44%\n",
      "m => 4.54%\n",
      "i => 4.51%\n",
      "t => 4.34%\n",
      "n => 3.85%\n"
     ]
    }
   ],
   "source": [
    "analisa_frequencia_de_letras(texto2)"
   ]
  }
 ],
 "metadata": {
  "kernelspec": {
   "display_name": "Python 3.11.0 64-bit",
   "language": "python",
   "name": "python3"
  },
  "language_info": {
   "codemirror_mode": {
    "name": "ipython",
    "version": 3
   },
   "file_extension": ".py",
   "mimetype": "text/x-python",
   "name": "python",
   "nbconvert_exporter": "python",
   "pygments_lexer": "ipython3",
   "version": "3.11.0"
  },
  "orig_nbformat": 4,
  "vscode": {
   "interpreter": {
    "hash": "5238573367df39f7286bb46f9ff5f08f63a01a80960060ce41e3c79b190280fa"
   }
  }
 },
 "nbformat": 4,
 "nbformat_minor": 2
}
