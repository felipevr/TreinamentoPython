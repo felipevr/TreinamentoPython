{
 "cells": [
  {
   "cell_type": "markdown",
   "metadata": {},
   "source": [
    "Continuando com Collections\n",
    "https://cursos.alura.com.br/course/python-collections-conjuntos-e-dicionarios/task/53511"
   ]
  },
  {
   "cell_type": "code",
   "execution_count": 1,
   "metadata": {},
   "outputs": [],
   "source": [
    "usuarios_ds = [15, 23, 43, 56]\n",
    "usuarios_ml = [13, 23, 56, 42]"
   ]
  },
  {
   "cell_type": "code",
   "execution_count": 3,
   "metadata": {},
   "outputs": [
    {
     "data": {
      "text/plain": [
       "[15, 23, 43, 56, 13, 23, 56, 42]"
      ]
     },
     "execution_count": 3,
     "metadata": {},
     "output_type": "execute_result"
    }
   ],
   "source": [
    "assistiram = usuarios_ds.copy()\n",
    "assistiram.extend(usuarios_ml)\n",
    "assistiram"
   ]
  },
  {
   "cell_type": "code",
   "execution_count": 4,
   "metadata": {},
   "outputs": [
    {
     "data": {
      "text/plain": [
       "8"
      ]
     },
     "execution_count": 4,
     "metadata": {},
     "output_type": "execute_result"
    }
   ],
   "source": [
    "len(assistiram)"
   ]
  },
  {
   "cell_type": "code",
   "execution_count": 5,
   "metadata": {},
   "outputs": [
    {
     "data": {
      "text/plain": [
       "{13, 15, 23, 42, 43, 56}"
      ]
     },
     "execution_count": 5,
     "metadata": {},
     "output_type": "execute_result"
    }
   ],
   "source": [
    "set(assistiram)"
   ]
  },
  {
   "cell_type": "code",
   "execution_count": 7,
   "metadata": {},
   "outputs": [
    {
     "data": {
      "text/plain": [
       "set"
      ]
     },
     "execution_count": 7,
     "metadata": {},
     "output_type": "execute_result"
    }
   ],
   "source": [
    "type({1,2,3, 1,4})"
   ]
  },
  {
   "cell_type": "code",
   "execution_count": 8,
   "metadata": {},
   "outputs": [
    {
     "data": {
      "text/plain": [
       "dict"
      ]
     },
     "execution_count": 8,
     "metadata": {},
     "output_type": "execute_result"
    }
   ],
   "source": [
    "type({1:'as'})"
   ]
  },
  {
   "cell_type": "code",
   "execution_count": 10,
   "metadata": {},
   "outputs": [],
   "source": [
    "usuarios_ds = {15, 23, 43, 56}\n",
    "usuarios_ml = {13, 23, 56, 42}"
   ]
  },
  {
   "cell_type": "code",
   "execution_count": 11,
   "metadata": {},
   "outputs": [
    {
     "ename": "TypeError",
     "evalue": "'set' object is not subscriptable",
     "output_type": "error",
     "traceback": [
      "\u001b[1;31m---------------------------------------------------------------------------\u001b[0m",
      "\u001b[1;31mTypeError\u001b[0m                                 Traceback (most recent call last)",
      "Cell \u001b[1;32mIn [11], line 1\u001b[0m\n\u001b[1;32m----> 1\u001b[0m usuarios_ds[\u001b[39m2\u001b[39;49m]\n",
      "\u001b[1;31mTypeError\u001b[0m: 'set' object is not subscriptable"
     ]
    }
   ],
   "source": [
    "usuarios_ds[2]"
   ]
  },
  {
   "cell_type": "code",
   "execution_count": 9,
   "metadata": {},
   "outputs": [
    {
     "name": "stdout",
     "output_type": "stream",
     "text": [
      "42\n",
      "43\n",
      "13\n",
      "15\n",
      "23\n",
      "56\n"
     ]
    }
   ],
   "source": [
    "for usuario in set(assistiram):\n",
    "    print(usuario)"
   ]
  },
  {
   "cell_type": "code",
   "execution_count": 12,
   "metadata": {},
   "outputs": [
    {
     "data": {
      "text/plain": [
       "{13, 15, 23, 42, 43, 56}"
      ]
     },
     "execution_count": 12,
     "metadata": {},
     "output_type": "execute_result"
    }
   ],
   "source": [
    "usuarios_ds | usuarios_ml"
   ]
  },
  {
   "cell_type": "code",
   "execution_count": 13,
   "metadata": {},
   "outputs": [
    {
     "data": {
      "text/plain": [
       "{23, 56}"
      ]
     },
     "execution_count": 13,
     "metadata": {},
     "output_type": "execute_result"
    }
   ],
   "source": [
    "usuarios_ds & usuarios_ml"
   ]
  },
  {
   "cell_type": "code",
   "execution_count": 1,
   "metadata": {},
   "outputs": [
    {
     "data": {
      "text/plain": [
       "['Olá',\n",
       " 'meu',\n",
       " 'nome',\n",
       " 'é',\n",
       " 'felipe',\n",
       " 'e',\n",
       " 'eu',\n",
       " 'gosto',\n",
       " 'muito',\n",
       " 'de',\n",
       " 'coelhos',\n",
       " ',',\n",
       " 'coelhos',\n",
       " 'são',\n",
       " 'legais',\n",
       " 'e',\n",
       " 'coelhos',\n",
       " 'comem',\n",
       " 'muito',\n",
       " 'alface',\n",
       " '.',\n",
       " 'Eu',\n",
       " 'gosto',\n",
       " 'de',\n",
       " 'comer',\n",
       " 'alface',\n",
       " 'também']"
      ]
     },
     "execution_count": 1,
     "metadata": {},
     "output_type": "execute_result"
    }
   ],
   "source": [
    "meu_texto = \"Olá meu nome é felipe e eu gosto muito de coelhos , coelhos são legais e coelhos comem muito alface . Eu gosto de comer alface também\"\n",
    "meu_texto.split()"
   ]
  },
  {
   "cell_type": "code",
   "execution_count": 2,
   "metadata": {},
   "outputs": [
    {
     "data": {
      "text/plain": [
       "{',',\n",
       " '.',\n",
       " 'Eu',\n",
       " 'Olá',\n",
       " 'alface',\n",
       " 'coelhos',\n",
       " 'comem',\n",
       " 'comer',\n",
       " 'de',\n",
       " 'e',\n",
       " 'eu',\n",
       " 'felipe',\n",
       " 'gosto',\n",
       " 'legais',\n",
       " 'meu',\n",
       " 'muito',\n",
       " 'nome',\n",
       " 'são',\n",
       " 'também',\n",
       " 'é'}"
      ]
     },
     "execution_count": 2,
     "metadata": {},
     "output_type": "execute_result"
    }
   ],
   "source": [
    "set(meu_texto.split())"
   ]
  },
  {
   "cell_type": "code",
   "execution_count": 4,
   "metadata": {},
   "outputs": [
    {
     "data": {
      "text/plain": [
       "{'felipe': 3, 'coelho': 3, 'meu': 3, 'maria': 0}"
      ]
     },
     "execution_count": 4,
     "metadata": {},
     "output_type": "execute_result"
    }
   ],
   "source": [
    "aparicoes = {\n",
    "    \"felipe\": 3,\n",
    "    \"coelho\": 3,\n",
    "    \"meu\": 3,\n",
    "    \"maria\": 0\n",
    "}\n",
    "aparicoes"
   ]
  },
  {
   "cell_type": "code",
   "execution_count": 5,
   "metadata": {},
   "outputs": [
    {
     "data": {
      "text/plain": [
       "dict"
      ]
     },
     "execution_count": 5,
     "metadata": {},
     "output_type": "execute_result"
    }
   ],
   "source": [
    "type(aparicoes)"
   ]
  },
  {
   "cell_type": "code",
   "execution_count": 6,
   "metadata": {},
   "outputs": [
    {
     "data": {
      "text/plain": [
       "3"
      ]
     },
     "execution_count": 6,
     "metadata": {},
     "output_type": "execute_result"
    }
   ],
   "source": [
    "aparicoes[\"felipe\"]"
   ]
  },
  {
   "cell_type": "code",
   "execution_count": 12,
   "metadata": {},
   "outputs": [
    {
     "data": {
      "text/plain": [
       "NoneType"
      ]
     },
     "execution_count": 12,
     "metadata": {},
     "output_type": "execute_result"
    }
   ],
   "source": [
    "a = aparicoes.get(\"teste\")\n",
    "type(a)"
   ]
  },
  {
   "cell_type": "code",
   "execution_count": 15,
   "metadata": {},
   "outputs": [
    {
     "data": {
      "text/plain": [
       "0"
      ]
     },
     "execution_count": 15,
     "metadata": {},
     "output_type": "execute_result"
    }
   ],
   "source": [
    "aparicoes.get(\"asdf\", 0)"
   ]
  },
  {
   "cell_type": "code",
   "execution_count": 13,
   "metadata": {},
   "outputs": [
    {
     "data": {
      "text/plain": [
       "3"
      ]
     },
     "execution_count": 13,
     "metadata": {},
     "output_type": "execute_result"
    }
   ],
   "source": [
    "aparicoes.get(\"felipe\",0)"
   ]
  },
  {
   "cell_type": "code",
   "execution_count": 17,
   "metadata": {},
   "outputs": [
    {
     "data": {
      "text/plain": [
       "{'asdf': 2, 'ewrw': 3, 'jujuba': 4}"
      ]
     },
     "execution_count": 17,
     "metadata": {},
     "output_type": "execute_result"
    }
   ],
   "source": [
    "teste = dict (asdf = 2, ewrw = 3, jujuba = 4)\n",
    "teste"
   ]
  },
  {
   "cell_type": "code",
   "execution_count": 18,
   "metadata": {},
   "outputs": [],
   "source": [
    "aparicoes = {\n",
    "    \"felipe\": 3,\n",
    "    \"coelho\": 3,\n",
    "    \"meu\": 3,\n",
    "    \"maria\": 0\n",
    "}"
   ]
  },
  {
   "cell_type": "code",
   "execution_count": 20,
   "metadata": {},
   "outputs": [
    {
     "data": {
      "text/plain": [
       "{'felipe': 3, 'coelho': 3, 'meu': 3, 'maria': 0, 'jujuba': 2}"
      ]
     },
     "execution_count": 20,
     "metadata": {},
     "output_type": "execute_result"
    }
   ],
   "source": [
    "aparicoes[\"jujuba\"] = 2\n",
    "aparicoes"
   ]
  },
  {
   "cell_type": "code",
   "execution_count": 21,
   "metadata": {},
   "outputs": [
    {
     "data": {
      "text/plain": [
       "{'felipe': 3, 'coelho': 3, 'meu': 3, 'jujuba': 2}"
      ]
     },
     "execution_count": 21,
     "metadata": {},
     "output_type": "execute_result"
    }
   ],
   "source": [
    "del aparicoes[\"maria\"]\n",
    "aparicoes"
   ]
  },
  {
   "cell_type": "code",
   "execution_count": 22,
   "metadata": {},
   "outputs": [
    {
     "data": {
      "text/plain": [
       "True"
      ]
     },
     "execution_count": 22,
     "metadata": {},
     "output_type": "execute_result"
    }
   ],
   "source": [
    "\"jujuba\" in aparicoes"
   ]
  },
  {
   "cell_type": "code",
   "execution_count": 23,
   "metadata": {},
   "outputs": [
    {
     "data": {
      "text/plain": [
       "False"
      ]
     },
     "execution_count": 23,
     "metadata": {},
     "output_type": "execute_result"
    }
   ],
   "source": [
    "\"maria\" in aparicoes"
   ]
  },
  {
   "cell_type": "code",
   "execution_count": 24,
   "metadata": {},
   "outputs": [
    {
     "name": "stdout",
     "output_type": "stream",
     "text": [
      "felipe\n",
      "coelho\n",
      "meu\n",
      "jujuba\n"
     ]
    }
   ],
   "source": [
    "for elementos in aparicoes:\n",
    "    print(elementos)"
   ]
  },
  {
   "cell_type": "code",
   "execution_count": 25,
   "metadata": {},
   "outputs": [
    {
     "data": {
      "text/plain": [
       "dict_keys(['felipe', 'coelho', 'meu', 'jujuba'])"
      ]
     },
     "execution_count": 25,
     "metadata": {},
     "output_type": "execute_result"
    }
   ],
   "source": [
    "aparicoes.keys()"
   ]
  },
  {
   "cell_type": "code",
   "execution_count": 26,
   "metadata": {},
   "outputs": [
    {
     "data": {
      "text/plain": [
       "dict_values([3, 3, 3, 2])"
      ]
     },
     "execution_count": 26,
     "metadata": {},
     "output_type": "execute_result"
    }
   ],
   "source": [
    "aparicoes.values()"
   ]
  },
  {
   "cell_type": "code",
   "execution_count": 28,
   "metadata": {},
   "outputs": [
    {
     "name": "stdout",
     "output_type": "stream",
     "text": [
      "felipe 3\n",
      "coelho 3\n",
      "meu 3\n",
      "jujuba 2\n"
     ]
    }
   ],
   "source": [
    "for key in aparicoes:\n",
    "    value = aparicoes[key]\n",
    "    print(key, value)"
   ]
  },
  {
   "cell_type": "code",
   "execution_count": 29,
   "metadata": {},
   "outputs": [
    {
     "name": "stdout",
     "output_type": "stream",
     "text": [
      "('felipe', 3)\n",
      "('coelho', 3)\n",
      "('meu', 3)\n",
      "('jujuba', 2)\n"
     ]
    }
   ],
   "source": [
    "for elemento in aparicoes.items():\n",
    "    print(elemento)"
   ]
  },
  {
   "cell_type": "code",
   "execution_count": 30,
   "metadata": {},
   "outputs": [
    {
     "name": "stdout",
     "output_type": "stream",
     "text": [
      "felipe = 3\n",
      "coelho = 3\n",
      "meu = 3\n",
      "jujuba = 2\n"
     ]
    }
   ],
   "source": [
    "for chave, valor in aparicoes.items():\n",
    "    print(chave, \"=\", valor)"
   ]
  },
  {
   "cell_type": "code",
   "execution_count": 6,
   "metadata": {},
   "outputs": [
    {
     "data": {
      "text/plain": [
       "{'olá': 1,\n",
       " 'meu': 1,\n",
       " 'nome': 1,\n",
       " 'é': 1,\n",
       " 'felipe': 1,\n",
       " 'e': 2,\n",
       " 'eu': 2,\n",
       " 'gosto': 2,\n",
       " 'muito': 2,\n",
       " 'de': 2,\n",
       " 'coelhos': 3,\n",
       " ',': 1,\n",
       " 'são': 1,\n",
       " 'legais': 1,\n",
       " 'comem': 1,\n",
       " 'alface': 2,\n",
       " '.': 1,\n",
       " 'comer': 1,\n",
       " 'também': 1}"
      ]
     },
     "execution_count": 6,
     "metadata": {},
     "output_type": "execute_result"
    }
   ],
   "source": [
    "meu_texto = \"Olá meu nome é felipe e eu gosto muito de coelhos , coelhos são legais e coelhos comem muito alface . Eu gosto de comer alface também\".lower()\n",
    "aparicoes = {}\n",
    "for palavra in meu_texto.split():\n",
    "    ate_agora = aparicoes.get(palavra, 0)\n",
    "    aparicoes[palavra] = ate_agora + 1\n",
    "aparicoes"
   ]
  },
  {
   "cell_type": "code",
   "execution_count": 9,
   "metadata": {},
   "outputs": [
    {
     "data": {
      "text/plain": [
       "defaultdict(int,\n",
       "            {'olá': 1,\n",
       "             'meu': 1,\n",
       "             'nome': 1,\n",
       "             'é': 1,\n",
       "             'felipe': 1,\n",
       "             'e': 2,\n",
       "             'eu': 2,\n",
       "             'gosto': 2,\n",
       "             'muito': 2,\n",
       "             'de': 2,\n",
       "             'coelhos': 3,\n",
       "             ',': 1,\n",
       "             'são': 1,\n",
       "             'legais': 1,\n",
       "             'comem': 1,\n",
       "             'alface': 2,\n",
       "             '.': 1,\n",
       "             'comer': 1,\n",
       "             'também': 1})"
      ]
     },
     "execution_count": 9,
     "metadata": {},
     "output_type": "execute_result"
    }
   ],
   "source": [
    "from collections import defaultdict\n",
    "\n",
    "aparicoes = defaultdict(int)\n",
    "for palavra in meu_texto.split():\n",
    "    ate_agora = aparicoes[palavra]\n",
    "    aparicoes[palavra] = ate_agora + 1\n",
    "aparicoes"
   ]
  },
  {
   "cell_type": "code",
   "execution_count": 10,
   "metadata": {},
   "outputs": [
    {
     "data": {
      "text/plain": [
       "defaultdict(int,\n",
       "            {'olá': 1,\n",
       "             'meu': 1,\n",
       "             'nome': 1,\n",
       "             'é': 1,\n",
       "             'felipe': 1,\n",
       "             'e': 2,\n",
       "             'eu': 2,\n",
       "             'gosto': 2,\n",
       "             'muito': 2,\n",
       "             'de': 2,\n",
       "             'coelhos': 3,\n",
       "             ',': 1,\n",
       "             'são': 1,\n",
       "             'legais': 1,\n",
       "             'comem': 1,\n",
       "             'alface': 2,\n",
       "             '.': 1,\n",
       "             'comer': 1,\n",
       "             'também': 1})"
      ]
     },
     "execution_count": 10,
     "metadata": {},
     "output_type": "execute_result"
    }
   ],
   "source": [
    "from collections import defaultdict\n",
    "\n",
    "aparicoes = defaultdict(int)\n",
    "for palavra in meu_texto.split():\n",
    "    aparicoes[palavra] +=  1\n",
    "aparicoes"
   ]
  },
  {
   "cell_type": "code",
   "execution_count": 12,
   "metadata": {},
   "outputs": [
    {
     "name": "stdout",
     "output_type": "stream",
     "text": [
      "Criando uma conta\n"
     ]
    },
    {
     "data": {
      "text/plain": [
       "<__main__.Conta at 0x1c62b0a7850>"
      ]
     },
     "execution_count": 12,
     "metadata": {},
     "output_type": "execute_result"
    }
   ],
   "source": [
    "class Conta:\n",
    "    def __init__(self) -> None:\n",
    "        print(\"Criando uma conta\")\n",
    "\n",
    "contas = defaultdict(Conta)\n",
    "contas[15]"
   ]
  },
  {
   "cell_type": "code",
   "execution_count": 13,
   "metadata": {},
   "outputs": [
    {
     "name": "stdout",
     "output_type": "stream",
     "text": [
      "Criando uma conta\n"
     ]
    },
    {
     "data": {
      "text/plain": [
       "<__main__.Conta at 0x1c62b022510>"
      ]
     },
     "execution_count": 13,
     "metadata": {},
     "output_type": "execute_result"
    }
   ],
   "source": [
    "contas[17]"
   ]
  },
  {
   "cell_type": "code",
   "execution_count": 14,
   "metadata": {},
   "outputs": [
    {
     "data": {
      "text/plain": [
       "<__main__.Conta at 0x1c62b0a7850>"
      ]
     },
     "execution_count": 14,
     "metadata": {},
     "output_type": "execute_result"
    }
   ],
   "source": [
    "contas[15]"
   ]
  },
  {
   "cell_type": "code",
   "execution_count": 15,
   "metadata": {},
   "outputs": [
    {
     "name": "stdout",
     "output_type": "stream",
     "text": [
      "15\n",
      "17\n"
     ]
    }
   ],
   "source": [
    "for conta in contas:\n",
    "    print(conta)"
   ]
  },
  {
   "cell_type": "code",
   "execution_count": 16,
   "metadata": {},
   "outputs": [
    {
     "data": {
      "text/plain": [
       "Counter({'olá': 1,\n",
       "         'meu': 1,\n",
       "         'nome': 1,\n",
       "         'é': 1,\n",
       "         'felipe': 1,\n",
       "         'e': 2,\n",
       "         'eu': 2,\n",
       "         'gosto': 2,\n",
       "         'muito': 2,\n",
       "         'de': 2,\n",
       "         'coelhos': 3,\n",
       "         ',': 1,\n",
       "         'são': 1,\n",
       "         'legais': 1,\n",
       "         'comem': 1,\n",
       "         'alface': 2,\n",
       "         '.': 1,\n",
       "         'comer': 1,\n",
       "         'também': 1})"
      ]
     },
     "execution_count": 16,
     "metadata": {},
     "output_type": "execute_result"
    }
   ],
   "source": [
    "from collections import Counter\n",
    "\n",
    "aparicoes = Counter(meu_texto.split())\n",
    "aparicoes"
   ]
  }
 ],
 "metadata": {
  "kernelspec": {
   "display_name": "Python 3.11.0 64-bit",
   "language": "python",
   "name": "python3"
  },
  "language_info": {
   "codemirror_mode": {
    "name": "ipython",
    "version": 3
   },
   "file_extension": ".py",
   "mimetype": "text/x-python",
   "name": "python",
   "nbconvert_exporter": "python",
   "pygments_lexer": "ipython3",
   "version": "3.11.0"
  },
  "orig_nbformat": 4,
  "vscode": {
   "interpreter": {
    "hash": "5238573367df39f7286bb46f9ff5f08f63a01a80960060ce41e3c79b190280fa"
   }
  }
 },
 "nbformat": 4,
 "nbformat_minor": 2
}
